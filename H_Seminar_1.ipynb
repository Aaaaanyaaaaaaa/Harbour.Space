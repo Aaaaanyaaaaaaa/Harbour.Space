{
  "nbformat": 4,
  "nbformat_minor": 0,
  "metadata": {
    "colab": {
      "provenance": []
    },
    "kernelspec": {
      "name": "python3",
      "display_name": "Python 3"
    },
    "language_info": {
      "name": "python"
    },
    "widgets": {
      "application/vnd.jupyter.widget-state+json": {
        "4d59e4fe620f40fe8326df0156ca72c7": {
          "model_module": "@jupyter-widgets/controls",
          "model_name": "HBoxModel",
          "model_module_version": "1.5.0",
          "state": {
            "_dom_classes": [],
            "_model_module": "@jupyter-widgets/controls",
            "_model_module_version": "1.5.0",
            "_model_name": "HBoxModel",
            "_view_count": null,
            "_view_module": "@jupyter-widgets/controls",
            "_view_module_version": "1.5.0",
            "_view_name": "HBoxView",
            "box_style": "",
            "children": [
              "IPY_MODEL_c363acf4d4a44500ab180e6263d1c71c",
              "IPY_MODEL_255cc8ed0cb2420fbe4aa0a120c4bdd6",
              "IPY_MODEL_dff293d7789749628dd8e913d433b013"
            ],
            "layout": "IPY_MODEL_81f6bde6806344dfbd4113e51b19a18e"
          }
        },
        "c363acf4d4a44500ab180e6263d1c71c": {
          "model_module": "@jupyter-widgets/controls",
          "model_name": "HTMLModel",
          "model_module_version": "1.5.0",
          "state": {
            "_dom_classes": [],
            "_model_module": "@jupyter-widgets/controls",
            "_model_module_version": "1.5.0",
            "_model_name": "HTMLModel",
            "_view_count": null,
            "_view_module": "@jupyter-widgets/controls",
            "_view_module_version": "1.5.0",
            "_view_name": "HTMLView",
            "description": "",
            "description_tooltip": null,
            "layout": "IPY_MODEL_192eea69f59d43dd85c64dc39941f75c",
            "placeholder": "​",
            "style": "IPY_MODEL_4a2b451aa89644f88112d8d62e6fdef2",
            "value": ".gitattributes: 100%"
          }
        },
        "255cc8ed0cb2420fbe4aa0a120c4bdd6": {
          "model_module": "@jupyter-widgets/controls",
          "model_name": "FloatProgressModel",
          "model_module_version": "1.5.0",
          "state": {
            "_dom_classes": [],
            "_model_module": "@jupyter-widgets/controls",
            "_model_module_version": "1.5.0",
            "_model_name": "FloatProgressModel",
            "_view_count": null,
            "_view_module": "@jupyter-widgets/controls",
            "_view_module_version": "1.5.0",
            "_view_name": "ProgressView",
            "bar_style": "success",
            "description": "",
            "description_tooltip": null,
            "layout": "IPY_MODEL_27bf56b0643640e38f015c85b2bb8fed",
            "max": 391,
            "min": 0,
            "orientation": "horizontal",
            "style": "IPY_MODEL_88f1d2208e944b109bf89378dfa0ef8a",
            "value": 391
          }
        },
        "dff293d7789749628dd8e913d433b013": {
          "model_module": "@jupyter-widgets/controls",
          "model_name": "HTMLModel",
          "model_module_version": "1.5.0",
          "state": {
            "_dom_classes": [],
            "_model_module": "@jupyter-widgets/controls",
            "_model_module_version": "1.5.0",
            "_model_name": "HTMLModel",
            "_view_count": null,
            "_view_module": "@jupyter-widgets/controls",
            "_view_module_version": "1.5.0",
            "_view_name": "HTMLView",
            "description": "",
            "description_tooltip": null,
            "layout": "IPY_MODEL_34e985336a2a4b5392feaabaeacb0eac",
            "placeholder": "​",
            "style": "IPY_MODEL_a55936ca635643b9bf64e4618afa3446",
            "value": " 391/391 [00:00&lt;00:00, 17.4kB/s]"
          }
        },
        "81f6bde6806344dfbd4113e51b19a18e": {
          "model_module": "@jupyter-widgets/base",
          "model_name": "LayoutModel",
          "model_module_version": "1.2.0",
          "state": {
            "_model_module": "@jupyter-widgets/base",
            "_model_module_version": "1.2.0",
            "_model_name": "LayoutModel",
            "_view_count": null,
            "_view_module": "@jupyter-widgets/base",
            "_view_module_version": "1.2.0",
            "_view_name": "LayoutView",
            "align_content": null,
            "align_items": null,
            "align_self": null,
            "border": null,
            "bottom": null,
            "display": null,
            "flex": null,
            "flex_flow": null,
            "grid_area": null,
            "grid_auto_columns": null,
            "grid_auto_flow": null,
            "grid_auto_rows": null,
            "grid_column": null,
            "grid_gap": null,
            "grid_row": null,
            "grid_template_areas": null,
            "grid_template_columns": null,
            "grid_template_rows": null,
            "height": null,
            "justify_content": null,
            "justify_items": null,
            "left": null,
            "margin": null,
            "max_height": null,
            "max_width": null,
            "min_height": null,
            "min_width": null,
            "object_fit": null,
            "object_position": null,
            "order": null,
            "overflow": null,
            "overflow_x": null,
            "overflow_y": null,
            "padding": null,
            "right": null,
            "top": null,
            "visibility": null,
            "width": null
          }
        },
        "192eea69f59d43dd85c64dc39941f75c": {
          "model_module": "@jupyter-widgets/base",
          "model_name": "LayoutModel",
          "model_module_version": "1.2.0",
          "state": {
            "_model_module": "@jupyter-widgets/base",
            "_model_module_version": "1.2.0",
            "_model_name": "LayoutModel",
            "_view_count": null,
            "_view_module": "@jupyter-widgets/base",
            "_view_module_version": "1.2.0",
            "_view_name": "LayoutView",
            "align_content": null,
            "align_items": null,
            "align_self": null,
            "border": null,
            "bottom": null,
            "display": null,
            "flex": null,
            "flex_flow": null,
            "grid_area": null,
            "grid_auto_columns": null,
            "grid_auto_flow": null,
            "grid_auto_rows": null,
            "grid_column": null,
            "grid_gap": null,
            "grid_row": null,
            "grid_template_areas": null,
            "grid_template_columns": null,
            "grid_template_rows": null,
            "height": null,
            "justify_content": null,
            "justify_items": null,
            "left": null,
            "margin": null,
            "max_height": null,
            "max_width": null,
            "min_height": null,
            "min_width": null,
            "object_fit": null,
            "object_position": null,
            "order": null,
            "overflow": null,
            "overflow_x": null,
            "overflow_y": null,
            "padding": null,
            "right": null,
            "top": null,
            "visibility": null,
            "width": null
          }
        },
        "4a2b451aa89644f88112d8d62e6fdef2": {
          "model_module": "@jupyter-widgets/controls",
          "model_name": "DescriptionStyleModel",
          "model_module_version": "1.5.0",
          "state": {
            "_model_module": "@jupyter-widgets/controls",
            "_model_module_version": "1.5.0",
            "_model_name": "DescriptionStyleModel",
            "_view_count": null,
            "_view_module": "@jupyter-widgets/base",
            "_view_module_version": "1.2.0",
            "_view_name": "StyleView",
            "description_width": ""
          }
        },
        "27bf56b0643640e38f015c85b2bb8fed": {
          "model_module": "@jupyter-widgets/base",
          "model_name": "LayoutModel",
          "model_module_version": "1.2.0",
          "state": {
            "_model_module": "@jupyter-widgets/base",
            "_model_module_version": "1.2.0",
            "_model_name": "LayoutModel",
            "_view_count": null,
            "_view_module": "@jupyter-widgets/base",
            "_view_module_version": "1.2.0",
            "_view_name": "LayoutView",
            "align_content": null,
            "align_items": null,
            "align_self": null,
            "border": null,
            "bottom": null,
            "display": null,
            "flex": null,
            "flex_flow": null,
            "grid_area": null,
            "grid_auto_columns": null,
            "grid_auto_flow": null,
            "grid_auto_rows": null,
            "grid_column": null,
            "grid_gap": null,
            "grid_row": null,
            "grid_template_areas": null,
            "grid_template_columns": null,
            "grid_template_rows": null,
            "height": null,
            "justify_content": null,
            "justify_items": null,
            "left": null,
            "margin": null,
            "max_height": null,
            "max_width": null,
            "min_height": null,
            "min_width": null,
            "object_fit": null,
            "object_position": null,
            "order": null,
            "overflow": null,
            "overflow_x": null,
            "overflow_y": null,
            "padding": null,
            "right": null,
            "top": null,
            "visibility": null,
            "width": null
          }
        },
        "88f1d2208e944b109bf89378dfa0ef8a": {
          "model_module": "@jupyter-widgets/controls",
          "model_name": "ProgressStyleModel",
          "model_module_version": "1.5.0",
          "state": {
            "_model_module": "@jupyter-widgets/controls",
            "_model_module_version": "1.5.0",
            "_model_name": "ProgressStyleModel",
            "_view_count": null,
            "_view_module": "@jupyter-widgets/base",
            "_view_module_version": "1.2.0",
            "_view_name": "StyleView",
            "bar_color": null,
            "description_width": ""
          }
        },
        "34e985336a2a4b5392feaabaeacb0eac": {
          "model_module": "@jupyter-widgets/base",
          "model_name": "LayoutModel",
          "model_module_version": "1.2.0",
          "state": {
            "_model_module": "@jupyter-widgets/base",
            "_model_module_version": "1.2.0",
            "_model_name": "LayoutModel",
            "_view_count": null,
            "_view_module": "@jupyter-widgets/base",
            "_view_module_version": "1.2.0",
            "_view_name": "LayoutView",
            "align_content": null,
            "align_items": null,
            "align_self": null,
            "border": null,
            "bottom": null,
            "display": null,
            "flex": null,
            "flex_flow": null,
            "grid_area": null,
            "grid_auto_columns": null,
            "grid_auto_flow": null,
            "grid_auto_rows": null,
            "grid_column": null,
            "grid_gap": null,
            "grid_row": null,
            "grid_template_areas": null,
            "grid_template_columns": null,
            "grid_template_rows": null,
            "height": null,
            "justify_content": null,
            "justify_items": null,
            "left": null,
            "margin": null,
            "max_height": null,
            "max_width": null,
            "min_height": null,
            "min_width": null,
            "object_fit": null,
            "object_position": null,
            "order": null,
            "overflow": null,
            "overflow_x": null,
            "overflow_y": null,
            "padding": null,
            "right": null,
            "top": null,
            "visibility": null,
            "width": null
          }
        },
        "a55936ca635643b9bf64e4618afa3446": {
          "model_module": "@jupyter-widgets/controls",
          "model_name": "DescriptionStyleModel",
          "model_module_version": "1.5.0",
          "state": {
            "_model_module": "@jupyter-widgets/controls",
            "_model_module_version": "1.5.0",
            "_model_name": "DescriptionStyleModel",
            "_view_count": null,
            "_view_module": "@jupyter-widgets/base",
            "_view_module_version": "1.2.0",
            "_view_name": "StyleView",
            "description_width": ""
          }
        },
        "91a0cbaddf1e429a9a92aaf1e3e06188": {
          "model_module": "@jupyter-widgets/controls",
          "model_name": "HBoxModel",
          "model_module_version": "1.5.0",
          "state": {
            "_dom_classes": [],
            "_model_module": "@jupyter-widgets/controls",
            "_model_module_version": "1.5.0",
            "_model_name": "HBoxModel",
            "_view_count": null,
            "_view_module": "@jupyter-widgets/controls",
            "_view_module_version": "1.5.0",
            "_view_name": "HBoxView",
            "box_style": "",
            "children": [
              "IPY_MODEL_49bf3189059d4ca28319949b78937de1",
              "IPY_MODEL_dcca3e0c9ceb4c7d994a6ecd4bee59e3",
              "IPY_MODEL_5a3f2fa512fd474b94581b62304f011d"
            ],
            "layout": "IPY_MODEL_6ee7478b55244b109b6bf32440b4c497"
          }
        },
        "49bf3189059d4ca28319949b78937de1": {
          "model_module": "@jupyter-widgets/controls",
          "model_name": "HTMLModel",
          "model_module_version": "1.5.0",
          "state": {
            "_dom_classes": [],
            "_model_module": "@jupyter-widgets/controls",
            "_model_module_version": "1.5.0",
            "_model_name": "HTMLModel",
            "_view_count": null,
            "_view_module": "@jupyter-widgets/controls",
            "_view_module_version": "1.5.0",
            "_view_name": "HTMLView",
            "description": "",
            "description_tooltip": null,
            "layout": "IPY_MODEL_47f4272e832c4d33adce293752c006b0",
            "placeholder": "​",
            "style": "IPY_MODEL_33a2e9582d244ac7832817cc270273f5",
            "value": "1_Pooling/config.json: 100%"
          }
        },
        "dcca3e0c9ceb4c7d994a6ecd4bee59e3": {
          "model_module": "@jupyter-widgets/controls",
          "model_name": "FloatProgressModel",
          "model_module_version": "1.5.0",
          "state": {
            "_dom_classes": [],
            "_model_module": "@jupyter-widgets/controls",
            "_model_module_version": "1.5.0",
            "_model_name": "FloatProgressModel",
            "_view_count": null,
            "_view_module": "@jupyter-widgets/controls",
            "_view_module_version": "1.5.0",
            "_view_name": "ProgressView",
            "bar_style": "success",
            "description": "",
            "description_tooltip": null,
            "layout": "IPY_MODEL_7e53b982730944209f22e1389d2ccb03",
            "max": 190,
            "min": 0,
            "orientation": "horizontal",
            "style": "IPY_MODEL_4b7f4f9ed8b644218d326a157a2da238",
            "value": 190
          }
        },
        "5a3f2fa512fd474b94581b62304f011d": {
          "model_module": "@jupyter-widgets/controls",
          "model_name": "HTMLModel",
          "model_module_version": "1.5.0",
          "state": {
            "_dom_classes": [],
            "_model_module": "@jupyter-widgets/controls",
            "_model_module_version": "1.5.0",
            "_model_name": "HTMLModel",
            "_view_count": null,
            "_view_module": "@jupyter-widgets/controls",
            "_view_module_version": "1.5.0",
            "_view_name": "HTMLView",
            "description": "",
            "description_tooltip": null,
            "layout": "IPY_MODEL_1336580f72bb4ec588f81a8987bbe6c1",
            "placeholder": "​",
            "style": "IPY_MODEL_4555dd076c464fc3832b62f805da8598",
            "value": " 190/190 [00:00&lt;00:00, 9.36kB/s]"
          }
        },
        "6ee7478b55244b109b6bf32440b4c497": {
          "model_module": "@jupyter-widgets/base",
          "model_name": "LayoutModel",
          "model_module_version": "1.2.0",
          "state": {
            "_model_module": "@jupyter-widgets/base",
            "_model_module_version": "1.2.0",
            "_model_name": "LayoutModel",
            "_view_count": null,
            "_view_module": "@jupyter-widgets/base",
            "_view_module_version": "1.2.0",
            "_view_name": "LayoutView",
            "align_content": null,
            "align_items": null,
            "align_self": null,
            "border": null,
            "bottom": null,
            "display": null,
            "flex": null,
            "flex_flow": null,
            "grid_area": null,
            "grid_auto_columns": null,
            "grid_auto_flow": null,
            "grid_auto_rows": null,
            "grid_column": null,
            "grid_gap": null,
            "grid_row": null,
            "grid_template_areas": null,
            "grid_template_columns": null,
            "grid_template_rows": null,
            "height": null,
            "justify_content": null,
            "justify_items": null,
            "left": null,
            "margin": null,
            "max_height": null,
            "max_width": null,
            "min_height": null,
            "min_width": null,
            "object_fit": null,
            "object_position": null,
            "order": null,
            "overflow": null,
            "overflow_x": null,
            "overflow_y": null,
            "padding": null,
            "right": null,
            "top": null,
            "visibility": null,
            "width": null
          }
        },
        "47f4272e832c4d33adce293752c006b0": {
          "model_module": "@jupyter-widgets/base",
          "model_name": "LayoutModel",
          "model_module_version": "1.2.0",
          "state": {
            "_model_module": "@jupyter-widgets/base",
            "_model_module_version": "1.2.0",
            "_model_name": "LayoutModel",
            "_view_count": null,
            "_view_module": "@jupyter-widgets/base",
            "_view_module_version": "1.2.0",
            "_view_name": "LayoutView",
            "align_content": null,
            "align_items": null,
            "align_self": null,
            "border": null,
            "bottom": null,
            "display": null,
            "flex": null,
            "flex_flow": null,
            "grid_area": null,
            "grid_auto_columns": null,
            "grid_auto_flow": null,
            "grid_auto_rows": null,
            "grid_column": null,
            "grid_gap": null,
            "grid_row": null,
            "grid_template_areas": null,
            "grid_template_columns": null,
            "grid_template_rows": null,
            "height": null,
            "justify_content": null,
            "justify_items": null,
            "left": null,
            "margin": null,
            "max_height": null,
            "max_width": null,
            "min_height": null,
            "min_width": null,
            "object_fit": null,
            "object_position": null,
            "order": null,
            "overflow": null,
            "overflow_x": null,
            "overflow_y": null,
            "padding": null,
            "right": null,
            "top": null,
            "visibility": null,
            "width": null
          }
        },
        "33a2e9582d244ac7832817cc270273f5": {
          "model_module": "@jupyter-widgets/controls",
          "model_name": "DescriptionStyleModel",
          "model_module_version": "1.5.0",
          "state": {
            "_model_module": "@jupyter-widgets/controls",
            "_model_module_version": "1.5.0",
            "_model_name": "DescriptionStyleModel",
            "_view_count": null,
            "_view_module": "@jupyter-widgets/base",
            "_view_module_version": "1.2.0",
            "_view_name": "StyleView",
            "description_width": ""
          }
        },
        "7e53b982730944209f22e1389d2ccb03": {
          "model_module": "@jupyter-widgets/base",
          "model_name": "LayoutModel",
          "model_module_version": "1.2.0",
          "state": {
            "_model_module": "@jupyter-widgets/base",
            "_model_module_version": "1.2.0",
            "_model_name": "LayoutModel",
            "_view_count": null,
            "_view_module": "@jupyter-widgets/base",
            "_view_module_version": "1.2.0",
            "_view_name": "LayoutView",
            "align_content": null,
            "align_items": null,
            "align_self": null,
            "border": null,
            "bottom": null,
            "display": null,
            "flex": null,
            "flex_flow": null,
            "grid_area": null,
            "grid_auto_columns": null,
            "grid_auto_flow": null,
            "grid_auto_rows": null,
            "grid_column": null,
            "grid_gap": null,
            "grid_row": null,
            "grid_template_areas": null,
            "grid_template_columns": null,
            "grid_template_rows": null,
            "height": null,
            "justify_content": null,
            "justify_items": null,
            "left": null,
            "margin": null,
            "max_height": null,
            "max_width": null,
            "min_height": null,
            "min_width": null,
            "object_fit": null,
            "object_position": null,
            "order": null,
            "overflow": null,
            "overflow_x": null,
            "overflow_y": null,
            "padding": null,
            "right": null,
            "top": null,
            "visibility": null,
            "width": null
          }
        },
        "4b7f4f9ed8b644218d326a157a2da238": {
          "model_module": "@jupyter-widgets/controls",
          "model_name": "ProgressStyleModel",
          "model_module_version": "1.5.0",
          "state": {
            "_model_module": "@jupyter-widgets/controls",
            "_model_module_version": "1.5.0",
            "_model_name": "ProgressStyleModel",
            "_view_count": null,
            "_view_module": "@jupyter-widgets/base",
            "_view_module_version": "1.2.0",
            "_view_name": "StyleView",
            "bar_color": null,
            "description_width": ""
          }
        },
        "1336580f72bb4ec588f81a8987bbe6c1": {
          "model_module": "@jupyter-widgets/base",
          "model_name": "LayoutModel",
          "model_module_version": "1.2.0",
          "state": {
            "_model_module": "@jupyter-widgets/base",
            "_model_module_version": "1.2.0",
            "_model_name": "LayoutModel",
            "_view_count": null,
            "_view_module": "@jupyter-widgets/base",
            "_view_module_version": "1.2.0",
            "_view_name": "LayoutView",
            "align_content": null,
            "align_items": null,
            "align_self": null,
            "border": null,
            "bottom": null,
            "display": null,
            "flex": null,
            "flex_flow": null,
            "grid_area": null,
            "grid_auto_columns": null,
            "grid_auto_flow": null,
            "grid_auto_rows": null,
            "grid_column": null,
            "grid_gap": null,
            "grid_row": null,
            "grid_template_areas": null,
            "grid_template_columns": null,
            "grid_template_rows": null,
            "height": null,
            "justify_content": null,
            "justify_items": null,
            "left": null,
            "margin": null,
            "max_height": null,
            "max_width": null,
            "min_height": null,
            "min_width": null,
            "object_fit": null,
            "object_position": null,
            "order": null,
            "overflow": null,
            "overflow_x": null,
            "overflow_y": null,
            "padding": null,
            "right": null,
            "top": null,
            "visibility": null,
            "width": null
          }
        },
        "4555dd076c464fc3832b62f805da8598": {
          "model_module": "@jupyter-widgets/controls",
          "model_name": "DescriptionStyleModel",
          "model_module_version": "1.5.0",
          "state": {
            "_model_module": "@jupyter-widgets/controls",
            "_model_module_version": "1.5.0",
            "_model_name": "DescriptionStyleModel",
            "_view_count": null,
            "_view_module": "@jupyter-widgets/base",
            "_view_module_version": "1.2.0",
            "_view_name": "StyleView",
            "description_width": ""
          }
        },
        "5a24c5bd4b4044d78027910e76f42621": {
          "model_module": "@jupyter-widgets/controls",
          "model_name": "HBoxModel",
          "model_module_version": "1.5.0",
          "state": {
            "_dom_classes": [],
            "_model_module": "@jupyter-widgets/controls",
            "_model_module_version": "1.5.0",
            "_model_name": "HBoxModel",
            "_view_count": null,
            "_view_module": "@jupyter-widgets/controls",
            "_view_module_version": "1.5.0",
            "_view_name": "HBoxView",
            "box_style": "",
            "children": [
              "IPY_MODEL_f6b95df2f2ef487385f844fcbff1ea87",
              "IPY_MODEL_94bda95326504fce941a1e440c8b419f",
              "IPY_MODEL_d0d3b9ed1d59450a80987fb07cc9555c"
            ],
            "layout": "IPY_MODEL_eb0b810ab6fd418dacbb99350864be00"
          }
        },
        "f6b95df2f2ef487385f844fcbff1ea87": {
          "model_module": "@jupyter-widgets/controls",
          "model_name": "HTMLModel",
          "model_module_version": "1.5.0",
          "state": {
            "_dom_classes": [],
            "_model_module": "@jupyter-widgets/controls",
            "_model_module_version": "1.5.0",
            "_model_name": "HTMLModel",
            "_view_count": null,
            "_view_module": "@jupyter-widgets/controls",
            "_view_module_version": "1.5.0",
            "_view_name": "HTMLView",
            "description": "",
            "description_tooltip": null,
            "layout": "IPY_MODEL_bcf9f8aab4e548d0b011d602517e8630",
            "placeholder": "​",
            "style": "IPY_MODEL_5af2b8ba81ee4b7094f55d335ced4bac",
            "value": "README.md: 100%"
          }
        },
        "94bda95326504fce941a1e440c8b419f": {
          "model_module": "@jupyter-widgets/controls",
          "model_name": "FloatProgressModel",
          "model_module_version": "1.5.0",
          "state": {
            "_dom_classes": [],
            "_model_module": "@jupyter-widgets/controls",
            "_model_module_version": "1.5.0",
            "_model_name": "FloatProgressModel",
            "_view_count": null,
            "_view_module": "@jupyter-widgets/controls",
            "_view_module_version": "1.5.0",
            "_view_name": "ProgressView",
            "bar_style": "success",
            "description": "",
            "description_tooltip": null,
            "layout": "IPY_MODEL_8ba315d996574f049b40162353ecdd07",
            "max": 3951,
            "min": 0,
            "orientation": "horizontal",
            "style": "IPY_MODEL_58a7ed962816470da1495b9818f120db",
            "value": 3951
          }
        },
        "d0d3b9ed1d59450a80987fb07cc9555c": {
          "model_module": "@jupyter-widgets/controls",
          "model_name": "HTMLModel",
          "model_module_version": "1.5.0",
          "state": {
            "_dom_classes": [],
            "_model_module": "@jupyter-widgets/controls",
            "_model_module_version": "1.5.0",
            "_model_name": "HTMLModel",
            "_view_count": null,
            "_view_module": "@jupyter-widgets/controls",
            "_view_module_version": "1.5.0",
            "_view_name": "HTMLView",
            "description": "",
            "description_tooltip": null,
            "layout": "IPY_MODEL_bcddda2b302540a3b54024a0638600a9",
            "placeholder": "​",
            "style": "IPY_MODEL_2d7de3032dbb451bbebf3fb7ec2c3c9d",
            "value": " 3.95k/3.95k [00:00&lt;00:00, 167kB/s]"
          }
        },
        "eb0b810ab6fd418dacbb99350864be00": {
          "model_module": "@jupyter-widgets/base",
          "model_name": "LayoutModel",
          "model_module_version": "1.2.0",
          "state": {
            "_model_module": "@jupyter-widgets/base",
            "_model_module_version": "1.2.0",
            "_model_name": "LayoutModel",
            "_view_count": null,
            "_view_module": "@jupyter-widgets/base",
            "_view_module_version": "1.2.0",
            "_view_name": "LayoutView",
            "align_content": null,
            "align_items": null,
            "align_self": null,
            "border": null,
            "bottom": null,
            "display": null,
            "flex": null,
            "flex_flow": null,
            "grid_area": null,
            "grid_auto_columns": null,
            "grid_auto_flow": null,
            "grid_auto_rows": null,
            "grid_column": null,
            "grid_gap": null,
            "grid_row": null,
            "grid_template_areas": null,
            "grid_template_columns": null,
            "grid_template_rows": null,
            "height": null,
            "justify_content": null,
            "justify_items": null,
            "left": null,
            "margin": null,
            "max_height": null,
            "max_width": null,
            "min_height": null,
            "min_width": null,
            "object_fit": null,
            "object_position": null,
            "order": null,
            "overflow": null,
            "overflow_x": null,
            "overflow_y": null,
            "padding": null,
            "right": null,
            "top": null,
            "visibility": null,
            "width": null
          }
        },
        "bcf9f8aab4e548d0b011d602517e8630": {
          "model_module": "@jupyter-widgets/base",
          "model_name": "LayoutModel",
          "model_module_version": "1.2.0",
          "state": {
            "_model_module": "@jupyter-widgets/base",
            "_model_module_version": "1.2.0",
            "_model_name": "LayoutModel",
            "_view_count": null,
            "_view_module": "@jupyter-widgets/base",
            "_view_module_version": "1.2.0",
            "_view_name": "LayoutView",
            "align_content": null,
            "align_items": null,
            "align_self": null,
            "border": null,
            "bottom": null,
            "display": null,
            "flex": null,
            "flex_flow": null,
            "grid_area": null,
            "grid_auto_columns": null,
            "grid_auto_flow": null,
            "grid_auto_rows": null,
            "grid_column": null,
            "grid_gap": null,
            "grid_row": null,
            "grid_template_areas": null,
            "grid_template_columns": null,
            "grid_template_rows": null,
            "height": null,
            "justify_content": null,
            "justify_items": null,
            "left": null,
            "margin": null,
            "max_height": null,
            "max_width": null,
            "min_height": null,
            "min_width": null,
            "object_fit": null,
            "object_position": null,
            "order": null,
            "overflow": null,
            "overflow_x": null,
            "overflow_y": null,
            "padding": null,
            "right": null,
            "top": null,
            "visibility": null,
            "width": null
          }
        },
        "5af2b8ba81ee4b7094f55d335ced4bac": {
          "model_module": "@jupyter-widgets/controls",
          "model_name": "DescriptionStyleModel",
          "model_module_version": "1.5.0",
          "state": {
            "_model_module": "@jupyter-widgets/controls",
            "_model_module_version": "1.5.0",
            "_model_name": "DescriptionStyleModel",
            "_view_count": null,
            "_view_module": "@jupyter-widgets/base",
            "_view_module_version": "1.2.0",
            "_view_name": "StyleView",
            "description_width": ""
          }
        },
        "8ba315d996574f049b40162353ecdd07": {
          "model_module": "@jupyter-widgets/base",
          "model_name": "LayoutModel",
          "model_module_version": "1.2.0",
          "state": {
            "_model_module": "@jupyter-widgets/base",
            "_model_module_version": "1.2.0",
            "_model_name": "LayoutModel",
            "_view_count": null,
            "_view_module": "@jupyter-widgets/base",
            "_view_module_version": "1.2.0",
            "_view_name": "LayoutView",
            "align_content": null,
            "align_items": null,
            "align_self": null,
            "border": null,
            "bottom": null,
            "display": null,
            "flex": null,
            "flex_flow": null,
            "grid_area": null,
            "grid_auto_columns": null,
            "grid_auto_flow": null,
            "grid_auto_rows": null,
            "grid_column": null,
            "grid_gap": null,
            "grid_row": null,
            "grid_template_areas": null,
            "grid_template_columns": null,
            "grid_template_rows": null,
            "height": null,
            "justify_content": null,
            "justify_items": null,
            "left": null,
            "margin": null,
            "max_height": null,
            "max_width": null,
            "min_height": null,
            "min_width": null,
            "object_fit": null,
            "object_position": null,
            "order": null,
            "overflow": null,
            "overflow_x": null,
            "overflow_y": null,
            "padding": null,
            "right": null,
            "top": null,
            "visibility": null,
            "width": null
          }
        },
        "58a7ed962816470da1495b9818f120db": {
          "model_module": "@jupyter-widgets/controls",
          "model_name": "ProgressStyleModel",
          "model_module_version": "1.5.0",
          "state": {
            "_model_module": "@jupyter-widgets/controls",
            "_model_module_version": "1.5.0",
            "_model_name": "ProgressStyleModel",
            "_view_count": null,
            "_view_module": "@jupyter-widgets/base",
            "_view_module_version": "1.2.0",
            "_view_name": "StyleView",
            "bar_color": null,
            "description_width": ""
          }
        },
        "bcddda2b302540a3b54024a0638600a9": {
          "model_module": "@jupyter-widgets/base",
          "model_name": "LayoutModel",
          "model_module_version": "1.2.0",
          "state": {
            "_model_module": "@jupyter-widgets/base",
            "_model_module_version": "1.2.0",
            "_model_name": "LayoutModel",
            "_view_count": null,
            "_view_module": "@jupyter-widgets/base",
            "_view_module_version": "1.2.0",
            "_view_name": "LayoutView",
            "align_content": null,
            "align_items": null,
            "align_self": null,
            "border": null,
            "bottom": null,
            "display": null,
            "flex": null,
            "flex_flow": null,
            "grid_area": null,
            "grid_auto_columns": null,
            "grid_auto_flow": null,
            "grid_auto_rows": null,
            "grid_column": null,
            "grid_gap": null,
            "grid_row": null,
            "grid_template_areas": null,
            "grid_template_columns": null,
            "grid_template_rows": null,
            "height": null,
            "justify_content": null,
            "justify_items": null,
            "left": null,
            "margin": null,
            "max_height": null,
            "max_width": null,
            "min_height": null,
            "min_width": null,
            "object_fit": null,
            "object_position": null,
            "order": null,
            "overflow": null,
            "overflow_x": null,
            "overflow_y": null,
            "padding": null,
            "right": null,
            "top": null,
            "visibility": null,
            "width": null
          }
        },
        "2d7de3032dbb451bbebf3fb7ec2c3c9d": {
          "model_module": "@jupyter-widgets/controls",
          "model_name": "DescriptionStyleModel",
          "model_module_version": "1.5.0",
          "state": {
            "_model_module": "@jupyter-widgets/controls",
            "_model_module_version": "1.5.0",
            "_model_name": "DescriptionStyleModel",
            "_view_count": null,
            "_view_module": "@jupyter-widgets/base",
            "_view_module_version": "1.2.0",
            "_view_name": "StyleView",
            "description_width": ""
          }
        },
        "79b3a1fade054561888eb00de2e2ce2b": {
          "model_module": "@jupyter-widgets/controls",
          "model_name": "HBoxModel",
          "model_module_version": "1.5.0",
          "state": {
            "_dom_classes": [],
            "_model_module": "@jupyter-widgets/controls",
            "_model_module_version": "1.5.0",
            "_model_name": "HBoxModel",
            "_view_count": null,
            "_view_module": "@jupyter-widgets/controls",
            "_view_module_version": "1.5.0",
            "_view_name": "HBoxView",
            "box_style": "",
            "children": [
              "IPY_MODEL_cb5b5bb2dc444e3f92a572ec88d7d759",
              "IPY_MODEL_a22379711c6546aab5129862ccbc3fd3",
              "IPY_MODEL_908e5c26a03449a6a50ece7306ebfeb3"
            ],
            "layout": "IPY_MODEL_c956783f08574fdcb8705701b86503f8"
          }
        },
        "cb5b5bb2dc444e3f92a572ec88d7d759": {
          "model_module": "@jupyter-widgets/controls",
          "model_name": "HTMLModel",
          "model_module_version": "1.5.0",
          "state": {
            "_dom_classes": [],
            "_model_module": "@jupyter-widgets/controls",
            "_model_module_version": "1.5.0",
            "_model_name": "HTMLModel",
            "_view_count": null,
            "_view_module": "@jupyter-widgets/controls",
            "_view_module_version": "1.5.0",
            "_view_name": "HTMLView",
            "description": "",
            "description_tooltip": null,
            "layout": "IPY_MODEL_e112b9997ba34a43be44fcd1b2fb4647",
            "placeholder": "​",
            "style": "IPY_MODEL_ef3bcb6e5f504345941ac443231803c3",
            "value": "added_tokens.json: 100%"
          }
        },
        "a22379711c6546aab5129862ccbc3fd3": {
          "model_module": "@jupyter-widgets/controls",
          "model_name": "FloatProgressModel",
          "model_module_version": "1.5.0",
          "state": {
            "_dom_classes": [],
            "_model_module": "@jupyter-widgets/controls",
            "_model_module_version": "1.5.0",
            "_model_name": "FloatProgressModel",
            "_view_count": null,
            "_view_module": "@jupyter-widgets/controls",
            "_view_module_version": "1.5.0",
            "_view_name": "ProgressView",
            "bar_style": "success",
            "description": "",
            "description_tooltip": null,
            "layout": "IPY_MODEL_d7bb37cc9dd14b4085d55a566a63b886",
            "max": 2,
            "min": 0,
            "orientation": "horizontal",
            "style": "IPY_MODEL_f07d3d4bd02b431bb78b499064fbbdd7",
            "value": 2
          }
        },
        "908e5c26a03449a6a50ece7306ebfeb3": {
          "model_module": "@jupyter-widgets/controls",
          "model_name": "HTMLModel",
          "model_module_version": "1.5.0",
          "state": {
            "_dom_classes": [],
            "_model_module": "@jupyter-widgets/controls",
            "_model_module_version": "1.5.0",
            "_model_name": "HTMLModel",
            "_view_count": null,
            "_view_module": "@jupyter-widgets/controls",
            "_view_module_version": "1.5.0",
            "_view_name": "HTMLView",
            "description": "",
            "description_tooltip": null,
            "layout": "IPY_MODEL_4e0f4a5bea3e422eb1914d6186f613c1",
            "placeholder": "​",
            "style": "IPY_MODEL_b0de583b28344b7ab0fa7fd1e3240e93",
            "value": " 2.00/2.00 [00:00&lt;00:00, 88.8B/s]"
          }
        },
        "c956783f08574fdcb8705701b86503f8": {
          "model_module": "@jupyter-widgets/base",
          "model_name": "LayoutModel",
          "model_module_version": "1.2.0",
          "state": {
            "_model_module": "@jupyter-widgets/base",
            "_model_module_version": "1.2.0",
            "_model_name": "LayoutModel",
            "_view_count": null,
            "_view_module": "@jupyter-widgets/base",
            "_view_module_version": "1.2.0",
            "_view_name": "LayoutView",
            "align_content": null,
            "align_items": null,
            "align_self": null,
            "border": null,
            "bottom": null,
            "display": null,
            "flex": null,
            "flex_flow": null,
            "grid_area": null,
            "grid_auto_columns": null,
            "grid_auto_flow": null,
            "grid_auto_rows": null,
            "grid_column": null,
            "grid_gap": null,
            "grid_row": null,
            "grid_template_areas": null,
            "grid_template_columns": null,
            "grid_template_rows": null,
            "height": null,
            "justify_content": null,
            "justify_items": null,
            "left": null,
            "margin": null,
            "max_height": null,
            "max_width": null,
            "min_height": null,
            "min_width": null,
            "object_fit": null,
            "object_position": null,
            "order": null,
            "overflow": null,
            "overflow_x": null,
            "overflow_y": null,
            "padding": null,
            "right": null,
            "top": null,
            "visibility": null,
            "width": null
          }
        },
        "e112b9997ba34a43be44fcd1b2fb4647": {
          "model_module": "@jupyter-widgets/base",
          "model_name": "LayoutModel",
          "model_module_version": "1.2.0",
          "state": {
            "_model_module": "@jupyter-widgets/base",
            "_model_module_version": "1.2.0",
            "_model_name": "LayoutModel",
            "_view_count": null,
            "_view_module": "@jupyter-widgets/base",
            "_view_module_version": "1.2.0",
            "_view_name": "LayoutView",
            "align_content": null,
            "align_items": null,
            "align_self": null,
            "border": null,
            "bottom": null,
            "display": null,
            "flex": null,
            "flex_flow": null,
            "grid_area": null,
            "grid_auto_columns": null,
            "grid_auto_flow": null,
            "grid_auto_rows": null,
            "grid_column": null,
            "grid_gap": null,
            "grid_row": null,
            "grid_template_areas": null,
            "grid_template_columns": null,
            "grid_template_rows": null,
            "height": null,
            "justify_content": null,
            "justify_items": null,
            "left": null,
            "margin": null,
            "max_height": null,
            "max_width": null,
            "min_height": null,
            "min_width": null,
            "object_fit": null,
            "object_position": null,
            "order": null,
            "overflow": null,
            "overflow_x": null,
            "overflow_y": null,
            "padding": null,
            "right": null,
            "top": null,
            "visibility": null,
            "width": null
          }
        },
        "ef3bcb6e5f504345941ac443231803c3": {
          "model_module": "@jupyter-widgets/controls",
          "model_name": "DescriptionStyleModel",
          "model_module_version": "1.5.0",
          "state": {
            "_model_module": "@jupyter-widgets/controls",
            "_model_module_version": "1.5.0",
            "_model_name": "DescriptionStyleModel",
            "_view_count": null,
            "_view_module": "@jupyter-widgets/base",
            "_view_module_version": "1.2.0",
            "_view_name": "StyleView",
            "description_width": ""
          }
        },
        "d7bb37cc9dd14b4085d55a566a63b886": {
          "model_module": "@jupyter-widgets/base",
          "model_name": "LayoutModel",
          "model_module_version": "1.2.0",
          "state": {
            "_model_module": "@jupyter-widgets/base",
            "_model_module_version": "1.2.0",
            "_model_name": "LayoutModel",
            "_view_count": null,
            "_view_module": "@jupyter-widgets/base",
            "_view_module_version": "1.2.0",
            "_view_name": "LayoutView",
            "align_content": null,
            "align_items": null,
            "align_self": null,
            "border": null,
            "bottom": null,
            "display": null,
            "flex": null,
            "flex_flow": null,
            "grid_area": null,
            "grid_auto_columns": null,
            "grid_auto_flow": null,
            "grid_auto_rows": null,
            "grid_column": null,
            "grid_gap": null,
            "grid_row": null,
            "grid_template_areas": null,
            "grid_template_columns": null,
            "grid_template_rows": null,
            "height": null,
            "justify_content": null,
            "justify_items": null,
            "left": null,
            "margin": null,
            "max_height": null,
            "max_width": null,
            "min_height": null,
            "min_width": null,
            "object_fit": null,
            "object_position": null,
            "order": null,
            "overflow": null,
            "overflow_x": null,
            "overflow_y": null,
            "padding": null,
            "right": null,
            "top": null,
            "visibility": null,
            "width": null
          }
        },
        "f07d3d4bd02b431bb78b499064fbbdd7": {
          "model_module": "@jupyter-widgets/controls",
          "model_name": "ProgressStyleModel",
          "model_module_version": "1.5.0",
          "state": {
            "_model_module": "@jupyter-widgets/controls",
            "_model_module_version": "1.5.0",
            "_model_name": "ProgressStyleModel",
            "_view_count": null,
            "_view_module": "@jupyter-widgets/base",
            "_view_module_version": "1.2.0",
            "_view_name": "StyleView",
            "bar_color": null,
            "description_width": ""
          }
        },
        "4e0f4a5bea3e422eb1914d6186f613c1": {
          "model_module": "@jupyter-widgets/base",
          "model_name": "LayoutModel",
          "model_module_version": "1.2.0",
          "state": {
            "_model_module": "@jupyter-widgets/base",
            "_model_module_version": "1.2.0",
            "_model_name": "LayoutModel",
            "_view_count": null,
            "_view_module": "@jupyter-widgets/base",
            "_view_module_version": "1.2.0",
            "_view_name": "LayoutView",
            "align_content": null,
            "align_items": null,
            "align_self": null,
            "border": null,
            "bottom": null,
            "display": null,
            "flex": null,
            "flex_flow": null,
            "grid_area": null,
            "grid_auto_columns": null,
            "grid_auto_flow": null,
            "grid_auto_rows": null,
            "grid_column": null,
            "grid_gap": null,
            "grid_row": null,
            "grid_template_areas": null,
            "grid_template_columns": null,
            "grid_template_rows": null,
            "height": null,
            "justify_content": null,
            "justify_items": null,
            "left": null,
            "margin": null,
            "max_height": null,
            "max_width": null,
            "min_height": null,
            "min_width": null,
            "object_fit": null,
            "object_position": null,
            "order": null,
            "overflow": null,
            "overflow_x": null,
            "overflow_y": null,
            "padding": null,
            "right": null,
            "top": null,
            "visibility": null,
            "width": null
          }
        },
        "b0de583b28344b7ab0fa7fd1e3240e93": {
          "model_module": "@jupyter-widgets/controls",
          "model_name": "DescriptionStyleModel",
          "model_module_version": "1.5.0",
          "state": {
            "_model_module": "@jupyter-widgets/controls",
            "_model_module_version": "1.5.0",
            "_model_name": "DescriptionStyleModel",
            "_view_count": null,
            "_view_module": "@jupyter-widgets/base",
            "_view_module_version": "1.2.0",
            "_view_name": "StyleView",
            "description_width": ""
          }
        },
        "6cc37b7747ca48888a2473c341e44bcd": {
          "model_module": "@jupyter-widgets/controls",
          "model_name": "HBoxModel",
          "model_module_version": "1.5.0",
          "state": {
            "_dom_classes": [],
            "_model_module": "@jupyter-widgets/controls",
            "_model_module_version": "1.5.0",
            "_model_name": "HBoxModel",
            "_view_count": null,
            "_view_module": "@jupyter-widgets/controls",
            "_view_module_version": "1.5.0",
            "_view_name": "HBoxView",
            "box_style": "",
            "children": [
              "IPY_MODEL_b224dfe27102417998b0d21ad88e7b80",
              "IPY_MODEL_41a0d76e210e4277b605f3e2dee99769",
              "IPY_MODEL_d78f51c2e25c477eabbfb388ea2b4285"
            ],
            "layout": "IPY_MODEL_329ba40e9c674060a56ea88b78f6083b"
          }
        },
        "b224dfe27102417998b0d21ad88e7b80": {
          "model_module": "@jupyter-widgets/controls",
          "model_name": "HTMLModel",
          "model_module_version": "1.5.0",
          "state": {
            "_dom_classes": [],
            "_model_module": "@jupyter-widgets/controls",
            "_model_module_version": "1.5.0",
            "_model_name": "HTMLModel",
            "_view_count": null,
            "_view_module": "@jupyter-widgets/controls",
            "_view_module_version": "1.5.0",
            "_view_name": "HTMLView",
            "description": "",
            "description_tooltip": null,
            "layout": "IPY_MODEL_94ab2625f4954fa5ae05b0f3f3f9c284",
            "placeholder": "​",
            "style": "IPY_MODEL_d8c6c7507719450b9983cdbe9bc0cca2",
            "value": "config.json: 100%"
          }
        },
        "41a0d76e210e4277b605f3e2dee99769": {
          "model_module": "@jupyter-widgets/controls",
          "model_name": "FloatProgressModel",
          "model_module_version": "1.5.0",
          "state": {
            "_dom_classes": [],
            "_model_module": "@jupyter-widgets/controls",
            "_model_module_version": "1.5.0",
            "_model_name": "FloatProgressModel",
            "_view_count": null,
            "_view_module": "@jupyter-widgets/controls",
            "_view_module_version": "1.5.0",
            "_view_name": "ProgressView",
            "bar_style": "success",
            "description": "",
            "description_tooltip": null,
            "layout": "IPY_MODEL_fed2825d7954456e88b79a1783f5c078",
            "max": 625,
            "min": 0,
            "orientation": "horizontal",
            "style": "IPY_MODEL_3a858599d11640a68c155548f5136607",
            "value": 625
          }
        },
        "d78f51c2e25c477eabbfb388ea2b4285": {
          "model_module": "@jupyter-widgets/controls",
          "model_name": "HTMLModel",
          "model_module_version": "1.5.0",
          "state": {
            "_dom_classes": [],
            "_model_module": "@jupyter-widgets/controls",
            "_model_module_version": "1.5.0",
            "_model_name": "HTMLModel",
            "_view_count": null,
            "_view_module": "@jupyter-widgets/controls",
            "_view_module_version": "1.5.0",
            "_view_name": "HTMLView",
            "description": "",
            "description_tooltip": null,
            "layout": "IPY_MODEL_729faec35e47415082bf8bfb87b1e180",
            "placeholder": "​",
            "style": "IPY_MODEL_5e8162c81d3343b988e2074d0b3adbd5",
            "value": " 625/625 [00:00&lt;00:00, 31.8kB/s]"
          }
        },
        "329ba40e9c674060a56ea88b78f6083b": {
          "model_module": "@jupyter-widgets/base",
          "model_name": "LayoutModel",
          "model_module_version": "1.2.0",
          "state": {
            "_model_module": "@jupyter-widgets/base",
            "_model_module_version": "1.2.0",
            "_model_name": "LayoutModel",
            "_view_count": null,
            "_view_module": "@jupyter-widgets/base",
            "_view_module_version": "1.2.0",
            "_view_name": "LayoutView",
            "align_content": null,
            "align_items": null,
            "align_self": null,
            "border": null,
            "bottom": null,
            "display": null,
            "flex": null,
            "flex_flow": null,
            "grid_area": null,
            "grid_auto_columns": null,
            "grid_auto_flow": null,
            "grid_auto_rows": null,
            "grid_column": null,
            "grid_gap": null,
            "grid_row": null,
            "grid_template_areas": null,
            "grid_template_columns": null,
            "grid_template_rows": null,
            "height": null,
            "justify_content": null,
            "justify_items": null,
            "left": null,
            "margin": null,
            "max_height": null,
            "max_width": null,
            "min_height": null,
            "min_width": null,
            "object_fit": null,
            "object_position": null,
            "order": null,
            "overflow": null,
            "overflow_x": null,
            "overflow_y": null,
            "padding": null,
            "right": null,
            "top": null,
            "visibility": null,
            "width": null
          }
        },
        "94ab2625f4954fa5ae05b0f3f3f9c284": {
          "model_module": "@jupyter-widgets/base",
          "model_name": "LayoutModel",
          "model_module_version": "1.2.0",
          "state": {
            "_model_module": "@jupyter-widgets/base",
            "_model_module_version": "1.2.0",
            "_model_name": "LayoutModel",
            "_view_count": null,
            "_view_module": "@jupyter-widgets/base",
            "_view_module_version": "1.2.0",
            "_view_name": "LayoutView",
            "align_content": null,
            "align_items": null,
            "align_self": null,
            "border": null,
            "bottom": null,
            "display": null,
            "flex": null,
            "flex_flow": null,
            "grid_area": null,
            "grid_auto_columns": null,
            "grid_auto_flow": null,
            "grid_auto_rows": null,
            "grid_column": null,
            "grid_gap": null,
            "grid_row": null,
            "grid_template_areas": null,
            "grid_template_columns": null,
            "grid_template_rows": null,
            "height": null,
            "justify_content": null,
            "justify_items": null,
            "left": null,
            "margin": null,
            "max_height": null,
            "max_width": null,
            "min_height": null,
            "min_width": null,
            "object_fit": null,
            "object_position": null,
            "order": null,
            "overflow": null,
            "overflow_x": null,
            "overflow_y": null,
            "padding": null,
            "right": null,
            "top": null,
            "visibility": null,
            "width": null
          }
        },
        "d8c6c7507719450b9983cdbe9bc0cca2": {
          "model_module": "@jupyter-widgets/controls",
          "model_name": "DescriptionStyleModel",
          "model_module_version": "1.5.0",
          "state": {
            "_model_module": "@jupyter-widgets/controls",
            "_model_module_version": "1.5.0",
            "_model_name": "DescriptionStyleModel",
            "_view_count": null,
            "_view_module": "@jupyter-widgets/base",
            "_view_module_version": "1.2.0",
            "_view_name": "StyleView",
            "description_width": ""
          }
        },
        "fed2825d7954456e88b79a1783f5c078": {
          "model_module": "@jupyter-widgets/base",
          "model_name": "LayoutModel",
          "model_module_version": "1.2.0",
          "state": {
            "_model_module": "@jupyter-widgets/base",
            "_model_module_version": "1.2.0",
            "_model_name": "LayoutModel",
            "_view_count": null,
            "_view_module": "@jupyter-widgets/base",
            "_view_module_version": "1.2.0",
            "_view_name": "LayoutView",
            "align_content": null,
            "align_items": null,
            "align_self": null,
            "border": null,
            "bottom": null,
            "display": null,
            "flex": null,
            "flex_flow": null,
            "grid_area": null,
            "grid_auto_columns": null,
            "grid_auto_flow": null,
            "grid_auto_rows": null,
            "grid_column": null,
            "grid_gap": null,
            "grid_row": null,
            "grid_template_areas": null,
            "grid_template_columns": null,
            "grid_template_rows": null,
            "height": null,
            "justify_content": null,
            "justify_items": null,
            "left": null,
            "margin": null,
            "max_height": null,
            "max_width": null,
            "min_height": null,
            "min_width": null,
            "object_fit": null,
            "object_position": null,
            "order": null,
            "overflow": null,
            "overflow_x": null,
            "overflow_y": null,
            "padding": null,
            "right": null,
            "top": null,
            "visibility": null,
            "width": null
          }
        },
        "3a858599d11640a68c155548f5136607": {
          "model_module": "@jupyter-widgets/controls",
          "model_name": "ProgressStyleModel",
          "model_module_version": "1.5.0",
          "state": {
            "_model_module": "@jupyter-widgets/controls",
            "_model_module_version": "1.5.0",
            "_model_name": "ProgressStyleModel",
            "_view_count": null,
            "_view_module": "@jupyter-widgets/base",
            "_view_module_version": "1.2.0",
            "_view_name": "StyleView",
            "bar_color": null,
            "description_width": ""
          }
        },
        "729faec35e47415082bf8bfb87b1e180": {
          "model_module": "@jupyter-widgets/base",
          "model_name": "LayoutModel",
          "model_module_version": "1.2.0",
          "state": {
            "_model_module": "@jupyter-widgets/base",
            "_model_module_version": "1.2.0",
            "_model_name": "LayoutModel",
            "_view_count": null,
            "_view_module": "@jupyter-widgets/base",
            "_view_module_version": "1.2.0",
            "_view_name": "LayoutView",
            "align_content": null,
            "align_items": null,
            "align_self": null,
            "border": null,
            "bottom": null,
            "display": null,
            "flex": null,
            "flex_flow": null,
            "grid_area": null,
            "grid_auto_columns": null,
            "grid_auto_flow": null,
            "grid_auto_rows": null,
            "grid_column": null,
            "grid_gap": null,
            "grid_row": null,
            "grid_template_areas": null,
            "grid_template_columns": null,
            "grid_template_rows": null,
            "height": null,
            "justify_content": null,
            "justify_items": null,
            "left": null,
            "margin": null,
            "max_height": null,
            "max_width": null,
            "min_height": null,
            "min_width": null,
            "object_fit": null,
            "object_position": null,
            "order": null,
            "overflow": null,
            "overflow_x": null,
            "overflow_y": null,
            "padding": null,
            "right": null,
            "top": null,
            "visibility": null,
            "width": null
          }
        },
        "5e8162c81d3343b988e2074d0b3adbd5": {
          "model_module": "@jupyter-widgets/controls",
          "model_name": "DescriptionStyleModel",
          "model_module_version": "1.5.0",
          "state": {
            "_model_module": "@jupyter-widgets/controls",
            "_model_module_version": "1.5.0",
            "_model_name": "DescriptionStyleModel",
            "_view_count": null,
            "_view_module": "@jupyter-widgets/base",
            "_view_module_version": "1.2.0",
            "_view_name": "StyleView",
            "description_width": ""
          }
        },
        "3813ab1adfa64312a9e8fc1a0b3a9bd1": {
          "model_module": "@jupyter-widgets/controls",
          "model_name": "HBoxModel",
          "model_module_version": "1.5.0",
          "state": {
            "_dom_classes": [],
            "_model_module": "@jupyter-widgets/controls",
            "_model_module_version": "1.5.0",
            "_model_name": "HBoxModel",
            "_view_count": null,
            "_view_module": "@jupyter-widgets/controls",
            "_view_module_version": "1.5.0",
            "_view_name": "HBoxView",
            "box_style": "",
            "children": [
              "IPY_MODEL_dfb1448969bb4ddca49ec98b168d3d7a",
              "IPY_MODEL_9e13d8efe7a14d43907a0608af2eb57b",
              "IPY_MODEL_745aedd114824ee886c4be3ea01d4052"
            ],
            "layout": "IPY_MODEL_21049dae4f0246578c99588a98dcbd73"
          }
        },
        "dfb1448969bb4ddca49ec98b168d3d7a": {
          "model_module": "@jupyter-widgets/controls",
          "model_name": "HTMLModel",
          "model_module_version": "1.5.0",
          "state": {
            "_dom_classes": [],
            "_model_module": "@jupyter-widgets/controls",
            "_model_module_version": "1.5.0",
            "_model_name": "HTMLModel",
            "_view_count": null,
            "_view_module": "@jupyter-widgets/controls",
            "_view_module_version": "1.5.0",
            "_view_name": "HTMLView",
            "description": "",
            "description_tooltip": null,
            "layout": "IPY_MODEL_f27e28407c6642c88e80167d44cfec0c",
            "placeholder": "​",
            "style": "IPY_MODEL_388b3e2539144df3b26573bb8c9b50e3",
            "value": "config_sentence_transformers.json: 100%"
          }
        },
        "9e13d8efe7a14d43907a0608af2eb57b": {
          "model_module": "@jupyter-widgets/controls",
          "model_name": "FloatProgressModel",
          "model_module_version": "1.5.0",
          "state": {
            "_dom_classes": [],
            "_model_module": "@jupyter-widgets/controls",
            "_model_module_version": "1.5.0",
            "_model_name": "FloatProgressModel",
            "_view_count": null,
            "_view_module": "@jupyter-widgets/controls",
            "_view_module_version": "1.5.0",
            "_view_name": "ProgressView",
            "bar_style": "success",
            "description": "",
            "description_tooltip": null,
            "layout": "IPY_MODEL_c0fb82ca51ff440d9cc3da2f9b0e4123",
            "max": 122,
            "min": 0,
            "orientation": "horizontal",
            "style": "IPY_MODEL_e3e2b7846ead43369fc034a93825a36e",
            "value": 122
          }
        },
        "745aedd114824ee886c4be3ea01d4052": {
          "model_module": "@jupyter-widgets/controls",
          "model_name": "HTMLModel",
          "model_module_version": "1.5.0",
          "state": {
            "_dom_classes": [],
            "_model_module": "@jupyter-widgets/controls",
            "_model_module_version": "1.5.0",
            "_model_name": "HTMLModel",
            "_view_count": null,
            "_view_module": "@jupyter-widgets/controls",
            "_view_module_version": "1.5.0",
            "_view_name": "HTMLView",
            "description": "",
            "description_tooltip": null,
            "layout": "IPY_MODEL_f6bcd29f1edb493e88822289ac3e8d86",
            "placeholder": "​",
            "style": "IPY_MODEL_22dc7c45b63e4404b0a70d3558c547b6",
            "value": " 122/122 [00:00&lt;00:00, 5.48kB/s]"
          }
        },
        "21049dae4f0246578c99588a98dcbd73": {
          "model_module": "@jupyter-widgets/base",
          "model_name": "LayoutModel",
          "model_module_version": "1.2.0",
          "state": {
            "_model_module": "@jupyter-widgets/base",
            "_model_module_version": "1.2.0",
            "_model_name": "LayoutModel",
            "_view_count": null,
            "_view_module": "@jupyter-widgets/base",
            "_view_module_version": "1.2.0",
            "_view_name": "LayoutView",
            "align_content": null,
            "align_items": null,
            "align_self": null,
            "border": null,
            "bottom": null,
            "display": null,
            "flex": null,
            "flex_flow": null,
            "grid_area": null,
            "grid_auto_columns": null,
            "grid_auto_flow": null,
            "grid_auto_rows": null,
            "grid_column": null,
            "grid_gap": null,
            "grid_row": null,
            "grid_template_areas": null,
            "grid_template_columns": null,
            "grid_template_rows": null,
            "height": null,
            "justify_content": null,
            "justify_items": null,
            "left": null,
            "margin": null,
            "max_height": null,
            "max_width": null,
            "min_height": null,
            "min_width": null,
            "object_fit": null,
            "object_position": null,
            "order": null,
            "overflow": null,
            "overflow_x": null,
            "overflow_y": null,
            "padding": null,
            "right": null,
            "top": null,
            "visibility": null,
            "width": null
          }
        },
        "f27e28407c6642c88e80167d44cfec0c": {
          "model_module": "@jupyter-widgets/base",
          "model_name": "LayoutModel",
          "model_module_version": "1.2.0",
          "state": {
            "_model_module": "@jupyter-widgets/base",
            "_model_module_version": "1.2.0",
            "_model_name": "LayoutModel",
            "_view_count": null,
            "_view_module": "@jupyter-widgets/base",
            "_view_module_version": "1.2.0",
            "_view_name": "LayoutView",
            "align_content": null,
            "align_items": null,
            "align_self": null,
            "border": null,
            "bottom": null,
            "display": null,
            "flex": null,
            "flex_flow": null,
            "grid_area": null,
            "grid_auto_columns": null,
            "grid_auto_flow": null,
            "grid_auto_rows": null,
            "grid_column": null,
            "grid_gap": null,
            "grid_row": null,
            "grid_template_areas": null,
            "grid_template_columns": null,
            "grid_template_rows": null,
            "height": null,
            "justify_content": null,
            "justify_items": null,
            "left": null,
            "margin": null,
            "max_height": null,
            "max_width": null,
            "min_height": null,
            "min_width": null,
            "object_fit": null,
            "object_position": null,
            "order": null,
            "overflow": null,
            "overflow_x": null,
            "overflow_y": null,
            "padding": null,
            "right": null,
            "top": null,
            "visibility": null,
            "width": null
          }
        },
        "388b3e2539144df3b26573bb8c9b50e3": {
          "model_module": "@jupyter-widgets/controls",
          "model_name": "DescriptionStyleModel",
          "model_module_version": "1.5.0",
          "state": {
            "_model_module": "@jupyter-widgets/controls",
            "_model_module_version": "1.5.0",
            "_model_name": "DescriptionStyleModel",
            "_view_count": null,
            "_view_module": "@jupyter-widgets/base",
            "_view_module_version": "1.2.0",
            "_view_name": "StyleView",
            "description_width": ""
          }
        },
        "c0fb82ca51ff440d9cc3da2f9b0e4123": {
          "model_module": "@jupyter-widgets/base",
          "model_name": "LayoutModel",
          "model_module_version": "1.2.0",
          "state": {
            "_model_module": "@jupyter-widgets/base",
            "_model_module_version": "1.2.0",
            "_model_name": "LayoutModel",
            "_view_count": null,
            "_view_module": "@jupyter-widgets/base",
            "_view_module_version": "1.2.0",
            "_view_name": "LayoutView",
            "align_content": null,
            "align_items": null,
            "align_self": null,
            "border": null,
            "bottom": null,
            "display": null,
            "flex": null,
            "flex_flow": null,
            "grid_area": null,
            "grid_auto_columns": null,
            "grid_auto_flow": null,
            "grid_auto_rows": null,
            "grid_column": null,
            "grid_gap": null,
            "grid_row": null,
            "grid_template_areas": null,
            "grid_template_columns": null,
            "grid_template_rows": null,
            "height": null,
            "justify_content": null,
            "justify_items": null,
            "left": null,
            "margin": null,
            "max_height": null,
            "max_width": null,
            "min_height": null,
            "min_width": null,
            "object_fit": null,
            "object_position": null,
            "order": null,
            "overflow": null,
            "overflow_x": null,
            "overflow_y": null,
            "padding": null,
            "right": null,
            "top": null,
            "visibility": null,
            "width": null
          }
        },
        "e3e2b7846ead43369fc034a93825a36e": {
          "model_module": "@jupyter-widgets/controls",
          "model_name": "ProgressStyleModel",
          "model_module_version": "1.5.0",
          "state": {
            "_model_module": "@jupyter-widgets/controls",
            "_model_module_version": "1.5.0",
            "_model_name": "ProgressStyleModel",
            "_view_count": null,
            "_view_module": "@jupyter-widgets/base",
            "_view_module_version": "1.2.0",
            "_view_name": "StyleView",
            "bar_color": null,
            "description_width": ""
          }
        },
        "f6bcd29f1edb493e88822289ac3e8d86": {
          "model_module": "@jupyter-widgets/base",
          "model_name": "LayoutModel",
          "model_module_version": "1.2.0",
          "state": {
            "_model_module": "@jupyter-widgets/base",
            "_model_module_version": "1.2.0",
            "_model_name": "LayoutModel",
            "_view_count": null,
            "_view_module": "@jupyter-widgets/base",
            "_view_module_version": "1.2.0",
            "_view_name": "LayoutView",
            "align_content": null,
            "align_items": null,
            "align_self": null,
            "border": null,
            "bottom": null,
            "display": null,
            "flex": null,
            "flex_flow": null,
            "grid_area": null,
            "grid_auto_columns": null,
            "grid_auto_flow": null,
            "grid_auto_rows": null,
            "grid_column": null,
            "grid_gap": null,
            "grid_row": null,
            "grid_template_areas": null,
            "grid_template_columns": null,
            "grid_template_rows": null,
            "height": null,
            "justify_content": null,
            "justify_items": null,
            "left": null,
            "margin": null,
            "max_height": null,
            "max_width": null,
            "min_height": null,
            "min_width": null,
            "object_fit": null,
            "object_position": null,
            "order": null,
            "overflow": null,
            "overflow_x": null,
            "overflow_y": null,
            "padding": null,
            "right": null,
            "top": null,
            "visibility": null,
            "width": null
          }
        },
        "22dc7c45b63e4404b0a70d3558c547b6": {
          "model_module": "@jupyter-widgets/controls",
          "model_name": "DescriptionStyleModel",
          "model_module_version": "1.5.0",
          "state": {
            "_model_module": "@jupyter-widgets/controls",
            "_model_module_version": "1.5.0",
            "_model_name": "DescriptionStyleModel",
            "_view_count": null,
            "_view_module": "@jupyter-widgets/base",
            "_view_module_version": "1.2.0",
            "_view_name": "StyleView",
            "description_width": ""
          }
        },
        "7d388a0203174676b7219a410a335f2a": {
          "model_module": "@jupyter-widgets/controls",
          "model_name": "HBoxModel",
          "model_module_version": "1.5.0",
          "state": {
            "_dom_classes": [],
            "_model_module": "@jupyter-widgets/controls",
            "_model_module_version": "1.5.0",
            "_model_name": "HBoxModel",
            "_view_count": null,
            "_view_module": "@jupyter-widgets/controls",
            "_view_module_version": "1.5.0",
            "_view_name": "HBoxView",
            "box_style": "",
            "children": [
              "IPY_MODEL_6daa1a85c3304af8ad43dcdfa8146820",
              "IPY_MODEL_397a879179bb486298ffc581592cc445",
              "IPY_MODEL_7938743abbbb412cbd3c2320ae6d1b2a"
            ],
            "layout": "IPY_MODEL_c6df20027a1b4565941d966d12d29012"
          }
        },
        "6daa1a85c3304af8ad43dcdfa8146820": {
          "model_module": "@jupyter-widgets/controls",
          "model_name": "HTMLModel",
          "model_module_version": "1.5.0",
          "state": {
            "_dom_classes": [],
            "_model_module": "@jupyter-widgets/controls",
            "_model_module_version": "1.5.0",
            "_model_name": "HTMLModel",
            "_view_count": null,
            "_view_module": "@jupyter-widgets/controls",
            "_view_module_version": "1.5.0",
            "_view_name": "HTMLView",
            "description": "",
            "description_tooltip": null,
            "layout": "IPY_MODEL_d844cd73b88f44d89d43fa4de27326aa",
            "placeholder": "​",
            "style": "IPY_MODEL_864c7fa2bd6749188d8aeb2c6b33648f",
            "value": "pytorch_model.bin: 100%"
          }
        },
        "397a879179bb486298ffc581592cc445": {
          "model_module": "@jupyter-widgets/controls",
          "model_name": "FloatProgressModel",
          "model_module_version": "1.5.0",
          "state": {
            "_dom_classes": [],
            "_model_module": "@jupyter-widgets/controls",
            "_model_module_version": "1.5.0",
            "_model_name": "FloatProgressModel",
            "_view_count": null,
            "_view_module": "@jupyter-widgets/controls",
            "_view_module_version": "1.5.0",
            "_view_name": "ProgressView",
            "bar_style": "success",
            "description": "",
            "description_tooltip": null,
            "layout": "IPY_MODEL_73116d731b0942d5a5e77f4cef91b2af",
            "max": 438007537,
            "min": 0,
            "orientation": "horizontal",
            "style": "IPY_MODEL_f5db1599538f4fb88376777573d46fa7",
            "value": 438007537
          }
        },
        "7938743abbbb412cbd3c2320ae6d1b2a": {
          "model_module": "@jupyter-widgets/controls",
          "model_name": "HTMLModel",
          "model_module_version": "1.5.0",
          "state": {
            "_dom_classes": [],
            "_model_module": "@jupyter-widgets/controls",
            "_model_module_version": "1.5.0",
            "_model_name": "HTMLModel",
            "_view_count": null,
            "_view_module": "@jupyter-widgets/controls",
            "_view_module_version": "1.5.0",
            "_view_name": "HTMLView",
            "description": "",
            "description_tooltip": null,
            "layout": "IPY_MODEL_3be8bc0c21554a388188f0dd30e7eea1",
            "placeholder": "​",
            "style": "IPY_MODEL_4e7afb76b7da4bf28b44b647b43caaa9",
            "value": " 438M/438M [00:05&lt;00:00, 117MB/s]"
          }
        },
        "c6df20027a1b4565941d966d12d29012": {
          "model_module": "@jupyter-widgets/base",
          "model_name": "LayoutModel",
          "model_module_version": "1.2.0",
          "state": {
            "_model_module": "@jupyter-widgets/base",
            "_model_module_version": "1.2.0",
            "_model_name": "LayoutModel",
            "_view_count": null,
            "_view_module": "@jupyter-widgets/base",
            "_view_module_version": "1.2.0",
            "_view_name": "LayoutView",
            "align_content": null,
            "align_items": null,
            "align_self": null,
            "border": null,
            "bottom": null,
            "display": null,
            "flex": null,
            "flex_flow": null,
            "grid_area": null,
            "grid_auto_columns": null,
            "grid_auto_flow": null,
            "grid_auto_rows": null,
            "grid_column": null,
            "grid_gap": null,
            "grid_row": null,
            "grid_template_areas": null,
            "grid_template_columns": null,
            "grid_template_rows": null,
            "height": null,
            "justify_content": null,
            "justify_items": null,
            "left": null,
            "margin": null,
            "max_height": null,
            "max_width": null,
            "min_height": null,
            "min_width": null,
            "object_fit": null,
            "object_position": null,
            "order": null,
            "overflow": null,
            "overflow_x": null,
            "overflow_y": null,
            "padding": null,
            "right": null,
            "top": null,
            "visibility": null,
            "width": null
          }
        },
        "d844cd73b88f44d89d43fa4de27326aa": {
          "model_module": "@jupyter-widgets/base",
          "model_name": "LayoutModel",
          "model_module_version": "1.2.0",
          "state": {
            "_model_module": "@jupyter-widgets/base",
            "_model_module_version": "1.2.0",
            "_model_name": "LayoutModel",
            "_view_count": null,
            "_view_module": "@jupyter-widgets/base",
            "_view_module_version": "1.2.0",
            "_view_name": "LayoutView",
            "align_content": null,
            "align_items": null,
            "align_self": null,
            "border": null,
            "bottom": null,
            "display": null,
            "flex": null,
            "flex_flow": null,
            "grid_area": null,
            "grid_auto_columns": null,
            "grid_auto_flow": null,
            "grid_auto_rows": null,
            "grid_column": null,
            "grid_gap": null,
            "grid_row": null,
            "grid_template_areas": null,
            "grid_template_columns": null,
            "grid_template_rows": null,
            "height": null,
            "justify_content": null,
            "justify_items": null,
            "left": null,
            "margin": null,
            "max_height": null,
            "max_width": null,
            "min_height": null,
            "min_width": null,
            "object_fit": null,
            "object_position": null,
            "order": null,
            "overflow": null,
            "overflow_x": null,
            "overflow_y": null,
            "padding": null,
            "right": null,
            "top": null,
            "visibility": null,
            "width": null
          }
        },
        "864c7fa2bd6749188d8aeb2c6b33648f": {
          "model_module": "@jupyter-widgets/controls",
          "model_name": "DescriptionStyleModel",
          "model_module_version": "1.5.0",
          "state": {
            "_model_module": "@jupyter-widgets/controls",
            "_model_module_version": "1.5.0",
            "_model_name": "DescriptionStyleModel",
            "_view_count": null,
            "_view_module": "@jupyter-widgets/base",
            "_view_module_version": "1.2.0",
            "_view_name": "StyleView",
            "description_width": ""
          }
        },
        "73116d731b0942d5a5e77f4cef91b2af": {
          "model_module": "@jupyter-widgets/base",
          "model_name": "LayoutModel",
          "model_module_version": "1.2.0",
          "state": {
            "_model_module": "@jupyter-widgets/base",
            "_model_module_version": "1.2.0",
            "_model_name": "LayoutModel",
            "_view_count": null,
            "_view_module": "@jupyter-widgets/base",
            "_view_module_version": "1.2.0",
            "_view_name": "LayoutView",
            "align_content": null,
            "align_items": null,
            "align_self": null,
            "border": null,
            "bottom": null,
            "display": null,
            "flex": null,
            "flex_flow": null,
            "grid_area": null,
            "grid_auto_columns": null,
            "grid_auto_flow": null,
            "grid_auto_rows": null,
            "grid_column": null,
            "grid_gap": null,
            "grid_row": null,
            "grid_template_areas": null,
            "grid_template_columns": null,
            "grid_template_rows": null,
            "height": null,
            "justify_content": null,
            "justify_items": null,
            "left": null,
            "margin": null,
            "max_height": null,
            "max_width": null,
            "min_height": null,
            "min_width": null,
            "object_fit": null,
            "object_position": null,
            "order": null,
            "overflow": null,
            "overflow_x": null,
            "overflow_y": null,
            "padding": null,
            "right": null,
            "top": null,
            "visibility": null,
            "width": null
          }
        },
        "f5db1599538f4fb88376777573d46fa7": {
          "model_module": "@jupyter-widgets/controls",
          "model_name": "ProgressStyleModel",
          "model_module_version": "1.5.0",
          "state": {
            "_model_module": "@jupyter-widgets/controls",
            "_model_module_version": "1.5.0",
            "_model_name": "ProgressStyleModel",
            "_view_count": null,
            "_view_module": "@jupyter-widgets/base",
            "_view_module_version": "1.2.0",
            "_view_name": "StyleView",
            "bar_color": null,
            "description_width": ""
          }
        },
        "3be8bc0c21554a388188f0dd30e7eea1": {
          "model_module": "@jupyter-widgets/base",
          "model_name": "LayoutModel",
          "model_module_version": "1.2.0",
          "state": {
            "_model_module": "@jupyter-widgets/base",
            "_model_module_version": "1.2.0",
            "_model_name": "LayoutModel",
            "_view_count": null,
            "_view_module": "@jupyter-widgets/base",
            "_view_module_version": "1.2.0",
            "_view_name": "LayoutView",
            "align_content": null,
            "align_items": null,
            "align_self": null,
            "border": null,
            "bottom": null,
            "display": null,
            "flex": null,
            "flex_flow": null,
            "grid_area": null,
            "grid_auto_columns": null,
            "grid_auto_flow": null,
            "grid_auto_rows": null,
            "grid_column": null,
            "grid_gap": null,
            "grid_row": null,
            "grid_template_areas": null,
            "grid_template_columns": null,
            "grid_template_rows": null,
            "height": null,
            "justify_content": null,
            "justify_items": null,
            "left": null,
            "margin": null,
            "max_height": null,
            "max_width": null,
            "min_height": null,
            "min_width": null,
            "object_fit": null,
            "object_position": null,
            "order": null,
            "overflow": null,
            "overflow_x": null,
            "overflow_y": null,
            "padding": null,
            "right": null,
            "top": null,
            "visibility": null,
            "width": null
          }
        },
        "4e7afb76b7da4bf28b44b647b43caaa9": {
          "model_module": "@jupyter-widgets/controls",
          "model_name": "DescriptionStyleModel",
          "model_module_version": "1.5.0",
          "state": {
            "_model_module": "@jupyter-widgets/controls",
            "_model_module_version": "1.5.0",
            "_model_name": "DescriptionStyleModel",
            "_view_count": null,
            "_view_module": "@jupyter-widgets/base",
            "_view_module_version": "1.2.0",
            "_view_name": "StyleView",
            "description_width": ""
          }
        },
        "06fc64162489439fbef51d661ef1acbd": {
          "model_module": "@jupyter-widgets/controls",
          "model_name": "HBoxModel",
          "model_module_version": "1.5.0",
          "state": {
            "_dom_classes": [],
            "_model_module": "@jupyter-widgets/controls",
            "_model_module_version": "1.5.0",
            "_model_name": "HBoxModel",
            "_view_count": null,
            "_view_module": "@jupyter-widgets/controls",
            "_view_module_version": "1.5.0",
            "_view_name": "HBoxView",
            "box_style": "",
            "children": [
              "IPY_MODEL_5671abc1289c436b9e7abf7a6121bd44",
              "IPY_MODEL_4cfc075ac9bc4f479da558a6b631917e",
              "IPY_MODEL_e3c5ee5b1d6841f1a0c17264f537de70"
            ],
            "layout": "IPY_MODEL_82df9cb171244caf9883e0504c41b5f1"
          }
        },
        "5671abc1289c436b9e7abf7a6121bd44": {
          "model_module": "@jupyter-widgets/controls",
          "model_name": "HTMLModel",
          "model_module_version": "1.5.0",
          "state": {
            "_dom_classes": [],
            "_model_module": "@jupyter-widgets/controls",
            "_model_module_version": "1.5.0",
            "_model_name": "HTMLModel",
            "_view_count": null,
            "_view_module": "@jupyter-widgets/controls",
            "_view_module_version": "1.5.0",
            "_view_name": "HTMLView",
            "description": "",
            "description_tooltip": null,
            "layout": "IPY_MODEL_5b05b1ec47d243f2b6e1b9f99c98665a",
            "placeholder": "​",
            "style": "IPY_MODEL_bdb37e678a51417fa6964288ee430d51",
            "value": "sentence_bert_config.json: 100%"
          }
        },
        "4cfc075ac9bc4f479da558a6b631917e": {
          "model_module": "@jupyter-widgets/controls",
          "model_name": "FloatProgressModel",
          "model_module_version": "1.5.0",
          "state": {
            "_dom_classes": [],
            "_model_module": "@jupyter-widgets/controls",
            "_model_module_version": "1.5.0",
            "_model_name": "FloatProgressModel",
            "_view_count": null,
            "_view_module": "@jupyter-widgets/controls",
            "_view_module_version": "1.5.0",
            "_view_name": "ProgressView",
            "bar_style": "success",
            "description": "",
            "description_tooltip": null,
            "layout": "IPY_MODEL_afe136f195d74f448234c44d81112dd5",
            "max": 53,
            "min": 0,
            "orientation": "horizontal",
            "style": "IPY_MODEL_4211201dfe6540c1a4fe90503dcd424c",
            "value": 53
          }
        },
        "e3c5ee5b1d6841f1a0c17264f537de70": {
          "model_module": "@jupyter-widgets/controls",
          "model_name": "HTMLModel",
          "model_module_version": "1.5.0",
          "state": {
            "_dom_classes": [],
            "_model_module": "@jupyter-widgets/controls",
            "_model_module_version": "1.5.0",
            "_model_name": "HTMLModel",
            "_view_count": null,
            "_view_module": "@jupyter-widgets/controls",
            "_view_module_version": "1.5.0",
            "_view_name": "HTMLView",
            "description": "",
            "description_tooltip": null,
            "layout": "IPY_MODEL_9e16ce84fee043b6928d23cc884a14f6",
            "placeholder": "​",
            "style": "IPY_MODEL_728670d86e0e478ab880c4eb30a02013",
            "value": " 53.0/53.0 [00:00&lt;00:00, 3.48kB/s]"
          }
        },
        "82df9cb171244caf9883e0504c41b5f1": {
          "model_module": "@jupyter-widgets/base",
          "model_name": "LayoutModel",
          "model_module_version": "1.2.0",
          "state": {
            "_model_module": "@jupyter-widgets/base",
            "_model_module_version": "1.2.0",
            "_model_name": "LayoutModel",
            "_view_count": null,
            "_view_module": "@jupyter-widgets/base",
            "_view_module_version": "1.2.0",
            "_view_name": "LayoutView",
            "align_content": null,
            "align_items": null,
            "align_self": null,
            "border": null,
            "bottom": null,
            "display": null,
            "flex": null,
            "flex_flow": null,
            "grid_area": null,
            "grid_auto_columns": null,
            "grid_auto_flow": null,
            "grid_auto_rows": null,
            "grid_column": null,
            "grid_gap": null,
            "grid_row": null,
            "grid_template_areas": null,
            "grid_template_columns": null,
            "grid_template_rows": null,
            "height": null,
            "justify_content": null,
            "justify_items": null,
            "left": null,
            "margin": null,
            "max_height": null,
            "max_width": null,
            "min_height": null,
            "min_width": null,
            "object_fit": null,
            "object_position": null,
            "order": null,
            "overflow": null,
            "overflow_x": null,
            "overflow_y": null,
            "padding": null,
            "right": null,
            "top": null,
            "visibility": null,
            "width": null
          }
        },
        "5b05b1ec47d243f2b6e1b9f99c98665a": {
          "model_module": "@jupyter-widgets/base",
          "model_name": "LayoutModel",
          "model_module_version": "1.2.0",
          "state": {
            "_model_module": "@jupyter-widgets/base",
            "_model_module_version": "1.2.0",
            "_model_name": "LayoutModel",
            "_view_count": null,
            "_view_module": "@jupyter-widgets/base",
            "_view_module_version": "1.2.0",
            "_view_name": "LayoutView",
            "align_content": null,
            "align_items": null,
            "align_self": null,
            "border": null,
            "bottom": null,
            "display": null,
            "flex": null,
            "flex_flow": null,
            "grid_area": null,
            "grid_auto_columns": null,
            "grid_auto_flow": null,
            "grid_auto_rows": null,
            "grid_column": null,
            "grid_gap": null,
            "grid_row": null,
            "grid_template_areas": null,
            "grid_template_columns": null,
            "grid_template_rows": null,
            "height": null,
            "justify_content": null,
            "justify_items": null,
            "left": null,
            "margin": null,
            "max_height": null,
            "max_width": null,
            "min_height": null,
            "min_width": null,
            "object_fit": null,
            "object_position": null,
            "order": null,
            "overflow": null,
            "overflow_x": null,
            "overflow_y": null,
            "padding": null,
            "right": null,
            "top": null,
            "visibility": null,
            "width": null
          }
        },
        "bdb37e678a51417fa6964288ee430d51": {
          "model_module": "@jupyter-widgets/controls",
          "model_name": "DescriptionStyleModel",
          "model_module_version": "1.5.0",
          "state": {
            "_model_module": "@jupyter-widgets/controls",
            "_model_module_version": "1.5.0",
            "_model_name": "DescriptionStyleModel",
            "_view_count": null,
            "_view_module": "@jupyter-widgets/base",
            "_view_module_version": "1.2.0",
            "_view_name": "StyleView",
            "description_width": ""
          }
        },
        "afe136f195d74f448234c44d81112dd5": {
          "model_module": "@jupyter-widgets/base",
          "model_name": "LayoutModel",
          "model_module_version": "1.2.0",
          "state": {
            "_model_module": "@jupyter-widgets/base",
            "_model_module_version": "1.2.0",
            "_model_name": "LayoutModel",
            "_view_count": null,
            "_view_module": "@jupyter-widgets/base",
            "_view_module_version": "1.2.0",
            "_view_name": "LayoutView",
            "align_content": null,
            "align_items": null,
            "align_self": null,
            "border": null,
            "bottom": null,
            "display": null,
            "flex": null,
            "flex_flow": null,
            "grid_area": null,
            "grid_auto_columns": null,
            "grid_auto_flow": null,
            "grid_auto_rows": null,
            "grid_column": null,
            "grid_gap": null,
            "grid_row": null,
            "grid_template_areas": null,
            "grid_template_columns": null,
            "grid_template_rows": null,
            "height": null,
            "justify_content": null,
            "justify_items": null,
            "left": null,
            "margin": null,
            "max_height": null,
            "max_width": null,
            "min_height": null,
            "min_width": null,
            "object_fit": null,
            "object_position": null,
            "order": null,
            "overflow": null,
            "overflow_x": null,
            "overflow_y": null,
            "padding": null,
            "right": null,
            "top": null,
            "visibility": null,
            "width": null
          }
        },
        "4211201dfe6540c1a4fe90503dcd424c": {
          "model_module": "@jupyter-widgets/controls",
          "model_name": "ProgressStyleModel",
          "model_module_version": "1.5.0",
          "state": {
            "_model_module": "@jupyter-widgets/controls",
            "_model_module_version": "1.5.0",
            "_model_name": "ProgressStyleModel",
            "_view_count": null,
            "_view_module": "@jupyter-widgets/base",
            "_view_module_version": "1.2.0",
            "_view_name": "StyleView",
            "bar_color": null,
            "description_width": ""
          }
        },
        "9e16ce84fee043b6928d23cc884a14f6": {
          "model_module": "@jupyter-widgets/base",
          "model_name": "LayoutModel",
          "model_module_version": "1.2.0",
          "state": {
            "_model_module": "@jupyter-widgets/base",
            "_model_module_version": "1.2.0",
            "_model_name": "LayoutModel",
            "_view_count": null,
            "_view_module": "@jupyter-widgets/base",
            "_view_module_version": "1.2.0",
            "_view_name": "LayoutView",
            "align_content": null,
            "align_items": null,
            "align_self": null,
            "border": null,
            "bottom": null,
            "display": null,
            "flex": null,
            "flex_flow": null,
            "grid_area": null,
            "grid_auto_columns": null,
            "grid_auto_flow": null,
            "grid_auto_rows": null,
            "grid_column": null,
            "grid_gap": null,
            "grid_row": null,
            "grid_template_areas": null,
            "grid_template_columns": null,
            "grid_template_rows": null,
            "height": null,
            "justify_content": null,
            "justify_items": null,
            "left": null,
            "margin": null,
            "max_height": null,
            "max_width": null,
            "min_height": null,
            "min_width": null,
            "object_fit": null,
            "object_position": null,
            "order": null,
            "overflow": null,
            "overflow_x": null,
            "overflow_y": null,
            "padding": null,
            "right": null,
            "top": null,
            "visibility": null,
            "width": null
          }
        },
        "728670d86e0e478ab880c4eb30a02013": {
          "model_module": "@jupyter-widgets/controls",
          "model_name": "DescriptionStyleModel",
          "model_module_version": "1.5.0",
          "state": {
            "_model_module": "@jupyter-widgets/controls",
            "_model_module_version": "1.5.0",
            "_model_name": "DescriptionStyleModel",
            "_view_count": null,
            "_view_module": "@jupyter-widgets/base",
            "_view_module_version": "1.2.0",
            "_view_name": "StyleView",
            "description_width": ""
          }
        },
        "4e2058dee3864be79749d4223f818cf3": {
          "model_module": "@jupyter-widgets/controls",
          "model_name": "HBoxModel",
          "model_module_version": "1.5.0",
          "state": {
            "_dom_classes": [],
            "_model_module": "@jupyter-widgets/controls",
            "_model_module_version": "1.5.0",
            "_model_name": "HBoxModel",
            "_view_count": null,
            "_view_module": "@jupyter-widgets/controls",
            "_view_module_version": "1.5.0",
            "_view_name": "HBoxView",
            "box_style": "",
            "children": [
              "IPY_MODEL_6b9c648f56244b63b4d736f64f5506a2",
              "IPY_MODEL_5c515095c961430794356410370cc26b",
              "IPY_MODEL_3cac80e269634acebcf8ef50928e2416"
            ],
            "layout": "IPY_MODEL_b7ed8b3f18eb416cbc8e60481c5f54e9"
          }
        },
        "6b9c648f56244b63b4d736f64f5506a2": {
          "model_module": "@jupyter-widgets/controls",
          "model_name": "HTMLModel",
          "model_module_version": "1.5.0",
          "state": {
            "_dom_classes": [],
            "_model_module": "@jupyter-widgets/controls",
            "_model_module_version": "1.5.0",
            "_model_name": "HTMLModel",
            "_view_count": null,
            "_view_module": "@jupyter-widgets/controls",
            "_view_module_version": "1.5.0",
            "_view_name": "HTMLView",
            "description": "",
            "description_tooltip": null,
            "layout": "IPY_MODEL_5e0cad383e8d4c109208e2729ff07cc3",
            "placeholder": "​",
            "style": "IPY_MODEL_7f49558e3e734c7097177d445e4cb6e0",
            "value": "special_tokens_map.json: 100%"
          }
        },
        "5c515095c961430794356410370cc26b": {
          "model_module": "@jupyter-widgets/controls",
          "model_name": "FloatProgressModel",
          "model_module_version": "1.5.0",
          "state": {
            "_dom_classes": [],
            "_model_module": "@jupyter-widgets/controls",
            "_model_module_version": "1.5.0",
            "_model_name": "FloatProgressModel",
            "_view_count": null,
            "_view_module": "@jupyter-widgets/controls",
            "_view_module_version": "1.5.0",
            "_view_name": "ProgressView",
            "bar_style": "success",
            "description": "",
            "description_tooltip": null,
            "layout": "IPY_MODEL_1a4650f9ae2547ca9c81f6b2bc06740c",
            "max": 112,
            "min": 0,
            "orientation": "horizontal",
            "style": "IPY_MODEL_0bc1ebaedfd74c6d926b8e5fa1bd64d0",
            "value": 112
          }
        },
        "3cac80e269634acebcf8ef50928e2416": {
          "model_module": "@jupyter-widgets/controls",
          "model_name": "HTMLModel",
          "model_module_version": "1.5.0",
          "state": {
            "_dom_classes": [],
            "_model_module": "@jupyter-widgets/controls",
            "_model_module_version": "1.5.0",
            "_model_name": "HTMLModel",
            "_view_count": null,
            "_view_module": "@jupyter-widgets/controls",
            "_view_module_version": "1.5.0",
            "_view_name": "HTMLView",
            "description": "",
            "description_tooltip": null,
            "layout": "IPY_MODEL_cba397ba41e54b00a45147f996e0f7e4",
            "placeholder": "​",
            "style": "IPY_MODEL_42c8579fcc68470d8ea27390c7d24b99",
            "value": " 112/112 [00:00&lt;00:00, 5.14kB/s]"
          }
        },
        "b7ed8b3f18eb416cbc8e60481c5f54e9": {
          "model_module": "@jupyter-widgets/base",
          "model_name": "LayoutModel",
          "model_module_version": "1.2.0",
          "state": {
            "_model_module": "@jupyter-widgets/base",
            "_model_module_version": "1.2.0",
            "_model_name": "LayoutModel",
            "_view_count": null,
            "_view_module": "@jupyter-widgets/base",
            "_view_module_version": "1.2.0",
            "_view_name": "LayoutView",
            "align_content": null,
            "align_items": null,
            "align_self": null,
            "border": null,
            "bottom": null,
            "display": null,
            "flex": null,
            "flex_flow": null,
            "grid_area": null,
            "grid_auto_columns": null,
            "grid_auto_flow": null,
            "grid_auto_rows": null,
            "grid_column": null,
            "grid_gap": null,
            "grid_row": null,
            "grid_template_areas": null,
            "grid_template_columns": null,
            "grid_template_rows": null,
            "height": null,
            "justify_content": null,
            "justify_items": null,
            "left": null,
            "margin": null,
            "max_height": null,
            "max_width": null,
            "min_height": null,
            "min_width": null,
            "object_fit": null,
            "object_position": null,
            "order": null,
            "overflow": null,
            "overflow_x": null,
            "overflow_y": null,
            "padding": null,
            "right": null,
            "top": null,
            "visibility": null,
            "width": null
          }
        },
        "5e0cad383e8d4c109208e2729ff07cc3": {
          "model_module": "@jupyter-widgets/base",
          "model_name": "LayoutModel",
          "model_module_version": "1.2.0",
          "state": {
            "_model_module": "@jupyter-widgets/base",
            "_model_module_version": "1.2.0",
            "_model_name": "LayoutModel",
            "_view_count": null,
            "_view_module": "@jupyter-widgets/base",
            "_view_module_version": "1.2.0",
            "_view_name": "LayoutView",
            "align_content": null,
            "align_items": null,
            "align_self": null,
            "border": null,
            "bottom": null,
            "display": null,
            "flex": null,
            "flex_flow": null,
            "grid_area": null,
            "grid_auto_columns": null,
            "grid_auto_flow": null,
            "grid_auto_rows": null,
            "grid_column": null,
            "grid_gap": null,
            "grid_row": null,
            "grid_template_areas": null,
            "grid_template_columns": null,
            "grid_template_rows": null,
            "height": null,
            "justify_content": null,
            "justify_items": null,
            "left": null,
            "margin": null,
            "max_height": null,
            "max_width": null,
            "min_height": null,
            "min_width": null,
            "object_fit": null,
            "object_position": null,
            "order": null,
            "overflow": null,
            "overflow_x": null,
            "overflow_y": null,
            "padding": null,
            "right": null,
            "top": null,
            "visibility": null,
            "width": null
          }
        },
        "7f49558e3e734c7097177d445e4cb6e0": {
          "model_module": "@jupyter-widgets/controls",
          "model_name": "DescriptionStyleModel",
          "model_module_version": "1.5.0",
          "state": {
            "_model_module": "@jupyter-widgets/controls",
            "_model_module_version": "1.5.0",
            "_model_name": "DescriptionStyleModel",
            "_view_count": null,
            "_view_module": "@jupyter-widgets/base",
            "_view_module_version": "1.2.0",
            "_view_name": "StyleView",
            "description_width": ""
          }
        },
        "1a4650f9ae2547ca9c81f6b2bc06740c": {
          "model_module": "@jupyter-widgets/base",
          "model_name": "LayoutModel",
          "model_module_version": "1.2.0",
          "state": {
            "_model_module": "@jupyter-widgets/base",
            "_model_module_version": "1.2.0",
            "_model_name": "LayoutModel",
            "_view_count": null,
            "_view_module": "@jupyter-widgets/base",
            "_view_module_version": "1.2.0",
            "_view_name": "LayoutView",
            "align_content": null,
            "align_items": null,
            "align_self": null,
            "border": null,
            "bottom": null,
            "display": null,
            "flex": null,
            "flex_flow": null,
            "grid_area": null,
            "grid_auto_columns": null,
            "grid_auto_flow": null,
            "grid_auto_rows": null,
            "grid_column": null,
            "grid_gap": null,
            "grid_row": null,
            "grid_template_areas": null,
            "grid_template_columns": null,
            "grid_template_rows": null,
            "height": null,
            "justify_content": null,
            "justify_items": null,
            "left": null,
            "margin": null,
            "max_height": null,
            "max_width": null,
            "min_height": null,
            "min_width": null,
            "object_fit": null,
            "object_position": null,
            "order": null,
            "overflow": null,
            "overflow_x": null,
            "overflow_y": null,
            "padding": null,
            "right": null,
            "top": null,
            "visibility": null,
            "width": null
          }
        },
        "0bc1ebaedfd74c6d926b8e5fa1bd64d0": {
          "model_module": "@jupyter-widgets/controls",
          "model_name": "ProgressStyleModel",
          "model_module_version": "1.5.0",
          "state": {
            "_model_module": "@jupyter-widgets/controls",
            "_model_module_version": "1.5.0",
            "_model_name": "ProgressStyleModel",
            "_view_count": null,
            "_view_module": "@jupyter-widgets/base",
            "_view_module_version": "1.2.0",
            "_view_name": "StyleView",
            "bar_color": null,
            "description_width": ""
          }
        },
        "cba397ba41e54b00a45147f996e0f7e4": {
          "model_module": "@jupyter-widgets/base",
          "model_name": "LayoutModel",
          "model_module_version": "1.2.0",
          "state": {
            "_model_module": "@jupyter-widgets/base",
            "_model_module_version": "1.2.0",
            "_model_name": "LayoutModel",
            "_view_count": null,
            "_view_module": "@jupyter-widgets/base",
            "_view_module_version": "1.2.0",
            "_view_name": "LayoutView",
            "align_content": null,
            "align_items": null,
            "align_self": null,
            "border": null,
            "bottom": null,
            "display": null,
            "flex": null,
            "flex_flow": null,
            "grid_area": null,
            "grid_auto_columns": null,
            "grid_auto_flow": null,
            "grid_auto_rows": null,
            "grid_column": null,
            "grid_gap": null,
            "grid_row": null,
            "grid_template_areas": null,
            "grid_template_columns": null,
            "grid_template_rows": null,
            "height": null,
            "justify_content": null,
            "justify_items": null,
            "left": null,
            "margin": null,
            "max_height": null,
            "max_width": null,
            "min_height": null,
            "min_width": null,
            "object_fit": null,
            "object_position": null,
            "order": null,
            "overflow": null,
            "overflow_x": null,
            "overflow_y": null,
            "padding": null,
            "right": null,
            "top": null,
            "visibility": null,
            "width": null
          }
        },
        "42c8579fcc68470d8ea27390c7d24b99": {
          "model_module": "@jupyter-widgets/controls",
          "model_name": "DescriptionStyleModel",
          "model_module_version": "1.5.0",
          "state": {
            "_model_module": "@jupyter-widgets/controls",
            "_model_module_version": "1.5.0",
            "_model_name": "DescriptionStyleModel",
            "_view_count": null,
            "_view_module": "@jupyter-widgets/base",
            "_view_module_version": "1.2.0",
            "_view_name": "StyleView",
            "description_width": ""
          }
        },
        "613db429be5247b2a3053e4d7608baea": {
          "model_module": "@jupyter-widgets/controls",
          "model_name": "HBoxModel",
          "model_module_version": "1.5.0",
          "state": {
            "_dom_classes": [],
            "_model_module": "@jupyter-widgets/controls",
            "_model_module_version": "1.5.0",
            "_model_name": "HBoxModel",
            "_view_count": null,
            "_view_module": "@jupyter-widgets/controls",
            "_view_module_version": "1.5.0",
            "_view_name": "HBoxView",
            "box_style": "",
            "children": [
              "IPY_MODEL_5d7164f1675c491f8292e9610e0ff5fd",
              "IPY_MODEL_28b844f79c3a438d8ff04c1a81529601",
              "IPY_MODEL_c9ad3b1336004ae68b37bfb173b80f0a"
            ],
            "layout": "IPY_MODEL_ac0f981644a34f52b521623028c851a8"
          }
        },
        "5d7164f1675c491f8292e9610e0ff5fd": {
          "model_module": "@jupyter-widgets/controls",
          "model_name": "HTMLModel",
          "model_module_version": "1.5.0",
          "state": {
            "_dom_classes": [],
            "_model_module": "@jupyter-widgets/controls",
            "_model_module_version": "1.5.0",
            "_model_name": "HTMLModel",
            "_view_count": null,
            "_view_module": "@jupyter-widgets/controls",
            "_view_module_version": "1.5.0",
            "_view_name": "HTMLView",
            "description": "",
            "description_tooltip": null,
            "layout": "IPY_MODEL_4d0a0135fa134377a0c7cfdd79ec613d",
            "placeholder": "​",
            "style": "IPY_MODEL_b3cd75236cf449deb37ecdc3aa43c33f",
            "value": "tokenizer.json: 100%"
          }
        },
        "28b844f79c3a438d8ff04c1a81529601": {
          "model_module": "@jupyter-widgets/controls",
          "model_name": "FloatProgressModel",
          "model_module_version": "1.5.0",
          "state": {
            "_dom_classes": [],
            "_model_module": "@jupyter-widgets/controls",
            "_model_module_version": "1.5.0",
            "_model_name": "FloatProgressModel",
            "_view_count": null,
            "_view_module": "@jupyter-widgets/controls",
            "_view_module_version": "1.5.0",
            "_view_name": "ProgressView",
            "bar_style": "success",
            "description": "",
            "description_tooltip": null,
            "layout": "IPY_MODEL_4ae0b03d4477475a8d4f6fe7cee48bb4",
            "max": 466081,
            "min": 0,
            "orientation": "horizontal",
            "style": "IPY_MODEL_3eb3cc4893df4868ad8c627e7f68fe39",
            "value": 466081
          }
        },
        "c9ad3b1336004ae68b37bfb173b80f0a": {
          "model_module": "@jupyter-widgets/controls",
          "model_name": "HTMLModel",
          "model_module_version": "1.5.0",
          "state": {
            "_dom_classes": [],
            "_model_module": "@jupyter-widgets/controls",
            "_model_module_version": "1.5.0",
            "_model_name": "HTMLModel",
            "_view_count": null,
            "_view_module": "@jupyter-widgets/controls",
            "_view_module_version": "1.5.0",
            "_view_name": "HTMLView",
            "description": "",
            "description_tooltip": null,
            "layout": "IPY_MODEL_eaa53ac76d1548909425b7eaa198cd21",
            "placeholder": "​",
            "style": "IPY_MODEL_18e2ed793b9b4aa8a909099ad866b507",
            "value": " 466k/466k [00:00&lt;00:00, 6.53MB/s]"
          }
        },
        "ac0f981644a34f52b521623028c851a8": {
          "model_module": "@jupyter-widgets/base",
          "model_name": "LayoutModel",
          "model_module_version": "1.2.0",
          "state": {
            "_model_module": "@jupyter-widgets/base",
            "_model_module_version": "1.2.0",
            "_model_name": "LayoutModel",
            "_view_count": null,
            "_view_module": "@jupyter-widgets/base",
            "_view_module_version": "1.2.0",
            "_view_name": "LayoutView",
            "align_content": null,
            "align_items": null,
            "align_self": null,
            "border": null,
            "bottom": null,
            "display": null,
            "flex": null,
            "flex_flow": null,
            "grid_area": null,
            "grid_auto_columns": null,
            "grid_auto_flow": null,
            "grid_auto_rows": null,
            "grid_column": null,
            "grid_gap": null,
            "grid_row": null,
            "grid_template_areas": null,
            "grid_template_columns": null,
            "grid_template_rows": null,
            "height": null,
            "justify_content": null,
            "justify_items": null,
            "left": null,
            "margin": null,
            "max_height": null,
            "max_width": null,
            "min_height": null,
            "min_width": null,
            "object_fit": null,
            "object_position": null,
            "order": null,
            "overflow": null,
            "overflow_x": null,
            "overflow_y": null,
            "padding": null,
            "right": null,
            "top": null,
            "visibility": null,
            "width": null
          }
        },
        "4d0a0135fa134377a0c7cfdd79ec613d": {
          "model_module": "@jupyter-widgets/base",
          "model_name": "LayoutModel",
          "model_module_version": "1.2.0",
          "state": {
            "_model_module": "@jupyter-widgets/base",
            "_model_module_version": "1.2.0",
            "_model_name": "LayoutModel",
            "_view_count": null,
            "_view_module": "@jupyter-widgets/base",
            "_view_module_version": "1.2.0",
            "_view_name": "LayoutView",
            "align_content": null,
            "align_items": null,
            "align_self": null,
            "border": null,
            "bottom": null,
            "display": null,
            "flex": null,
            "flex_flow": null,
            "grid_area": null,
            "grid_auto_columns": null,
            "grid_auto_flow": null,
            "grid_auto_rows": null,
            "grid_column": null,
            "grid_gap": null,
            "grid_row": null,
            "grid_template_areas": null,
            "grid_template_columns": null,
            "grid_template_rows": null,
            "height": null,
            "justify_content": null,
            "justify_items": null,
            "left": null,
            "margin": null,
            "max_height": null,
            "max_width": null,
            "min_height": null,
            "min_width": null,
            "object_fit": null,
            "object_position": null,
            "order": null,
            "overflow": null,
            "overflow_x": null,
            "overflow_y": null,
            "padding": null,
            "right": null,
            "top": null,
            "visibility": null,
            "width": null
          }
        },
        "b3cd75236cf449deb37ecdc3aa43c33f": {
          "model_module": "@jupyter-widgets/controls",
          "model_name": "DescriptionStyleModel",
          "model_module_version": "1.5.0",
          "state": {
            "_model_module": "@jupyter-widgets/controls",
            "_model_module_version": "1.5.0",
            "_model_name": "DescriptionStyleModel",
            "_view_count": null,
            "_view_module": "@jupyter-widgets/base",
            "_view_module_version": "1.2.0",
            "_view_name": "StyleView",
            "description_width": ""
          }
        },
        "4ae0b03d4477475a8d4f6fe7cee48bb4": {
          "model_module": "@jupyter-widgets/base",
          "model_name": "LayoutModel",
          "model_module_version": "1.2.0",
          "state": {
            "_model_module": "@jupyter-widgets/base",
            "_model_module_version": "1.2.0",
            "_model_name": "LayoutModel",
            "_view_count": null,
            "_view_module": "@jupyter-widgets/base",
            "_view_module_version": "1.2.0",
            "_view_name": "LayoutView",
            "align_content": null,
            "align_items": null,
            "align_self": null,
            "border": null,
            "bottom": null,
            "display": null,
            "flex": null,
            "flex_flow": null,
            "grid_area": null,
            "grid_auto_columns": null,
            "grid_auto_flow": null,
            "grid_auto_rows": null,
            "grid_column": null,
            "grid_gap": null,
            "grid_row": null,
            "grid_template_areas": null,
            "grid_template_columns": null,
            "grid_template_rows": null,
            "height": null,
            "justify_content": null,
            "justify_items": null,
            "left": null,
            "margin": null,
            "max_height": null,
            "max_width": null,
            "min_height": null,
            "min_width": null,
            "object_fit": null,
            "object_position": null,
            "order": null,
            "overflow": null,
            "overflow_x": null,
            "overflow_y": null,
            "padding": null,
            "right": null,
            "top": null,
            "visibility": null,
            "width": null
          }
        },
        "3eb3cc4893df4868ad8c627e7f68fe39": {
          "model_module": "@jupyter-widgets/controls",
          "model_name": "ProgressStyleModel",
          "model_module_version": "1.5.0",
          "state": {
            "_model_module": "@jupyter-widgets/controls",
            "_model_module_version": "1.5.0",
            "_model_name": "ProgressStyleModel",
            "_view_count": null,
            "_view_module": "@jupyter-widgets/base",
            "_view_module_version": "1.2.0",
            "_view_name": "StyleView",
            "bar_color": null,
            "description_width": ""
          }
        },
        "eaa53ac76d1548909425b7eaa198cd21": {
          "model_module": "@jupyter-widgets/base",
          "model_name": "LayoutModel",
          "model_module_version": "1.2.0",
          "state": {
            "_model_module": "@jupyter-widgets/base",
            "_model_module_version": "1.2.0",
            "_model_name": "LayoutModel",
            "_view_count": null,
            "_view_module": "@jupyter-widgets/base",
            "_view_module_version": "1.2.0",
            "_view_name": "LayoutView",
            "align_content": null,
            "align_items": null,
            "align_self": null,
            "border": null,
            "bottom": null,
            "display": null,
            "flex": null,
            "flex_flow": null,
            "grid_area": null,
            "grid_auto_columns": null,
            "grid_auto_flow": null,
            "grid_auto_rows": null,
            "grid_column": null,
            "grid_gap": null,
            "grid_row": null,
            "grid_template_areas": null,
            "grid_template_columns": null,
            "grid_template_rows": null,
            "height": null,
            "justify_content": null,
            "justify_items": null,
            "left": null,
            "margin": null,
            "max_height": null,
            "max_width": null,
            "min_height": null,
            "min_width": null,
            "object_fit": null,
            "object_position": null,
            "order": null,
            "overflow": null,
            "overflow_x": null,
            "overflow_y": null,
            "padding": null,
            "right": null,
            "top": null,
            "visibility": null,
            "width": null
          }
        },
        "18e2ed793b9b4aa8a909099ad866b507": {
          "model_module": "@jupyter-widgets/controls",
          "model_name": "DescriptionStyleModel",
          "model_module_version": "1.5.0",
          "state": {
            "_model_module": "@jupyter-widgets/controls",
            "_model_module_version": "1.5.0",
            "_model_name": "DescriptionStyleModel",
            "_view_count": null,
            "_view_module": "@jupyter-widgets/base",
            "_view_module_version": "1.2.0",
            "_view_name": "StyleView",
            "description_width": ""
          }
        },
        "9016744a2947410498c58925bb498a9d": {
          "model_module": "@jupyter-widgets/controls",
          "model_name": "HBoxModel",
          "model_module_version": "1.5.0",
          "state": {
            "_dom_classes": [],
            "_model_module": "@jupyter-widgets/controls",
            "_model_module_version": "1.5.0",
            "_model_name": "HBoxModel",
            "_view_count": null,
            "_view_module": "@jupyter-widgets/controls",
            "_view_module_version": "1.5.0",
            "_view_name": "HBoxView",
            "box_style": "",
            "children": [
              "IPY_MODEL_775326832a194d10a7f3f8ac92ebb325",
              "IPY_MODEL_9cdda09636e048d99d2412da2f9b558d",
              "IPY_MODEL_8e99875a4d2344d1a0b96305b7fca623"
            ],
            "layout": "IPY_MODEL_44002a8e25dc483bade85d940bf3730f"
          }
        },
        "775326832a194d10a7f3f8ac92ebb325": {
          "model_module": "@jupyter-widgets/controls",
          "model_name": "HTMLModel",
          "model_module_version": "1.5.0",
          "state": {
            "_dom_classes": [],
            "_model_module": "@jupyter-widgets/controls",
            "_model_module_version": "1.5.0",
            "_model_name": "HTMLModel",
            "_view_count": null,
            "_view_module": "@jupyter-widgets/controls",
            "_view_module_version": "1.5.0",
            "_view_name": "HTMLView",
            "description": "",
            "description_tooltip": null,
            "layout": "IPY_MODEL_85c9d571fd4f49309190144177fe80bc",
            "placeholder": "​",
            "style": "IPY_MODEL_dc567cb9722f45eeaf6fa3799a53f684",
            "value": "tokenizer_config.json: 100%"
          }
        },
        "9cdda09636e048d99d2412da2f9b558d": {
          "model_module": "@jupyter-widgets/controls",
          "model_name": "FloatProgressModel",
          "model_module_version": "1.5.0",
          "state": {
            "_dom_classes": [],
            "_model_module": "@jupyter-widgets/controls",
            "_model_module_version": "1.5.0",
            "_model_name": "FloatProgressModel",
            "_view_count": null,
            "_view_module": "@jupyter-widgets/controls",
            "_view_module_version": "1.5.0",
            "_view_name": "ProgressView",
            "bar_style": "success",
            "description": "",
            "description_tooltip": null,
            "layout": "IPY_MODEL_b78576de0f0145279eb28ac853569c1a",
            "max": 399,
            "min": 0,
            "orientation": "horizontal",
            "style": "IPY_MODEL_2722c62f0b9a4be595ce0c89b958b674",
            "value": 399
          }
        },
        "8e99875a4d2344d1a0b96305b7fca623": {
          "model_module": "@jupyter-widgets/controls",
          "model_name": "HTMLModel",
          "model_module_version": "1.5.0",
          "state": {
            "_dom_classes": [],
            "_model_module": "@jupyter-widgets/controls",
            "_model_module_version": "1.5.0",
            "_model_name": "HTMLModel",
            "_view_count": null,
            "_view_module": "@jupyter-widgets/controls",
            "_view_module_version": "1.5.0",
            "_view_name": "HTMLView",
            "description": "",
            "description_tooltip": null,
            "layout": "IPY_MODEL_b26516a17b73409a9c8ab02312e3d57f",
            "placeholder": "​",
            "style": "IPY_MODEL_a5284da01ebb45ae9aead62a6e451dd2",
            "value": " 399/399 [00:00&lt;00:00, 22.9kB/s]"
          }
        },
        "44002a8e25dc483bade85d940bf3730f": {
          "model_module": "@jupyter-widgets/base",
          "model_name": "LayoutModel",
          "model_module_version": "1.2.0",
          "state": {
            "_model_module": "@jupyter-widgets/base",
            "_model_module_version": "1.2.0",
            "_model_name": "LayoutModel",
            "_view_count": null,
            "_view_module": "@jupyter-widgets/base",
            "_view_module_version": "1.2.0",
            "_view_name": "LayoutView",
            "align_content": null,
            "align_items": null,
            "align_self": null,
            "border": null,
            "bottom": null,
            "display": null,
            "flex": null,
            "flex_flow": null,
            "grid_area": null,
            "grid_auto_columns": null,
            "grid_auto_flow": null,
            "grid_auto_rows": null,
            "grid_column": null,
            "grid_gap": null,
            "grid_row": null,
            "grid_template_areas": null,
            "grid_template_columns": null,
            "grid_template_rows": null,
            "height": null,
            "justify_content": null,
            "justify_items": null,
            "left": null,
            "margin": null,
            "max_height": null,
            "max_width": null,
            "min_height": null,
            "min_width": null,
            "object_fit": null,
            "object_position": null,
            "order": null,
            "overflow": null,
            "overflow_x": null,
            "overflow_y": null,
            "padding": null,
            "right": null,
            "top": null,
            "visibility": null,
            "width": null
          }
        },
        "85c9d571fd4f49309190144177fe80bc": {
          "model_module": "@jupyter-widgets/base",
          "model_name": "LayoutModel",
          "model_module_version": "1.2.0",
          "state": {
            "_model_module": "@jupyter-widgets/base",
            "_model_module_version": "1.2.0",
            "_model_name": "LayoutModel",
            "_view_count": null,
            "_view_module": "@jupyter-widgets/base",
            "_view_module_version": "1.2.0",
            "_view_name": "LayoutView",
            "align_content": null,
            "align_items": null,
            "align_self": null,
            "border": null,
            "bottom": null,
            "display": null,
            "flex": null,
            "flex_flow": null,
            "grid_area": null,
            "grid_auto_columns": null,
            "grid_auto_flow": null,
            "grid_auto_rows": null,
            "grid_column": null,
            "grid_gap": null,
            "grid_row": null,
            "grid_template_areas": null,
            "grid_template_columns": null,
            "grid_template_rows": null,
            "height": null,
            "justify_content": null,
            "justify_items": null,
            "left": null,
            "margin": null,
            "max_height": null,
            "max_width": null,
            "min_height": null,
            "min_width": null,
            "object_fit": null,
            "object_position": null,
            "order": null,
            "overflow": null,
            "overflow_x": null,
            "overflow_y": null,
            "padding": null,
            "right": null,
            "top": null,
            "visibility": null,
            "width": null
          }
        },
        "dc567cb9722f45eeaf6fa3799a53f684": {
          "model_module": "@jupyter-widgets/controls",
          "model_name": "DescriptionStyleModel",
          "model_module_version": "1.5.0",
          "state": {
            "_model_module": "@jupyter-widgets/controls",
            "_model_module_version": "1.5.0",
            "_model_name": "DescriptionStyleModel",
            "_view_count": null,
            "_view_module": "@jupyter-widgets/base",
            "_view_module_version": "1.2.0",
            "_view_name": "StyleView",
            "description_width": ""
          }
        },
        "b78576de0f0145279eb28ac853569c1a": {
          "model_module": "@jupyter-widgets/base",
          "model_name": "LayoutModel",
          "model_module_version": "1.2.0",
          "state": {
            "_model_module": "@jupyter-widgets/base",
            "_model_module_version": "1.2.0",
            "_model_name": "LayoutModel",
            "_view_count": null,
            "_view_module": "@jupyter-widgets/base",
            "_view_module_version": "1.2.0",
            "_view_name": "LayoutView",
            "align_content": null,
            "align_items": null,
            "align_self": null,
            "border": null,
            "bottom": null,
            "display": null,
            "flex": null,
            "flex_flow": null,
            "grid_area": null,
            "grid_auto_columns": null,
            "grid_auto_flow": null,
            "grid_auto_rows": null,
            "grid_column": null,
            "grid_gap": null,
            "grid_row": null,
            "grid_template_areas": null,
            "grid_template_columns": null,
            "grid_template_rows": null,
            "height": null,
            "justify_content": null,
            "justify_items": null,
            "left": null,
            "margin": null,
            "max_height": null,
            "max_width": null,
            "min_height": null,
            "min_width": null,
            "object_fit": null,
            "object_position": null,
            "order": null,
            "overflow": null,
            "overflow_x": null,
            "overflow_y": null,
            "padding": null,
            "right": null,
            "top": null,
            "visibility": null,
            "width": null
          }
        },
        "2722c62f0b9a4be595ce0c89b958b674": {
          "model_module": "@jupyter-widgets/controls",
          "model_name": "ProgressStyleModel",
          "model_module_version": "1.5.0",
          "state": {
            "_model_module": "@jupyter-widgets/controls",
            "_model_module_version": "1.5.0",
            "_model_name": "ProgressStyleModel",
            "_view_count": null,
            "_view_module": "@jupyter-widgets/base",
            "_view_module_version": "1.2.0",
            "_view_name": "StyleView",
            "bar_color": null,
            "description_width": ""
          }
        },
        "b26516a17b73409a9c8ab02312e3d57f": {
          "model_module": "@jupyter-widgets/base",
          "model_name": "LayoutModel",
          "model_module_version": "1.2.0",
          "state": {
            "_model_module": "@jupyter-widgets/base",
            "_model_module_version": "1.2.0",
            "_model_name": "LayoutModel",
            "_view_count": null,
            "_view_module": "@jupyter-widgets/base",
            "_view_module_version": "1.2.0",
            "_view_name": "LayoutView",
            "align_content": null,
            "align_items": null,
            "align_self": null,
            "border": null,
            "bottom": null,
            "display": null,
            "flex": null,
            "flex_flow": null,
            "grid_area": null,
            "grid_auto_columns": null,
            "grid_auto_flow": null,
            "grid_auto_rows": null,
            "grid_column": null,
            "grid_gap": null,
            "grid_row": null,
            "grid_template_areas": null,
            "grid_template_columns": null,
            "grid_template_rows": null,
            "height": null,
            "justify_content": null,
            "justify_items": null,
            "left": null,
            "margin": null,
            "max_height": null,
            "max_width": null,
            "min_height": null,
            "min_width": null,
            "object_fit": null,
            "object_position": null,
            "order": null,
            "overflow": null,
            "overflow_x": null,
            "overflow_y": null,
            "padding": null,
            "right": null,
            "top": null,
            "visibility": null,
            "width": null
          }
        },
        "a5284da01ebb45ae9aead62a6e451dd2": {
          "model_module": "@jupyter-widgets/controls",
          "model_name": "DescriptionStyleModel",
          "model_module_version": "1.5.0",
          "state": {
            "_model_module": "@jupyter-widgets/controls",
            "_model_module_version": "1.5.0",
            "_model_name": "DescriptionStyleModel",
            "_view_count": null,
            "_view_module": "@jupyter-widgets/base",
            "_view_module_version": "1.2.0",
            "_view_name": "StyleView",
            "description_width": ""
          }
        },
        "4a23726a9f91427aa9df4ff58a878a0d": {
          "model_module": "@jupyter-widgets/controls",
          "model_name": "HBoxModel",
          "model_module_version": "1.5.0",
          "state": {
            "_dom_classes": [],
            "_model_module": "@jupyter-widgets/controls",
            "_model_module_version": "1.5.0",
            "_model_name": "HBoxModel",
            "_view_count": null,
            "_view_module": "@jupyter-widgets/controls",
            "_view_module_version": "1.5.0",
            "_view_name": "HBoxView",
            "box_style": "",
            "children": [
              "IPY_MODEL_eaa80464a1d14dd58e02aab715887696",
              "IPY_MODEL_e343ac2418ee49b789f73e01e5496ed5",
              "IPY_MODEL_086af34834c64547921388a807ea3fc5"
            ],
            "layout": "IPY_MODEL_de72b63bd9e24369916c7ea3fe9cbd8b"
          }
        },
        "eaa80464a1d14dd58e02aab715887696": {
          "model_module": "@jupyter-widgets/controls",
          "model_name": "HTMLModel",
          "model_module_version": "1.5.0",
          "state": {
            "_dom_classes": [],
            "_model_module": "@jupyter-widgets/controls",
            "_model_module_version": "1.5.0",
            "_model_name": "HTMLModel",
            "_view_count": null,
            "_view_module": "@jupyter-widgets/controls",
            "_view_module_version": "1.5.0",
            "_view_name": "HTMLView",
            "description": "",
            "description_tooltip": null,
            "layout": "IPY_MODEL_b185f4829d504b099929bd3155e44e8d",
            "placeholder": "​",
            "style": "IPY_MODEL_060cabbf17e54827b5f3307e32ee5488",
            "value": "vocab.txt: 100%"
          }
        },
        "e343ac2418ee49b789f73e01e5496ed5": {
          "model_module": "@jupyter-widgets/controls",
          "model_name": "FloatProgressModel",
          "model_module_version": "1.5.0",
          "state": {
            "_dom_classes": [],
            "_model_module": "@jupyter-widgets/controls",
            "_model_module_version": "1.5.0",
            "_model_name": "FloatProgressModel",
            "_view_count": null,
            "_view_module": "@jupyter-widgets/controls",
            "_view_module_version": "1.5.0",
            "_view_name": "ProgressView",
            "bar_style": "success",
            "description": "",
            "description_tooltip": null,
            "layout": "IPY_MODEL_47375d8a2df74bb0883dd0c0e7d3c315",
            "max": 231508,
            "min": 0,
            "orientation": "horizontal",
            "style": "IPY_MODEL_bace5c17e9284556b43105b3e20b11c1",
            "value": 231508
          }
        },
        "086af34834c64547921388a807ea3fc5": {
          "model_module": "@jupyter-widgets/controls",
          "model_name": "HTMLModel",
          "model_module_version": "1.5.0",
          "state": {
            "_dom_classes": [],
            "_model_module": "@jupyter-widgets/controls",
            "_model_module_version": "1.5.0",
            "_model_name": "HTMLModel",
            "_view_count": null,
            "_view_module": "@jupyter-widgets/controls",
            "_view_module_version": "1.5.0",
            "_view_name": "HTMLView",
            "description": "",
            "description_tooltip": null,
            "layout": "IPY_MODEL_e2e2d1d7a86b4b06bb7e26b542f32c02",
            "placeholder": "​",
            "style": "IPY_MODEL_5894f21f6d46485e922e9bcc480f0b60",
            "value": " 232k/232k [00:00&lt;00:00, 11.1MB/s]"
          }
        },
        "de72b63bd9e24369916c7ea3fe9cbd8b": {
          "model_module": "@jupyter-widgets/base",
          "model_name": "LayoutModel",
          "model_module_version": "1.2.0",
          "state": {
            "_model_module": "@jupyter-widgets/base",
            "_model_module_version": "1.2.0",
            "_model_name": "LayoutModel",
            "_view_count": null,
            "_view_module": "@jupyter-widgets/base",
            "_view_module_version": "1.2.0",
            "_view_name": "LayoutView",
            "align_content": null,
            "align_items": null,
            "align_self": null,
            "border": null,
            "bottom": null,
            "display": null,
            "flex": null,
            "flex_flow": null,
            "grid_area": null,
            "grid_auto_columns": null,
            "grid_auto_flow": null,
            "grid_auto_rows": null,
            "grid_column": null,
            "grid_gap": null,
            "grid_row": null,
            "grid_template_areas": null,
            "grid_template_columns": null,
            "grid_template_rows": null,
            "height": null,
            "justify_content": null,
            "justify_items": null,
            "left": null,
            "margin": null,
            "max_height": null,
            "max_width": null,
            "min_height": null,
            "min_width": null,
            "object_fit": null,
            "object_position": null,
            "order": null,
            "overflow": null,
            "overflow_x": null,
            "overflow_y": null,
            "padding": null,
            "right": null,
            "top": null,
            "visibility": null,
            "width": null
          }
        },
        "b185f4829d504b099929bd3155e44e8d": {
          "model_module": "@jupyter-widgets/base",
          "model_name": "LayoutModel",
          "model_module_version": "1.2.0",
          "state": {
            "_model_module": "@jupyter-widgets/base",
            "_model_module_version": "1.2.0",
            "_model_name": "LayoutModel",
            "_view_count": null,
            "_view_module": "@jupyter-widgets/base",
            "_view_module_version": "1.2.0",
            "_view_name": "LayoutView",
            "align_content": null,
            "align_items": null,
            "align_self": null,
            "border": null,
            "bottom": null,
            "display": null,
            "flex": null,
            "flex_flow": null,
            "grid_area": null,
            "grid_auto_columns": null,
            "grid_auto_flow": null,
            "grid_auto_rows": null,
            "grid_column": null,
            "grid_gap": null,
            "grid_row": null,
            "grid_template_areas": null,
            "grid_template_columns": null,
            "grid_template_rows": null,
            "height": null,
            "justify_content": null,
            "justify_items": null,
            "left": null,
            "margin": null,
            "max_height": null,
            "max_width": null,
            "min_height": null,
            "min_width": null,
            "object_fit": null,
            "object_position": null,
            "order": null,
            "overflow": null,
            "overflow_x": null,
            "overflow_y": null,
            "padding": null,
            "right": null,
            "top": null,
            "visibility": null,
            "width": null
          }
        },
        "060cabbf17e54827b5f3307e32ee5488": {
          "model_module": "@jupyter-widgets/controls",
          "model_name": "DescriptionStyleModel",
          "model_module_version": "1.5.0",
          "state": {
            "_model_module": "@jupyter-widgets/controls",
            "_model_module_version": "1.5.0",
            "_model_name": "DescriptionStyleModel",
            "_view_count": null,
            "_view_module": "@jupyter-widgets/base",
            "_view_module_version": "1.2.0",
            "_view_name": "StyleView",
            "description_width": ""
          }
        },
        "47375d8a2df74bb0883dd0c0e7d3c315": {
          "model_module": "@jupyter-widgets/base",
          "model_name": "LayoutModel",
          "model_module_version": "1.2.0",
          "state": {
            "_model_module": "@jupyter-widgets/base",
            "_model_module_version": "1.2.0",
            "_model_name": "LayoutModel",
            "_view_count": null,
            "_view_module": "@jupyter-widgets/base",
            "_view_module_version": "1.2.0",
            "_view_name": "LayoutView",
            "align_content": null,
            "align_items": null,
            "align_self": null,
            "border": null,
            "bottom": null,
            "display": null,
            "flex": null,
            "flex_flow": null,
            "grid_area": null,
            "grid_auto_columns": null,
            "grid_auto_flow": null,
            "grid_auto_rows": null,
            "grid_column": null,
            "grid_gap": null,
            "grid_row": null,
            "grid_template_areas": null,
            "grid_template_columns": null,
            "grid_template_rows": null,
            "height": null,
            "justify_content": null,
            "justify_items": null,
            "left": null,
            "margin": null,
            "max_height": null,
            "max_width": null,
            "min_height": null,
            "min_width": null,
            "object_fit": null,
            "object_position": null,
            "order": null,
            "overflow": null,
            "overflow_x": null,
            "overflow_y": null,
            "padding": null,
            "right": null,
            "top": null,
            "visibility": null,
            "width": null
          }
        },
        "bace5c17e9284556b43105b3e20b11c1": {
          "model_module": "@jupyter-widgets/controls",
          "model_name": "ProgressStyleModel",
          "model_module_version": "1.5.0",
          "state": {
            "_model_module": "@jupyter-widgets/controls",
            "_model_module_version": "1.5.0",
            "_model_name": "ProgressStyleModel",
            "_view_count": null,
            "_view_module": "@jupyter-widgets/base",
            "_view_module_version": "1.2.0",
            "_view_name": "StyleView",
            "bar_color": null,
            "description_width": ""
          }
        },
        "e2e2d1d7a86b4b06bb7e26b542f32c02": {
          "model_module": "@jupyter-widgets/base",
          "model_name": "LayoutModel",
          "model_module_version": "1.2.0",
          "state": {
            "_model_module": "@jupyter-widgets/base",
            "_model_module_version": "1.2.0",
            "_model_name": "LayoutModel",
            "_view_count": null,
            "_view_module": "@jupyter-widgets/base",
            "_view_module_version": "1.2.0",
            "_view_name": "LayoutView",
            "align_content": null,
            "align_items": null,
            "align_self": null,
            "border": null,
            "bottom": null,
            "display": null,
            "flex": null,
            "flex_flow": null,
            "grid_area": null,
            "grid_auto_columns": null,
            "grid_auto_flow": null,
            "grid_auto_rows": null,
            "grid_column": null,
            "grid_gap": null,
            "grid_row": null,
            "grid_template_areas": null,
            "grid_template_columns": null,
            "grid_template_rows": null,
            "height": null,
            "justify_content": null,
            "justify_items": null,
            "left": null,
            "margin": null,
            "max_height": null,
            "max_width": null,
            "min_height": null,
            "min_width": null,
            "object_fit": null,
            "object_position": null,
            "order": null,
            "overflow": null,
            "overflow_x": null,
            "overflow_y": null,
            "padding": null,
            "right": null,
            "top": null,
            "visibility": null,
            "width": null
          }
        },
        "5894f21f6d46485e922e9bcc480f0b60": {
          "model_module": "@jupyter-widgets/controls",
          "model_name": "DescriptionStyleModel",
          "model_module_version": "1.5.0",
          "state": {
            "_model_module": "@jupyter-widgets/controls",
            "_model_module_version": "1.5.0",
            "_model_name": "DescriptionStyleModel",
            "_view_count": null,
            "_view_module": "@jupyter-widgets/base",
            "_view_module_version": "1.2.0",
            "_view_name": "StyleView",
            "description_width": ""
          }
        },
        "5dd52846b33d4af1bfc54e326eb70928": {
          "model_module": "@jupyter-widgets/controls",
          "model_name": "HBoxModel",
          "model_module_version": "1.5.0",
          "state": {
            "_dom_classes": [],
            "_model_module": "@jupyter-widgets/controls",
            "_model_module_version": "1.5.0",
            "_model_name": "HBoxModel",
            "_view_count": null,
            "_view_module": "@jupyter-widgets/controls",
            "_view_module_version": "1.5.0",
            "_view_name": "HBoxView",
            "box_style": "",
            "children": [
              "IPY_MODEL_7b5760f2c44b4c478bc34f8bc88b0ba2",
              "IPY_MODEL_dd6829c9f0c74b5998b5c774e64415b9",
              "IPY_MODEL_e63206b2942c4e92956f5a6844072176"
            ],
            "layout": "IPY_MODEL_4c64430bae074070a49b74cc30e3bb0a"
          }
        },
        "7b5760f2c44b4c478bc34f8bc88b0ba2": {
          "model_module": "@jupyter-widgets/controls",
          "model_name": "HTMLModel",
          "model_module_version": "1.5.0",
          "state": {
            "_dom_classes": [],
            "_model_module": "@jupyter-widgets/controls",
            "_model_module_version": "1.5.0",
            "_model_name": "HTMLModel",
            "_view_count": null,
            "_view_module": "@jupyter-widgets/controls",
            "_view_module_version": "1.5.0",
            "_view_name": "HTMLView",
            "description": "",
            "description_tooltip": null,
            "layout": "IPY_MODEL_c76224d3fbde4df28470cf4eb428ff50",
            "placeholder": "​",
            "style": "IPY_MODEL_020dc0314cb24d39aba757962733cbaa",
            "value": "modules.json: 100%"
          }
        },
        "dd6829c9f0c74b5998b5c774e64415b9": {
          "model_module": "@jupyter-widgets/controls",
          "model_name": "FloatProgressModel",
          "model_module_version": "1.5.0",
          "state": {
            "_dom_classes": [],
            "_model_module": "@jupyter-widgets/controls",
            "_model_module_version": "1.5.0",
            "_model_name": "FloatProgressModel",
            "_view_count": null,
            "_view_module": "@jupyter-widgets/controls",
            "_view_module_version": "1.5.0",
            "_view_name": "ProgressView",
            "bar_style": "success",
            "description": "",
            "description_tooltip": null,
            "layout": "IPY_MODEL_c950405cdc2748708090b3b9c7d8d98b",
            "max": 229,
            "min": 0,
            "orientation": "horizontal",
            "style": "IPY_MODEL_4fb8d431485c47b89b84a46419ba6646",
            "value": 229
          }
        },
        "e63206b2942c4e92956f5a6844072176": {
          "model_module": "@jupyter-widgets/controls",
          "model_name": "HTMLModel",
          "model_module_version": "1.5.0",
          "state": {
            "_dom_classes": [],
            "_model_module": "@jupyter-widgets/controls",
            "_model_module_version": "1.5.0",
            "_model_name": "HTMLModel",
            "_view_count": null,
            "_view_module": "@jupyter-widgets/controls",
            "_view_module_version": "1.5.0",
            "_view_name": "HTMLView",
            "description": "",
            "description_tooltip": null,
            "layout": "IPY_MODEL_5dff616ba43949f7aedff740b269b6dc",
            "placeholder": "​",
            "style": "IPY_MODEL_f123456a186d4ff5a1c8d14e14dd3e8a",
            "value": " 229/229 [00:00&lt;00:00, 12.6kB/s]"
          }
        },
        "4c64430bae074070a49b74cc30e3bb0a": {
          "model_module": "@jupyter-widgets/base",
          "model_name": "LayoutModel",
          "model_module_version": "1.2.0",
          "state": {
            "_model_module": "@jupyter-widgets/base",
            "_model_module_version": "1.2.0",
            "_model_name": "LayoutModel",
            "_view_count": null,
            "_view_module": "@jupyter-widgets/base",
            "_view_module_version": "1.2.0",
            "_view_name": "LayoutView",
            "align_content": null,
            "align_items": null,
            "align_self": null,
            "border": null,
            "bottom": null,
            "display": null,
            "flex": null,
            "flex_flow": null,
            "grid_area": null,
            "grid_auto_columns": null,
            "grid_auto_flow": null,
            "grid_auto_rows": null,
            "grid_column": null,
            "grid_gap": null,
            "grid_row": null,
            "grid_template_areas": null,
            "grid_template_columns": null,
            "grid_template_rows": null,
            "height": null,
            "justify_content": null,
            "justify_items": null,
            "left": null,
            "margin": null,
            "max_height": null,
            "max_width": null,
            "min_height": null,
            "min_width": null,
            "object_fit": null,
            "object_position": null,
            "order": null,
            "overflow": null,
            "overflow_x": null,
            "overflow_y": null,
            "padding": null,
            "right": null,
            "top": null,
            "visibility": null,
            "width": null
          }
        },
        "c76224d3fbde4df28470cf4eb428ff50": {
          "model_module": "@jupyter-widgets/base",
          "model_name": "LayoutModel",
          "model_module_version": "1.2.0",
          "state": {
            "_model_module": "@jupyter-widgets/base",
            "_model_module_version": "1.2.0",
            "_model_name": "LayoutModel",
            "_view_count": null,
            "_view_module": "@jupyter-widgets/base",
            "_view_module_version": "1.2.0",
            "_view_name": "LayoutView",
            "align_content": null,
            "align_items": null,
            "align_self": null,
            "border": null,
            "bottom": null,
            "display": null,
            "flex": null,
            "flex_flow": null,
            "grid_area": null,
            "grid_auto_columns": null,
            "grid_auto_flow": null,
            "grid_auto_rows": null,
            "grid_column": null,
            "grid_gap": null,
            "grid_row": null,
            "grid_template_areas": null,
            "grid_template_columns": null,
            "grid_template_rows": null,
            "height": null,
            "justify_content": null,
            "justify_items": null,
            "left": null,
            "margin": null,
            "max_height": null,
            "max_width": null,
            "min_height": null,
            "min_width": null,
            "object_fit": null,
            "object_position": null,
            "order": null,
            "overflow": null,
            "overflow_x": null,
            "overflow_y": null,
            "padding": null,
            "right": null,
            "top": null,
            "visibility": null,
            "width": null
          }
        },
        "020dc0314cb24d39aba757962733cbaa": {
          "model_module": "@jupyter-widgets/controls",
          "model_name": "DescriptionStyleModel",
          "model_module_version": "1.5.0",
          "state": {
            "_model_module": "@jupyter-widgets/controls",
            "_model_module_version": "1.5.0",
            "_model_name": "DescriptionStyleModel",
            "_view_count": null,
            "_view_module": "@jupyter-widgets/base",
            "_view_module_version": "1.2.0",
            "_view_name": "StyleView",
            "description_width": ""
          }
        },
        "c950405cdc2748708090b3b9c7d8d98b": {
          "model_module": "@jupyter-widgets/base",
          "model_name": "LayoutModel",
          "model_module_version": "1.2.0",
          "state": {
            "_model_module": "@jupyter-widgets/base",
            "_model_module_version": "1.2.0",
            "_model_name": "LayoutModel",
            "_view_count": null,
            "_view_module": "@jupyter-widgets/base",
            "_view_module_version": "1.2.0",
            "_view_name": "LayoutView",
            "align_content": null,
            "align_items": null,
            "align_self": null,
            "border": null,
            "bottom": null,
            "display": null,
            "flex": null,
            "flex_flow": null,
            "grid_area": null,
            "grid_auto_columns": null,
            "grid_auto_flow": null,
            "grid_auto_rows": null,
            "grid_column": null,
            "grid_gap": null,
            "grid_row": null,
            "grid_template_areas": null,
            "grid_template_columns": null,
            "grid_template_rows": null,
            "height": null,
            "justify_content": null,
            "justify_items": null,
            "left": null,
            "margin": null,
            "max_height": null,
            "max_width": null,
            "min_height": null,
            "min_width": null,
            "object_fit": null,
            "object_position": null,
            "order": null,
            "overflow": null,
            "overflow_x": null,
            "overflow_y": null,
            "padding": null,
            "right": null,
            "top": null,
            "visibility": null,
            "width": null
          }
        },
        "4fb8d431485c47b89b84a46419ba6646": {
          "model_module": "@jupyter-widgets/controls",
          "model_name": "ProgressStyleModel",
          "model_module_version": "1.5.0",
          "state": {
            "_model_module": "@jupyter-widgets/controls",
            "_model_module_version": "1.5.0",
            "_model_name": "ProgressStyleModel",
            "_view_count": null,
            "_view_module": "@jupyter-widgets/base",
            "_view_module_version": "1.2.0",
            "_view_name": "StyleView",
            "bar_color": null,
            "description_width": ""
          }
        },
        "5dff616ba43949f7aedff740b269b6dc": {
          "model_module": "@jupyter-widgets/base",
          "model_name": "LayoutModel",
          "model_module_version": "1.2.0",
          "state": {
            "_model_module": "@jupyter-widgets/base",
            "_model_module_version": "1.2.0",
            "_model_name": "LayoutModel",
            "_view_count": null,
            "_view_module": "@jupyter-widgets/base",
            "_view_module_version": "1.2.0",
            "_view_name": "LayoutView",
            "align_content": null,
            "align_items": null,
            "align_self": null,
            "border": null,
            "bottom": null,
            "display": null,
            "flex": null,
            "flex_flow": null,
            "grid_area": null,
            "grid_auto_columns": null,
            "grid_auto_flow": null,
            "grid_auto_rows": null,
            "grid_column": null,
            "grid_gap": null,
            "grid_row": null,
            "grid_template_areas": null,
            "grid_template_columns": null,
            "grid_template_rows": null,
            "height": null,
            "justify_content": null,
            "justify_items": null,
            "left": null,
            "margin": null,
            "max_height": null,
            "max_width": null,
            "min_height": null,
            "min_width": null,
            "object_fit": null,
            "object_position": null,
            "order": null,
            "overflow": null,
            "overflow_x": null,
            "overflow_y": null,
            "padding": null,
            "right": null,
            "top": null,
            "visibility": null,
            "width": null
          }
        },
        "f123456a186d4ff5a1c8d14e14dd3e8a": {
          "model_module": "@jupyter-widgets/controls",
          "model_name": "DescriptionStyleModel",
          "model_module_version": "1.5.0",
          "state": {
            "_model_module": "@jupyter-widgets/controls",
            "_model_module_version": "1.5.0",
            "_model_name": "DescriptionStyleModel",
            "_view_count": null,
            "_view_module": "@jupyter-widgets/base",
            "_view_module_version": "1.2.0",
            "_view_name": "StyleView",
            "description_width": ""
          }
        }
      }
    }
  },
  "cells": [
    {
      "cell_type": "markdown",
      "source": [
        "# LINEAR SPACES"
      ],
      "metadata": {
        "id": "YgDdfVk8HlSt"
      }
    },
    {
      "cell_type": "markdown",
      "source": [
        "Linear (Vector) spaces $V$ are the spaces that satisfy following axioms\n",
        "\n",
        "\n",
        "1.   Associativity of vector addition $( u + v) +w = u + (v +w) $\n",
        "2.   Commutativity of vector addition $u + v = v+ u$\n",
        "3.   Identity element of vector addition **0** $\\in V$: $v + $  **0** $ = v$ $\\in V$\n",
        "4. Inverse elements of vector addition $v + (-v) = 0$\n",
        "5.  Compatibility of scalar multiplication with field multiplication $a(bv) = (ab)v$\n",
        "6.  Identity element of scalar multiplication **1**$v =v$\n",
        "7.  Distributivity of scalar multiplication with respect to vector addition $a(u+v) =au+av$\n",
        "8. Distributivity of scalar multiplication with respect to field addition $(a+b)v = av +bv$\n",
        "\n"
      ],
      "metadata": {
        "id": "EFUkinE0RQWV"
      }
    },
    {
      "cell_type": "code",
      "source": [],
      "metadata": {
        "id": "B8yJp9BLHlxl"
      },
      "execution_count": null,
      "outputs": []
    },
    {
      "cell_type": "markdown",
      "source": [
        "# QUICK NUMPY TUTORIAL"
      ],
      "metadata": {
        "id": "HV_0a6ytRLac"
      }
    },
    {
      "cell_type": "markdown",
      "source": [
        "\n",
        "this tutorial was based on https://numpy.org/doc/stable/user/absolute_beginners.html"
      ],
      "metadata": {
        "id": "hRrZjw6TmDCz"
      }
    },
    {
      "cell_type": "code",
      "execution_count": null,
      "metadata": {
        "id": "uevYXTFmk5-L"
      },
      "outputs": [],
      "source": [
        "import numpy as np"
      ]
    },
    {
      "cell_type": "markdown",
      "source": [
        "Numpy array  is a central data structure of the NumPy library. An array is a grid of values and it contains information about the raw data, how to locate an element, and how to interpret an element. It has a grid of elements that can be indexed in various ways. The elements are all of the same type, referred to as the array dtype\n",
        "\n",
        "Let's firstly talk about $1D$ arrays"
      ],
      "metadata": {
        "id": "HNFtKbbfl5J0"
      }
    },
    {
      "cell_type": "code",
      "source": [
        "a = np.array([7,4,5,3,2,1, 6])\n",
        "b = np.array([1,3,5,7,9,11,13])"
      ],
      "metadata": {
        "id": "fCF0KIAVlL6X"
      },
      "execution_count": null,
      "outputs": []
    },
    {
      "cell_type": "code",
      "source": [
        "np.sort(a)"
      ],
      "metadata": {
        "colab": {
          "base_uri": "https://localhost:8080/"
        },
        "id": "BwrHBjtbnD1d",
        "outputId": "5696236d-66d6-4421-c6ab-424a9c102560"
      },
      "execution_count": null,
      "outputs": [
        {
          "output_type": "execute_result",
          "data": {
            "text/plain": [
              "array([1, 2, 3, 4, 5, 6, 7])"
            ]
          },
          "metadata": {},
          "execution_count": 46
        }
      ]
    },
    {
      "cell_type": "code",
      "source": [
        "indices = np.argsort(a)"
      ],
      "metadata": {
        "id": "D2zxKnp5nhhB"
      },
      "execution_count": null,
      "outputs": []
    },
    {
      "cell_type": "code",
      "source": [
        "indices"
      ],
      "metadata": {
        "colab": {
          "base_uri": "https://localhost:8080/"
        },
        "id": "QhIVCNyuniP7",
        "outputId": "7072a289-5564-4022-b933-5c671e2b0777"
      },
      "execution_count": null,
      "outputs": [
        {
          "output_type": "execute_result",
          "data": {
            "text/plain": [
              "array([5, 4, 3, 1, 2, 6, 0])"
            ]
          },
          "metadata": {},
          "execution_count": 48
        }
      ]
    },
    {
      "cell_type": "code",
      "source": [
        "a[5]"
      ],
      "metadata": {
        "colab": {
          "base_uri": "https://localhost:8080/"
        },
        "id": "N9jR78HHiVet",
        "outputId": "dbe2956f-7acd-4656-ab5f-418d3ffa4adc"
      },
      "execution_count": null,
      "outputs": [
        {
          "output_type": "execute_result",
          "data": {
            "text/plain": [
              "1"
            ]
          },
          "metadata": {},
          "execution_count": 49
        }
      ]
    },
    {
      "cell_type": "code",
      "source": [
        "b[indices]"
      ],
      "metadata": {
        "colab": {
          "base_uri": "https://localhost:8080/"
        },
        "id": "1Fu6AOTDnrZr",
        "outputId": "18654be1-d251-4c62-b478-7d3796d32442"
      },
      "execution_count": null,
      "outputs": [
        {
          "output_type": "execute_result",
          "data": {
            "text/plain": [
              "array([11,  9,  7,  3,  5, 13,  1])"
            ]
          },
          "metadata": {},
          "execution_count": 50
        }
      ]
    },
    {
      "cell_type": "code",
      "source": [
        "np.concatenate((a, b))"
      ],
      "metadata": {
        "colab": {
          "base_uri": "https://localhost:8080/"
        },
        "id": "8KQyVh6hnuN0",
        "outputId": "85b156cb-fe6f-4f65-967f-129d8310fd48"
      },
      "execution_count": null,
      "outputs": [
        {
          "output_type": "execute_result",
          "data": {
            "text/plain": [
              "array([ 7,  4,  5,  3,  2,  1,  6,  1,  3,  5,  7,  9, 11, 13])"
            ]
          },
          "metadata": {},
          "execution_count": 51
        }
      ]
    },
    {
      "cell_type": "markdown",
      "source": [
        "## We can also create other array based on initial array information"
      ],
      "metadata": {
        "id": "DcxRel1In7eF"
      }
    },
    {
      "cell_type": "code",
      "source": [
        "np.zeros_like(a)"
      ],
      "metadata": {
        "colab": {
          "base_uri": "https://localhost:8080/"
        },
        "id": "hEWDdDDVn0KV",
        "outputId": "de29a968-2910-465a-cb90-b95eb7b1eb3a"
      },
      "execution_count": null,
      "outputs": [
        {
          "output_type": "execute_result",
          "data": {
            "text/plain": [
              "array([0, 0, 0, 0, 0, 0, 0])"
            ]
          },
          "metadata": {},
          "execution_count": 52
        }
      ]
    },
    {
      "cell_type": "code",
      "source": [
        "np.ones_like(a)"
      ],
      "metadata": {
        "colab": {
          "base_uri": "https://localhost:8080/"
        },
        "id": "-5VC1weVoITx",
        "outputId": "66278c5d-bddf-4408-a402-3d678b6f185f"
      },
      "execution_count": null,
      "outputs": [
        {
          "output_type": "execute_result",
          "data": {
            "text/plain": [
              "array([1, 1, 1, 1, 1, 1, 1])"
            ]
          },
          "metadata": {},
          "execution_count": 53
        }
      ]
    },
    {
      "cell_type": "code",
      "source": [
        "np.zeros(a.shape), np.ones(a.shape)"
      ],
      "metadata": {
        "colab": {
          "base_uri": "https://localhost:8080/"
        },
        "id": "e-FeTq2koGLw",
        "outputId": "367984fa-1348-488f-f778-33544ec1f6de"
      },
      "execution_count": null,
      "outputs": [
        {
          "output_type": "execute_result",
          "data": {
            "text/plain": [
              "(array([0., 0., 0., 0., 0., 0., 0.]), array([1., 1., 1., 1., 1., 1., 1.]))"
            ]
          },
          "metadata": {},
          "execution_count": 54
        }
      ]
    },
    {
      "cell_type": "code",
      "source": [
        "np.zeros(2), np.ones(3)"
      ],
      "metadata": {
        "colab": {
          "base_uri": "https://localhost:8080/"
        },
        "id": "7-GQsACPoNPS",
        "outputId": "80349c93-0fca-4691-d5bf-d2853b8e0d29"
      },
      "execution_count": null,
      "outputs": [
        {
          "output_type": "execute_result",
          "data": {
            "text/plain": [
              "(array([0., 0.]), array([1., 1., 1.]))"
            ]
          },
          "metadata": {},
          "execution_count": 55
        }
      ]
    },
    {
      "cell_type": "code",
      "source": [
        "np.zeros(3) + 7 * np.ones(3)"
      ],
      "metadata": {
        "colab": {
          "base_uri": "https://localhost:8080/"
        },
        "id": "TSiNgx2ooZ1k",
        "outputId": "aa8765c1-cc76-4b92-9c36-bd6fc75a2d03"
      },
      "execution_count": null,
      "outputs": [
        {
          "output_type": "execute_result",
          "data": {
            "text/plain": [
              "array([7., 7., 7.])"
            ]
          },
          "metadata": {},
          "execution_count": 56
        }
      ]
    },
    {
      "cell_type": "markdown",
      "source": [
        "## You can create an array with a range of elements:"
      ],
      "metadata": {
        "id": "M9fiEUPkpq7Y"
      }
    },
    {
      "cell_type": "code",
      "source": [
        "np.arange(4)"
      ],
      "metadata": {
        "colab": {
          "base_uri": "https://localhost:8080/"
        },
        "id": "aB8CrsKkoy8t",
        "outputId": "7bbb9011-920d-4a0a-db27-0e366b5e69ed"
      },
      "execution_count": null,
      "outputs": [
        {
          "output_type": "execute_result",
          "data": {
            "text/plain": [
              "array([0, 1, 2, 3])"
            ]
          },
          "metadata": {},
          "execution_count": 57
        }
      ]
    },
    {
      "cell_type": "markdown",
      "source": [
        "You can also define step\n"
      ],
      "metadata": {
        "id": "BtE4Xlanpu64"
      }
    },
    {
      "cell_type": "code",
      "source": [
        "np.arange(2, 10, 2)"
      ],
      "metadata": {
        "colab": {
          "base_uri": "https://localhost:8080/"
        },
        "id": "SpeLtNbJo-MH",
        "outputId": "952c56b5-73e2-4a85-95c8-763f75ea48c3"
      },
      "execution_count": null,
      "outputs": [
        {
          "output_type": "execute_result",
          "data": {
            "text/plain": [
              "array([2, 4, 6, 8])"
            ]
          },
          "metadata": {},
          "execution_count": 58
        }
      ]
    },
    {
      "cell_type": "markdown",
      "source": [
        "There is another way to define array with range of elements"
      ],
      "metadata": {
        "id": "qDkLY3iIp5vE"
      }
    },
    {
      "cell_type": "code",
      "source": [
        "np.linspace(0, 1, num=5)"
      ],
      "metadata": {
        "colab": {
          "base_uri": "https://localhost:8080/"
        },
        "id": "Uk5BOJD_p3IL",
        "outputId": "c0b650fc-10fd-4dfc-c015-02336ac26d73"
      },
      "execution_count": null,
      "outputs": [
        {
          "output_type": "execute_result",
          "data": {
            "text/plain": [
              "array([0.  , 0.25, 0.5 , 0.75, 1.  ])"
            ]
          },
          "metadata": {},
          "execution_count": 59
        }
      ]
    },
    {
      "cell_type": "code",
      "source": [
        "b = np.linspace(0, 1, num=5) +23"
      ],
      "metadata": {
        "id": "lSM5Nv0UqI8p"
      },
      "execution_count": null,
      "outputs": []
    },
    {
      "cell_type": "code",
      "source": [
        "b"
      ],
      "metadata": {
        "colab": {
          "base_uri": "https://localhost:8080/"
        },
        "id": "QGAjEoAIrl4s",
        "outputId": "d1ea1844-6202-40f6-b66f-e7f899a8cf7d"
      },
      "execution_count": null,
      "outputs": [
        {
          "output_type": "execute_result",
          "data": {
            "text/plain": [
              "array([23.  , 23.25, 23.5 , 23.75, 24.  ])"
            ]
          },
          "metadata": {},
          "execution_count": 27
        }
      ]
    },
    {
      "cell_type": "markdown",
      "source": [
        "## How to know the shape of an array?\n"
      ],
      "metadata": {
        "id": "hbwOxZ9isHWF"
      }
    },
    {
      "cell_type": "code",
      "source": [
        "c = np.arange(10, 30,2)"
      ],
      "metadata": {
        "id": "l5xj83vYrmp5"
      },
      "execution_count": null,
      "outputs": []
    },
    {
      "cell_type": "code",
      "source": [
        "c.shape"
      ],
      "metadata": {
        "colab": {
          "base_uri": "https://localhost:8080/"
        },
        "id": "Y8QJtP-9sShK",
        "outputId": "9253a763-a192-4e6d-a855-e468c1a0749a"
      },
      "execution_count": null,
      "outputs": [
        {
          "output_type": "execute_result",
          "data": {
            "text/plain": [
              "(10,)"
            ]
          },
          "metadata": {},
          "execution_count": 62
        }
      ]
    },
    {
      "cell_type": "code",
      "source": [
        "c.size"
      ],
      "metadata": {
        "colab": {
          "base_uri": "https://localhost:8080/"
        },
        "id": "4iQd0ToMsTKH",
        "outputId": "54d28c94-82e2-4a8b-ac42-5ee50d683540"
      },
      "execution_count": null,
      "outputs": [
        {
          "output_type": "execute_result",
          "data": {
            "text/plain": [
              "10"
            ]
          },
          "metadata": {},
          "execution_count": 63
        }
      ]
    },
    {
      "cell_type": "code",
      "source": [
        "c.ndim"
      ],
      "metadata": {
        "colab": {
          "base_uri": "https://localhost:8080/"
        },
        "id": "1_a0l64DsT30",
        "outputId": "04e59f02-231c-484a-9d62-8f08c42fa3d2"
      },
      "execution_count": null,
      "outputs": [
        {
          "output_type": "execute_result",
          "data": {
            "text/plain": [
              "1"
            ]
          },
          "metadata": {},
          "execution_count": 64
        }
      ]
    },
    {
      "cell_type": "markdown",
      "source": [
        "## How to reshape an array?\n"
      ],
      "metadata": {
        "id": "4Hoq4HF2soFH"
      }
    },
    {
      "cell_type": "code",
      "source": [
        "c_reshaped = c.reshape(5,2)\n",
        "c_reshaped\n"
      ],
      "metadata": {
        "colab": {
          "base_uri": "https://localhost:8080/"
        },
        "id": "g1o9SgsesZSK",
        "outputId": "6123b28b-3a78-4018-c001-233937ea0aab"
      },
      "execution_count": null,
      "outputs": [
        {
          "output_type": "execute_result",
          "data": {
            "text/plain": [
              "array([[10, 12],\n",
              "       [14, 16],\n",
              "       [18, 20],\n",
              "       [22, 24],\n",
              "       [26, 28]])"
            ]
          },
          "metadata": {},
          "execution_count": 65
        }
      ]
    },
    {
      "cell_type": "code",
      "source": [
        "c_reshaped.shape"
      ],
      "metadata": {
        "colab": {
          "base_uri": "https://localhost:8080/"
        },
        "id": "i8_vATckssO-",
        "outputId": "5d348a7a-0d11-4bf0-adfe-23aec1251f7b"
      },
      "execution_count": null,
      "outputs": [
        {
          "output_type": "execute_result",
          "data": {
            "text/plain": [
              "(5, 2)"
            ]
          },
          "metadata": {},
          "execution_count": 66
        }
      ]
    },
    {
      "cell_type": "code",
      "source": [
        "c_reshaped.ndim"
      ],
      "metadata": {
        "colab": {
          "base_uri": "https://localhost:8080/"
        },
        "id": "M2Zmby8Psyh2",
        "outputId": "d3249223-ab23-41af-d5b2-ccc2e6a22521"
      },
      "execution_count": null,
      "outputs": [
        {
          "output_type": "execute_result",
          "data": {
            "text/plain": [
              "2"
            ]
          },
          "metadata": {},
          "execution_count": 36
        }
      ]
    },
    {
      "cell_type": "code",
      "source": [
        "c_reshaped.size"
      ],
      "metadata": {
        "colab": {
          "base_uri": "https://localhost:8080/"
        },
        "id": "hD1dL8mzs0lB",
        "outputId": "88b025a4-9091-4f9d-93ad-0d7d78b00629"
      },
      "execution_count": null,
      "outputs": [
        {
          "output_type": "execute_result",
          "data": {
            "text/plain": [
              "10"
            ]
          },
          "metadata": {},
          "execution_count": 37
        }
      ]
    },
    {
      "cell_type": "markdown",
      "source": [
        "## How to add new axis to the array?"
      ],
      "metadata": {
        "id": "kMIYucM7t8yo"
      }
    },
    {
      "cell_type": "code",
      "source": [
        "c[np.newaxis, :]"
      ],
      "metadata": {
        "colab": {
          "base_uri": "https://localhost:8080/"
        },
        "id": "KXDi9Bohs4ZO",
        "outputId": "d667f3b3-fe43-466b-eeff-c33193989bb2"
      },
      "execution_count": null,
      "outputs": [
        {
          "output_type": "execute_result",
          "data": {
            "text/plain": [
              "array([[10, 12, 14, 16, 18, 20, 22, 24, 26, 28]])"
            ]
          },
          "metadata": {},
          "execution_count": 67
        }
      ]
    },
    {
      "cell_type": "code",
      "source": [
        "c[np.newaxis, :].shape"
      ],
      "metadata": {
        "colab": {
          "base_uri": "https://localhost:8080/"
        },
        "id": "UtCMe36kuJ-Q",
        "outputId": "e529474b-0905-44f0-ae5f-82f77061d249"
      },
      "execution_count": null,
      "outputs": [
        {
          "output_type": "execute_result",
          "data": {
            "text/plain": [
              "(1, 10)"
            ]
          },
          "metadata": {},
          "execution_count": 39
        }
      ]
    },
    {
      "cell_type": "code",
      "source": [
        "c[:, np.newaxis]"
      ],
      "metadata": {
        "colab": {
          "base_uri": "https://localhost:8080/"
        },
        "id": "rvXqVvz4uL65",
        "outputId": "9fa73608-69be-4584-fac1-2182c906220e"
      },
      "execution_count": null,
      "outputs": [
        {
          "output_type": "execute_result",
          "data": {
            "text/plain": [
              "array([[10],\n",
              "       [12],\n",
              "       [14],\n",
              "       [16],\n",
              "       [18],\n",
              "       [20],\n",
              "       [22],\n",
              "       [24],\n",
              "       [26],\n",
              "       [28]])"
            ]
          },
          "metadata": {},
          "execution_count": 40
        }
      ]
    },
    {
      "cell_type": "code",
      "source": [
        "c[:, np.newaxis].shape"
      ],
      "metadata": {
        "colab": {
          "base_uri": "https://localhost:8080/"
        },
        "id": "sOqikfu7uPd1",
        "outputId": "7bdd3815-94aa-440d-bdfe-d38050c34dc2"
      },
      "execution_count": null,
      "outputs": [
        {
          "output_type": "execute_result",
          "data": {
            "text/plain": [
              "(10, 1)"
            ]
          },
          "metadata": {},
          "execution_count": 41
        }
      ]
    },
    {
      "cell_type": "markdown",
      "source": [
        "Also you may use $np.expand\\_dims$"
      ],
      "metadata": {
        "id": "bfshqd6buffk"
      }
    },
    {
      "cell_type": "code",
      "source": [
        "np.expand_dims(c, axis=0)"
      ],
      "metadata": {
        "colab": {
          "base_uri": "https://localhost:8080/"
        },
        "id": "uhUBPZmcuRF3",
        "outputId": "126884b5-0943-4e3a-b0c3-99d3cbe76454"
      },
      "execution_count": null,
      "outputs": [
        {
          "output_type": "execute_result",
          "data": {
            "text/plain": [
              "array([[10, 12, 14, 16, 18, 20, 22, 24, 26, 28]])"
            ]
          },
          "metadata": {},
          "execution_count": 68
        }
      ]
    },
    {
      "cell_type": "code",
      "source": [
        "np.expand_dims(c, axis=0).shape"
      ],
      "metadata": {
        "colab": {
          "base_uri": "https://localhost:8080/"
        },
        "id": "5Me_XbTiu4vv",
        "outputId": "9ef17848-cad2-4ef8-eeb1-f8edf20fe7cf"
      },
      "execution_count": null,
      "outputs": [
        {
          "output_type": "execute_result",
          "data": {
            "text/plain": [
              "(1, 10)"
            ]
          },
          "metadata": {},
          "execution_count": 69
        }
      ]
    },
    {
      "cell_type": "code",
      "source": [
        "np.expand_dims(c, axis=1)"
      ],
      "metadata": {
        "colab": {
          "base_uri": "https://localhost:8080/"
        },
        "id": "CfLOWs3Au7Jg",
        "outputId": "28ed7598-ddee-46b5-dede-52a1e6d4387f"
      },
      "execution_count": null,
      "outputs": [
        {
          "output_type": "execute_result",
          "data": {
            "text/plain": [
              "array([[10],\n",
              "       [12],\n",
              "       [14],\n",
              "       [16],\n",
              "       [18],\n",
              "       [20],\n",
              "       [22],\n",
              "       [24],\n",
              "       [26],\n",
              "       [28]])"
            ]
          },
          "metadata": {},
          "execution_count": 70
        }
      ]
    },
    {
      "cell_type": "code",
      "source": [
        "np.expand_dims(c, axis=1).shape"
      ],
      "metadata": {
        "colab": {
          "base_uri": "https://localhost:8080/"
        },
        "id": "WfquEw8Ju836",
        "outputId": "f1df7e5f-d38d-415a-b2b0-72cd84623f29"
      },
      "execution_count": null,
      "outputs": [
        {
          "output_type": "execute_result",
          "data": {
            "text/plain": [
              "(10, 1)"
            ]
          },
          "metadata": {},
          "execution_count": 46
        }
      ]
    },
    {
      "cell_type": "markdown",
      "source": [
        "# Matrices"
      ],
      "metadata": {
        "id": "3ehoqxiW5gge"
      }
    },
    {
      "cell_type": "code",
      "source": [
        "matrix = np.array([[1 , 2, 3, 4], [5, 6, 7, 8], [9, 10, 11, 12]])"
      ],
      "metadata": {
        "id": "4sHvzxrhvBBP"
      },
      "execution_count": null,
      "outputs": []
    },
    {
      "cell_type": "code",
      "source": [
        "matrix"
      ],
      "metadata": {
        "colab": {
          "base_uri": "https://localhost:8080/"
        },
        "id": "rY3C0mdH5nkU",
        "outputId": "3c362457-1804-4439-ecbc-66b33eee8f4e"
      },
      "execution_count": null,
      "outputs": [
        {
          "output_type": "execute_result",
          "data": {
            "text/plain": [
              "array([[ 1,  2,  3,  4],\n",
              "       [ 5,  6,  7,  8],\n",
              "       [ 9, 10, 11, 12]])"
            ]
          },
          "metadata": {},
          "execution_count": 72
        }
      ]
    },
    {
      "cell_type": "code",
      "source": [
        "indices_cols = [2,0, 3, 1]"
      ],
      "metadata": {
        "id": "EwPLa4vt5pQk"
      },
      "execution_count": null,
      "outputs": []
    },
    {
      "cell_type": "code",
      "source": [
        "matrix[:, indices_cols]"
      ],
      "metadata": {
        "colab": {
          "base_uri": "https://localhost:8080/"
        },
        "id": "6kWTe7H25uoj",
        "outputId": "00d181f5-0d78-4dbb-d76f-38492c43e8cf"
      },
      "execution_count": null,
      "outputs": [
        {
          "output_type": "execute_result",
          "data": {
            "text/plain": [
              "array([[ 3,  1,  4,  2],\n",
              "       [ 7,  5,  8,  6],\n",
              "       [11,  9, 12, 10]])"
            ]
          },
          "metadata": {},
          "execution_count": 74
        }
      ]
    },
    {
      "cell_type": "code",
      "source": [
        "indices_rows = [2,1,0]"
      ],
      "metadata": {
        "id": "Jmomhtba5_xP"
      },
      "execution_count": null,
      "outputs": []
    },
    {
      "cell_type": "code",
      "source": [
        "matrix[indices_rows, :]"
      ],
      "metadata": {
        "colab": {
          "base_uri": "https://localhost:8080/"
        },
        "id": "yEAYT-2Y5w88",
        "outputId": "aaa0331e-5f75-4eca-a6c9-703375289c97"
      },
      "execution_count": null,
      "outputs": [
        {
          "output_type": "execute_result",
          "data": {
            "text/plain": [
              "array([[ 9, 10, 11, 12],\n",
              "       [ 5,  6,  7,  8],\n",
              "       [ 1,  2,  3,  4]])"
            ]
          },
          "metadata": {},
          "execution_count": 76
        }
      ]
    },
    {
      "cell_type": "markdown",
      "source": [
        "Logic operations"
      ],
      "metadata": {
        "id": "v3pormrI809-"
      }
    },
    {
      "cell_type": "code",
      "source": [
        "matrix > 5"
      ],
      "metadata": {
        "colab": {
          "base_uri": "https://localhost:8080/"
        },
        "id": "1ji5tGgA6I_i",
        "outputId": "28bad091-a246-40b3-f4d2-236995942c1e"
      },
      "execution_count": null,
      "outputs": [
        {
          "output_type": "execute_result",
          "data": {
            "text/plain": [
              "array([[False, False, False, False],\n",
              "       [False,  True,  True,  True],\n",
              "       [ True,  True,  True,  True]])"
            ]
          },
          "metadata": {},
          "execution_count": 77
        }
      ]
    },
    {
      "cell_type": "code",
      "source": [
        "matrix[matrix > 5]"
      ],
      "metadata": {
        "colab": {
          "base_uri": "https://localhost:8080/"
        },
        "id": "_W-yhxlR6aGP",
        "outputId": "25d4b816-e86a-4fa7-e345-a241b7c5be93"
      },
      "execution_count": null,
      "outputs": [
        {
          "output_type": "execute_result",
          "data": {
            "text/plain": [
              "array([ 6,  7,  8,  9, 10, 11, 12])"
            ]
          },
          "metadata": {},
          "execution_count": 78
        }
      ]
    },
    {
      "cell_type": "code",
      "source": [
        "matrix[(matrix > 5)& (matrix<=10)]"
      ],
      "metadata": {
        "colab": {
          "base_uri": "https://localhost:8080/"
        },
        "id": "f_6OdQGH6eTf",
        "outputId": "ea0ff558-2192-4ef9-a960-d1f5f6a51393"
      },
      "execution_count": null,
      "outputs": [
        {
          "output_type": "execute_result",
          "data": {
            "text/plain": [
              "array([ 6,  7,  8,  9, 10])"
            ]
          },
          "metadata": {},
          "execution_count": 63
        }
      ]
    },
    {
      "cell_type": "markdown",
      "source": [
        "We can slice arrays"
      ],
      "metadata": {
        "id": "0QZQV6sn7Bdz"
      }
    },
    {
      "cell_type": "code",
      "source": [
        "matrix[:2, 3:]"
      ],
      "metadata": {
        "colab": {
          "base_uri": "https://localhost:8080/"
        },
        "id": "83TAj5xs6n8-",
        "outputId": "4d70e763-765a-4ac9-9291-7fc21a407270"
      },
      "execution_count": null,
      "outputs": [
        {
          "output_type": "execute_result",
          "data": {
            "text/plain": [
              "array([[4],\n",
              "       [8]])"
            ]
          },
          "metadata": {},
          "execution_count": 79
        }
      ]
    },
    {
      "cell_type": "markdown",
      "source": [
        "We can stack arrays"
      ],
      "metadata": {
        "id": "QRCrRa387RZa"
      }
    },
    {
      "cell_type": "code",
      "source": [
        "a1 = np.array([[1, 1],\n",
        "               [2, 2]])\n",
        "\n",
        "a2 = np.array([[3, 3],\n",
        "               [4, 4]])"
      ],
      "metadata": {
        "id": "3XGlU5M67H7Y"
      },
      "execution_count": null,
      "outputs": []
    },
    {
      "cell_type": "code",
      "source": [
        "np.vstack((a1, a2))\n"
      ],
      "metadata": {
        "colab": {
          "base_uri": "https://localhost:8080/"
        },
        "id": "AoS78vDH7NPz",
        "outputId": "cae40294-1c67-459e-a7e5-fffd666f386f"
      },
      "execution_count": null,
      "outputs": [
        {
          "output_type": "execute_result",
          "data": {
            "text/plain": [
              "array([[1, 1],\n",
              "       [2, 2],\n",
              "       [3, 3],\n",
              "       [4, 4]])"
            ]
          },
          "metadata": {},
          "execution_count": 81
        }
      ]
    },
    {
      "cell_type": "code",
      "source": [
        "np.hstack((a1, a2))\n"
      ],
      "metadata": {
        "colab": {
          "base_uri": "https://localhost:8080/"
        },
        "id": "JbALGQWd7oOc",
        "outputId": "ffd7b8b4-e2c9-4621-fb44-ee49dd37e0ed"
      },
      "execution_count": null,
      "outputs": [
        {
          "output_type": "execute_result",
          "data": {
            "text/plain": [
              "array([[1, 1, 3, 3],\n",
              "       [2, 2, 4, 4]])"
            ]
          },
          "metadata": {},
          "execution_count": 82
        }
      ]
    },
    {
      "cell_type": "markdown",
      "source": [
        "Matrix multiplications"
      ],
      "metadata": {
        "id": "DUQsRWeh9D9f"
      }
    },
    {
      "cell_type": "code",
      "source": [
        "A = np.arange(0,12,1).reshape(3,4)"
      ],
      "metadata": {
        "id": "jaJKdgfC7qSb"
      },
      "execution_count": null,
      "outputs": []
    },
    {
      "cell_type": "code",
      "source": [
        "B = np.arange(12,24,1).reshape(4, 3)"
      ],
      "metadata": {
        "id": "M-uxdv-K9MS0"
      },
      "execution_count": null,
      "outputs": []
    },
    {
      "cell_type": "code",
      "source": [
        "A"
      ],
      "metadata": {
        "colab": {
          "base_uri": "https://localhost:8080/"
        },
        "id": "TX3IH94X9RS6",
        "outputId": "cb120043-3ab8-43dd-dbd3-86ec26f8c9fe"
      },
      "execution_count": null,
      "outputs": [
        {
          "output_type": "execute_result",
          "data": {
            "text/plain": [
              "array([[ 0,  1,  2,  3],\n",
              "       [ 4,  5,  6,  7],\n",
              "       [ 8,  9, 10, 11]])"
            ]
          },
          "metadata": {},
          "execution_count": 85
        }
      ]
    },
    {
      "cell_type": "code",
      "source": [
        "B"
      ],
      "metadata": {
        "colab": {
          "base_uri": "https://localhost:8080/"
        },
        "id": "E2do2-vI9Vn4",
        "outputId": "05c65260-aed8-4d06-80a9-8d7f9c86f6bd"
      },
      "execution_count": null,
      "outputs": [
        {
          "output_type": "execute_result",
          "data": {
            "text/plain": [
              "array([[12, 13, 14],\n",
              "       [15, 16, 17],\n",
              "       [18, 19, 20],\n",
              "       [21, 22, 23]])"
            ]
          },
          "metadata": {},
          "execution_count": 86
        }
      ]
    },
    {
      "cell_type": "code",
      "source": [
        "np.dot(A, B)"
      ],
      "metadata": {
        "colab": {
          "base_uri": "https://localhost:8080/"
        },
        "id": "DFSgrPWj9WKG",
        "outputId": "0c08dc0a-b174-4706-c4ca-c177a5e024fb"
      },
      "execution_count": null,
      "outputs": [
        {
          "output_type": "execute_result",
          "data": {
            "text/plain": [
              "array([[114, 120, 126],\n",
              "       [378, 400, 422],\n",
              "       [642, 680, 718]])"
            ]
          },
          "metadata": {},
          "execution_count": 87
        }
      ]
    },
    {
      "cell_type": "code",
      "source": [
        "A @ B"
      ],
      "metadata": {
        "colab": {
          "base_uri": "https://localhost:8080/"
        },
        "id": "N9EHvNKv9YWB",
        "outputId": "732a435e-363c-4539-ffdf-29eab2b65f74"
      },
      "execution_count": null,
      "outputs": [
        {
          "output_type": "execute_result",
          "data": {
            "text/plain": [
              "array([[114, 120, 126],\n",
              "       [378, 400, 422],\n",
              "       [642, 680, 718]])"
            ]
          },
          "metadata": {},
          "execution_count": 88
        }
      ]
    },
    {
      "cell_type": "code",
      "source": [
        "np.einsum('ij,jk->ik',A, B)"
      ],
      "metadata": {
        "colab": {
          "base_uri": "https://localhost:8080/"
        },
        "id": "RKNFyBao9cUZ",
        "outputId": "fd94fd90-6c04-4fc6-d75b-42cb8488a8be"
      },
      "execution_count": null,
      "outputs": [
        {
          "output_type": "execute_result",
          "data": {
            "text/plain": [
              "array([[114, 120, 126],\n",
              "       [378, 400, 422],\n",
              "       [642, 680, 718]])"
            ]
          },
          "metadata": {},
          "execution_count": 89
        }
      ]
    },
    {
      "cell_type": "markdown",
      "source": [
        "Vectors"
      ],
      "metadata": {
        "id": "ReomyTmr9xJJ"
      }
    },
    {
      "cell_type": "code",
      "source": [
        "vec1 = np.expand_dims(np.arange(0,5,1), 0)"
      ],
      "metadata": {
        "id": "1e6qNlpF9pl8"
      },
      "execution_count": null,
      "outputs": []
    },
    {
      "cell_type": "code",
      "source": [
        "vec2 = np.expand_dims(np.arange(5,10,1), 0)"
      ],
      "metadata": {
        "id": "Uu3GQLpA95v5"
      },
      "execution_count": null,
      "outputs": []
    },
    {
      "cell_type": "code",
      "source": [
        "vec1, vec2"
      ],
      "metadata": {
        "colab": {
          "base_uri": "https://localhost:8080/"
        },
        "id": "g6JcaRE9997O",
        "outputId": "234dc764-f770-49b8-f45b-17a96fec10bd"
      },
      "execution_count": null,
      "outputs": [
        {
          "output_type": "execute_result",
          "data": {
            "text/plain": [
              "(array([[0, 1, 2, 3, 4]]), array([[5, 6, 7, 8, 9]]))"
            ]
          },
          "metadata": {},
          "execution_count": 92
        }
      ]
    },
    {
      "cell_type": "code",
      "source": [
        "vec1 @ vec2"
      ],
      "metadata": {
        "colab": {
          "base_uri": "https://localhost:8080/",
          "height": 179
        },
        "id": "P5UX-gVt9_ON",
        "outputId": "882ae724-cf51-4bb0-99c9-ba7c3158d571"
      },
      "execution_count": null,
      "outputs": [
        {
          "output_type": "error",
          "ename": "ValueError",
          "evalue": "ignored",
          "traceback": [
            "\u001b[0;31m---------------------------------------------------------------------------\u001b[0m",
            "\u001b[0;31mValueError\u001b[0m                                Traceback (most recent call last)",
            "\u001b[0;32m<ipython-input-93-edd8c0c49356>\u001b[0m in \u001b[0;36m<cell line: 1>\u001b[0;34m()\u001b[0m\n\u001b[0;32m----> 1\u001b[0;31m \u001b[0mvec1\u001b[0m \u001b[0;34m@\u001b[0m \u001b[0mvec2\u001b[0m\u001b[0;34m\u001b[0m\u001b[0;34m\u001b[0m\u001b[0m\n\u001b[0m",
            "\u001b[0;31mValueError\u001b[0m: matmul: Input operand 1 has a mismatch in its core dimension 0, with gufunc signature (n?,k),(k,m?)->(n?,m?) (size 1 is different from 5)"
          ]
        }
      ]
    },
    {
      "cell_type": "code",
      "source": [
        "vec1 @ vec2.T"
      ],
      "metadata": {
        "colab": {
          "base_uri": "https://localhost:8080/"
        },
        "id": "k2XNeSb5-CUo",
        "outputId": "9d0d80df-e8a1-4b58-9d92-cb49572af7be"
      },
      "execution_count": null,
      "outputs": [
        {
          "output_type": "execute_result",
          "data": {
            "text/plain": [
              "array([[80]])"
            ]
          },
          "metadata": {},
          "execution_count": 94
        }
      ]
    },
    {
      "cell_type": "code",
      "source": [
        "np.dot(vec1, vec2.T)"
      ],
      "metadata": {
        "colab": {
          "base_uri": "https://localhost:8080/"
        },
        "id": "-w4rp1GF-GD2",
        "outputId": "f962d302-452d-44ee-fc04-e2530668c7ed"
      },
      "execution_count": null,
      "outputs": [
        {
          "output_type": "execute_result",
          "data": {
            "text/plain": [
              "array([[80]])"
            ]
          },
          "metadata": {},
          "execution_count": 95
        }
      ]
    },
    {
      "cell_type": "code",
      "source": [
        "vec1.T @ vec2"
      ],
      "metadata": {
        "colab": {
          "base_uri": "https://localhost:8080/"
        },
        "id": "rbtbgAxe-K16",
        "outputId": "f5a4f058-8123-4813-a687-5ab8742eb7bb"
      },
      "execution_count": null,
      "outputs": [
        {
          "output_type": "execute_result",
          "data": {
            "text/plain": [
              "array([[ 0,  0,  0,  0,  0],\n",
              "       [ 5,  6,  7,  8,  9],\n",
              "       [10, 12, 14, 16, 18],\n",
              "       [15, 18, 21, 24, 27],\n",
              "       [20, 24, 28, 32, 36]])"
            ]
          },
          "metadata": {},
          "execution_count": 96
        }
      ]
    },
    {
      "cell_type": "code",
      "source": [
        "np.dot(vec1.T, vec2)"
      ],
      "metadata": {
        "colab": {
          "base_uri": "https://localhost:8080/"
        },
        "id": "npCsltoT-N9F",
        "outputId": "24f6b922-d662-4529-f6a5-eeca2dca0088"
      },
      "execution_count": null,
      "outputs": [
        {
          "output_type": "execute_result",
          "data": {
            "text/plain": [
              "array([[ 0,  0,  0,  0,  0],\n",
              "       [ 5,  6,  7,  8,  9],\n",
              "       [10, 12, 14, 16, 18],\n",
              "       [15, 18, 21, 24, 27],\n",
              "       [20, 24, 28, 32, 36]])"
            ]
          },
          "metadata": {},
          "execution_count": 97
        }
      ]
    },
    {
      "cell_type": "code",
      "source": [
        "np.outer(vec1, vec2)"
      ],
      "metadata": {
        "colab": {
          "base_uri": "https://localhost:8080/"
        },
        "id": "7EpYCeMC-Qcg",
        "outputId": "8c5f7d97-c150-49ce-8396-9bf1e219c468"
      },
      "execution_count": null,
      "outputs": [
        {
          "output_type": "execute_result",
          "data": {
            "text/plain": [
              "array([[ 0,  0,  0,  0,  0],\n",
              "       [ 5,  6,  7,  8,  9],\n",
              "       [10, 12, 14, 16, 18],\n",
              "       [15, 18, 21, 24, 27],\n",
              "       [20, 24, 28, 32, 36]])"
            ]
          },
          "metadata": {},
          "execution_count": 98
        }
      ]
    },
    {
      "cell_type": "code",
      "source": [
        "np.inner(vec1, vec2)"
      ],
      "metadata": {
        "colab": {
          "base_uri": "https://localhost:8080/"
        },
        "id": "KD4hPLJ6-Ta-",
        "outputId": "d0fa3d9c-bfea-46ec-ea39-af21fac10737"
      },
      "execution_count": null,
      "outputs": [
        {
          "output_type": "execute_result",
          "data": {
            "text/plain": [
              "array([[80]])"
            ]
          },
          "metadata": {},
          "execution_count": 99
        }
      ]
    },
    {
      "cell_type": "markdown",
      "source": [
        "np.einsum"
      ],
      "metadata": {
        "id": "jeYmhHKg-qlj"
      }
    },
    {
      "cell_type": "code",
      "source": [
        "np.einsum('ij,jk->ik',A, B)"
      ],
      "metadata": {
        "colab": {
          "base_uri": "https://localhost:8080/"
        },
        "id": "BdQzq1d6-WG1",
        "outputId": "d4d077ce-9998-4de7-fc79-dbbdd118a81c"
      },
      "execution_count": null,
      "outputs": [
        {
          "output_type": "execute_result",
          "data": {
            "text/plain": [
              "array([[114, 120, 126],\n",
              "       [378, 400, 422],\n",
              "       [642, 680, 718]])"
            ]
          },
          "metadata": {},
          "execution_count": 100
        }
      ]
    },
    {
      "cell_type": "code",
      "source": [
        "np.einsum('ij,jk->ik',vec1.T, vec2)"
      ],
      "metadata": {
        "colab": {
          "base_uri": "https://localhost:8080/"
        },
        "id": "KGOu-FdM-vO0",
        "outputId": "41a1e11c-9710-421e-ba7f-d3a8ed8591ea"
      },
      "execution_count": null,
      "outputs": [
        {
          "output_type": "execute_result",
          "data": {
            "text/plain": [
              "array([[ 0,  0,  0,  0,  0],\n",
              "       [ 5,  6,  7,  8,  9],\n",
              "       [10, 12, 14, 16, 18],\n",
              "       [15, 18, 21, 24, 27],\n",
              "       [20, 24, 28, 32, 36]])"
            ]
          },
          "metadata": {},
          "execution_count": 101
        }
      ]
    },
    {
      "cell_type": "code",
      "source": [
        "np.einsum('ij,kj->',vec1, vec2)"
      ],
      "metadata": {
        "colab": {
          "base_uri": "https://localhost:8080/"
        },
        "id": "_OPt_M6O-2tX",
        "outputId": "a2307c61-a585-43f2-dc0a-e070fd051e40"
      },
      "execution_count": null,
      "outputs": [
        {
          "output_type": "execute_result",
          "data": {
            "text/plain": [
              "80"
            ]
          },
          "metadata": {},
          "execution_count": 102
        }
      ]
    },
    {
      "cell_type": "code",
      "source": [
        "a = np.arange(60.).reshape(3,4,5)\n",
        "b = np.arange(24.).reshape(4,3,2)\n",
        "np.einsum('ijk,jil->kl', a, b)"
      ],
      "metadata": {
        "colab": {
          "base_uri": "https://localhost:8080/"
        },
        "id": "-ikusJ_Q_BBi",
        "outputId": "159d432b-4c85-4ff6-df3e-4c23c45c6740"
      },
      "execution_count": null,
      "outputs": [
        {
          "output_type": "execute_result",
          "data": {
            "text/plain": [
              "array([[4400., 4730.],\n",
              "       [4532., 4874.],\n",
              "       [4664., 5018.],\n",
              "       [4796., 5162.],\n",
              "       [4928., 5306.]])"
            ]
          },
          "metadata": {},
          "execution_count": 103
        }
      ]
    },
    {
      "cell_type": "code",
      "source": [
        "vec3 = np.arange(4)"
      ],
      "metadata": {
        "id": "jUyvqUHUAETC"
      },
      "execution_count": null,
      "outputs": []
    },
    {
      "cell_type": "code",
      "source": [
        "A @ vec3"
      ],
      "metadata": {
        "colab": {
          "base_uri": "https://localhost:8080/"
        },
        "id": "q7grYJsX_jnu",
        "outputId": "7923dd94-dd0b-49e1-fc6f-6d56f18a7633"
      },
      "execution_count": null,
      "outputs": [
        {
          "output_type": "execute_result",
          "data": {
            "text/plain": [
              "array([14, 38, 62])"
            ]
          },
          "metadata": {},
          "execution_count": 112
        }
      ]
    },
    {
      "cell_type": "markdown",
      "source": [],
      "metadata": {
        "id": "xGJ91daYj9kI"
      }
    },
    {
      "cell_type": "code",
      "source": [
        "np.einsum('ij,j->i', A, vec3)"
      ],
      "metadata": {
        "colab": {
          "base_uri": "https://localhost:8080/"
        },
        "id": "HA3hx_CG_-GL",
        "outputId": "c07cccb4-1c9c-42d4-faac-41203ddc23dd"
      },
      "execution_count": null,
      "outputs": [
        {
          "output_type": "execute_result",
          "data": {
            "text/plain": [
              "array([14, 38, 62])"
            ]
          },
          "metadata": {},
          "execution_count": 105
        }
      ]
    },
    {
      "cell_type": "markdown",
      "source": [
        "$A ⊗ B = A_{ij} B$"
      ],
      "metadata": {
        "id": "Dwc7OlCLj-FZ"
      }
    },
    {
      "cell_type": "code",
      "source": [
        "A"
      ],
      "metadata": {
        "colab": {
          "base_uri": "https://localhost:8080/"
        },
        "id": "nFaP8kd5kJ6K",
        "outputId": "cd019463-71d6-4ce5-9b02-0f04323fc70b"
      },
      "execution_count": null,
      "outputs": [
        {
          "output_type": "execute_result",
          "data": {
            "text/plain": [
              "array([[ 0,  1,  2,  3],\n",
              "       [ 4,  5,  6,  7],\n",
              "       [ 8,  9, 10, 11]])"
            ]
          },
          "metadata": {},
          "execution_count": 107
        }
      ]
    },
    {
      "cell_type": "code",
      "source": [
        "vec1.T"
      ],
      "metadata": {
        "colab": {
          "base_uri": "https://localhost:8080/"
        },
        "id": "oENhEnvzkMhw",
        "outputId": "7a23fb4e-d349-4962-89b4-b58793bb900b"
      },
      "execution_count": null,
      "outputs": [
        {
          "output_type": "execute_result",
          "data": {
            "text/plain": [
              "array([[0],\n",
              "       [1],\n",
              "       [2],\n",
              "       [3],\n",
              "       [4]])"
            ]
          },
          "metadata": {},
          "execution_count": 108
        }
      ]
    },
    {
      "cell_type": "code",
      "source": [
        "np.kron(A, vec1.T)"
      ],
      "metadata": {
        "colab": {
          "base_uri": "https://localhost:8080/"
        },
        "id": "w60ZMSM8CB8K",
        "outputId": "27b17479-bc7e-47f1-b645-029834adc446"
      },
      "execution_count": null,
      "outputs": [
        {
          "output_type": "execute_result",
          "data": {
            "text/plain": [
              "array([[ 0,  0,  0,  0],\n",
              "       [ 0,  1,  2,  3],\n",
              "       [ 0,  2,  4,  6],\n",
              "       [ 0,  3,  6,  9],\n",
              "       [ 0,  4,  8, 12],\n",
              "       [ 0,  0,  0,  0],\n",
              "       [ 4,  5,  6,  7],\n",
              "       [ 8, 10, 12, 14],\n",
              "       [12, 15, 18, 21],\n",
              "       [16, 20, 24, 28],\n",
              "       [ 0,  0,  0,  0],\n",
              "       [ 8,  9, 10, 11],\n",
              "       [16, 18, 20, 22],\n",
              "       [24, 27, 30, 33],\n",
              "       [32, 36, 40, 44]])"
            ]
          },
          "metadata": {},
          "execution_count": 109
        }
      ]
    },
    {
      "cell_type": "markdown",
      "source": [
        "# VECTORS"
      ],
      "metadata": {
        "id": "zb4c3WQ9HJ0H"
      }
    },
    {
      "cell_type": "code",
      "execution_count": null,
      "metadata": {
        "colab": {
          "base_uri": "https://localhost:8080/"
        },
        "id": "m4gPI3Mqofgx",
        "outputId": "41b6d945-b544-446e-98a0-6fdcc071b872"
      },
      "outputs": [
        {
          "output_type": "stream",
          "name": "stdout",
          "text": [
            "--2024-01-10 08:37:51--  https://www.dropbox.com/s/obaitrix9jyu84r/quora.txt?dl=1\n",
            "Resolving www.dropbox.com (www.dropbox.com)... 162.125.3.18, 2620:100:6018:18::a27d:312\n",
            "Connecting to www.dropbox.com (www.dropbox.com)|162.125.3.18|:443... connected.\n",
            "HTTP request sent, awaiting response... 302 Found\n",
            "Location: /s/dl/obaitrix9jyu84r/quora.txt [following]\n",
            "--2024-01-10 08:37:52--  https://www.dropbox.com/s/dl/obaitrix9jyu84r/quora.txt\n",
            "Reusing existing connection to www.dropbox.com:443.\n",
            "HTTP request sent, awaiting response... 302 Found\n",
            "Location: https://uc3c58d41ee88c73f73aac4f853d.dl.dropboxusercontent.com/cd/0/get/CLFTb9ioDd7NpoLH3OhiWMoNi2v-Pga1lc0_y9tDL5iJo9sgEkrUqgxP_t8EiLr-fCWVtbuhUrYLG8BLaI7L4S2NheF-igSrFbZcHV_32HDHOM48TOup_6vYJ2TFXUF8zkg/file?dl=1# [following]\n",
            "--2024-01-10 08:37:52--  https://uc3c58d41ee88c73f73aac4f853d.dl.dropboxusercontent.com/cd/0/get/CLFTb9ioDd7NpoLH3OhiWMoNi2v-Pga1lc0_y9tDL5iJo9sgEkrUqgxP_t8EiLr-fCWVtbuhUrYLG8BLaI7L4S2NheF-igSrFbZcHV_32HDHOM48TOup_6vYJ2TFXUF8zkg/file?dl=1\n",
            "Resolving uc3c58d41ee88c73f73aac4f853d.dl.dropboxusercontent.com (uc3c58d41ee88c73f73aac4f853d.dl.dropboxusercontent.com)... 162.125.3.15, 2620:100:6018:15::a27d:30f\n",
            "Connecting to uc3c58d41ee88c73f73aac4f853d.dl.dropboxusercontent.com (uc3c58d41ee88c73f73aac4f853d.dl.dropboxusercontent.com)|162.125.3.15|:443... connected.\n",
            "HTTP request sent, awaiting response... 200 OK\n",
            "Length: 33813903 (32M) [application/binary]\n",
            "Saving to: ‘./quora.txt’\n",
            "\n",
            "./quora.txt         100%[===================>]  32.25M  92.9MB/s    in 0.3s    \n",
            "\n",
            "2024-01-10 08:37:53 (92.9 MB/s) - ‘./quora.txt’ saved [33813903/33813903]\n",
            "\n"
          ]
        }
      ],
      "source": [
        "from gensim.test.utils import common_texts, get_tmpfile\n",
        "from gensim.models import Word2Vec\n",
        "\n",
        "# download the data:\n",
        "!wget https://www.dropbox.com/s/obaitrix9jyu84r/quora.txt?dl=1 -O ./quora.txt\n"
      ]
    },
    {
      "cell_type": "code",
      "source": [],
      "metadata": {
        "id": "GXyWuOu5lHQi"
      },
      "execution_count": null,
      "outputs": []
    },
    {
      "cell_type": "code",
      "source": [
        "import numpy as np\n",
        "import pandas as pd\n",
        "\n",
        "#sklearn imports\n",
        "from sklearn.decomposition import PCA #Principal Component Analysis\n",
        "from sklearn.manifold import TSNE #T-Distributed Stochastic Neighbor Embedding\n",
        "from sklearn.cluster import KMeans #K-Means Clustering\n",
        "from sklearn.preprocessing import StandardScaler #used for 'Feature Scaling'\n",
        "\n",
        "#plotly imports\n",
        "import plotly as py\n",
        "import plotly.graph_objs as go\n",
        "from plotly.offline import download_plotlyjs, init_notebook_mode, plot, iplot\n",
        "import plotly\n",
        "import numpy as np\n",
        "import plotly.graph_objs as go\n",
        "from sklearn.manifold import TSNE\n",
        "\n",
        "\n",
        "from sklearn.decomposition import PCA\n",
        "from sklearn import datasets\n",
        "from sklearn.preprocessing import StandardScaler\n",
        "\n",
        "import numpy as np\n",
        "import pandas as pd\n",
        "import matplotlib.pyplot as plt\n",
        "\n",
        "COLORS = ['aliceblue', 'darkkhaki',  'linen','darkmagenta', 'darkolivegreen',  'orchid' , 'honeydew', 'mediumblue','antiquewhite', 'mediumturquoise''gray', 'grey', 'green', 'aqua', 'aquamarine', 'azure']"
      ],
      "metadata": {
        "id": "v96L0PGepKBI"
      },
      "execution_count": null,
      "outputs": []
    },
    {
      "cell_type": "code",
      "source": [
        "import numpy as np\n",
        "\n",
        "data = list(open(\"./quora.txt\", encoding=\"utf-8\"))\n",
        "data[23]"
      ],
      "metadata": {
        "colab": {
          "base_uri": "https://localhost:8080/",
          "height": 35
        },
        "id": "UtF1iz97q96a",
        "outputId": "e2e1d927-9e7c-4a1b-dbd1-213166aa6085"
      },
      "execution_count": null,
      "outputs": [
        {
          "output_type": "execute_result",
          "data": {
            "text/plain": [
              "'What does entertainment mean for you?\\n'"
            ],
            "application/vnd.google.colaboratory.intrinsic+json": {
              "type": "string"
            }
          },
          "metadata": {},
          "execution_count": 4
        }
      ]
    },
    {
      "cell_type": "code",
      "source": [
        "from nltk.tokenize import WordPunctTokenizer\n",
        "tokenizer = WordPunctTokenizer()\n",
        "\n",
        "print(tokenizer.tokenize(data[23]))"
      ],
      "metadata": {
        "colab": {
          "base_uri": "https://localhost:8080/"
        },
        "id": "EtLjzN52q9yI",
        "outputId": "a3468513-0322-4ba3-b46e-fe77ade56dad"
      },
      "execution_count": null,
      "outputs": [
        {
          "output_type": "stream",
          "name": "stdout",
          "text": [
            "['What', 'does', 'entertainment', 'mean', 'for', 'you', '?']\n"
          ]
        }
      ]
    },
    {
      "cell_type": "code",
      "source": [
        "data_tok = [tokenizer.tokenize(sent.lower()) for sent in data]"
      ],
      "metadata": {
        "id": "DzC1Ls1CrHmf"
      },
      "execution_count": null,
      "outputs": []
    },
    {
      "cell_type": "code",
      "source": [
        "w2v_model = Word2Vec(data_tok,\n",
        "                       # embedding vector size\n",
        "                 min_count=5,  # consider words that occured at least 5 times\n",
        "                 window=5).wv"
      ],
      "metadata": {
        "id": "0Ww89niuogIY"
      },
      "execution_count": null,
      "outputs": []
    },
    {
      "cell_type": "code",
      "source": [
        "w2v_model.get_vector('woman')"
      ],
      "metadata": {
        "colab": {
          "base_uri": "https://localhost:8080/"
        },
        "id": "omlFxy5loznH",
        "outputId": "cbf0574e-e686-47ad-914c-24ee4ff64251"
      },
      "execution_count": null,
      "outputs": [
        {
          "output_type": "execute_result",
          "data": {
            "text/plain": [
              "array([ 0.5510758 ,  0.04876481, -0.8280629 , -2.0153089 , -0.55941325,\n",
              "        0.47087073, -0.64662147,  2.517534  ,  0.45136344, -1.0315931 ,\n",
              "       -0.15133859,  1.5904437 , -1.2905945 , -0.7586578 , -1.3757157 ,\n",
              "        0.27610877, -0.6383613 , -1.552325  , -2.2799797 ,  0.90280914,\n",
              "        0.4081368 , -3.2067454 , -0.44152072,  1.2015288 , -1.3529074 ,\n",
              "        0.4205904 ,  0.522972  , -1.9928865 ,  0.28406823,  0.47070503,\n",
              "       -0.02047303, -0.02783941, -2.5652375 , -0.801976  ,  3.444399  ,\n",
              "       -0.59195673, -2.2012486 , -1.1462302 , -1.3151225 ,  2.154356  ,\n",
              "        0.27969357,  1.578174  ,  1.0957488 , -0.42968395, -0.7009031 ,\n",
              "       -3.2719295 ,  1.3576227 ,  0.99544793,  0.47220603,  2.7964752 ,\n",
              "        0.63269746, -0.8387563 ,  1.7082753 , -1.7663159 ,  1.1943883 ,\n",
              "        2.5261788 , -0.85199755,  1.862856  , -0.01291075,  0.684409  ,\n",
              "       -1.8940619 , -1.009942  , -0.8893934 ,  1.0036647 , -1.0373614 ,\n",
              "        4.0053854 ,  0.55496216,  1.7403543 ,  3.5962696 , -0.6578808 ,\n",
              "        1.097058  , -2.0679796 , -2.8585289 ,  0.8842418 , -0.7686889 ,\n",
              "       -0.9584778 ,  1.8644656 , -1.6661981 , -1.7405834 ,  2.70612   ,\n",
              "        1.1332086 ,  4.5139847 , -3.7133121 , -0.74479747,  0.5118192 ,\n",
              "       -0.01792649, -1.8914293 ,  1.1334815 , -2.0869389 ,  0.9861847 ,\n",
              "        0.5443666 ,  0.5075604 ,  0.81802315,  1.4745758 ,  0.9174829 ,\n",
              "        0.7124987 ,  0.29177058,  0.20825069, -1.5257351 ,  0.6663934 ],\n",
              "      dtype=float32)"
            ]
          },
          "metadata": {},
          "execution_count": 8
        }
      ]
    },
    {
      "cell_type": "code",
      "source": [
        "vecs_w2v = [w2v_model.get_vector('man'), w2v_model.get_vector('woman'),  w2v_model.get_vector('king'), w2v_model.get_vector('queen')]"
      ],
      "metadata": {
        "id": "WNyzzHwwtQP9"
      },
      "execution_count": null,
      "outputs": []
    },
    {
      "cell_type": "code",
      "source": [
        "vector =  w2v_model.get_vector('king') - w2v_model.get_vector('man') + w2v_model.get_vector('woman')\n",
        "\n",
        "vector@ w2v_model.get_vector('queen') / (np.linalg.norm( w2v_model.get_vector('queen'))* np.linalg.norm(vector))"
      ],
      "metadata": {
        "id": "s1vGP73pgnqy",
        "colab": {
          "base_uri": "https://localhost:8080/"
        },
        "outputId": "5e4c4bdf-993d-460b-d866-784686e13d6a"
      },
      "execution_count": null,
      "outputs": [
        {
          "output_type": "execute_result",
          "data": {
            "text/plain": [
              "0.66413"
            ]
          },
          "metadata": {},
          "execution_count": 9
        }
      ]
    },
    {
      "cell_type": "code",
      "source": [
        "w2v_model.get_vector('woman')@ w2v_model.get_vector('queen') / (np.linalg.norm( w2v_model.get_vector('queen'))* np.linalg.norm(w2v_model.get_vector('woman')))"
      ],
      "metadata": {
        "colab": {
          "base_uri": "https://localhost:8080/"
        },
        "id": "9SGRWah0iWjF",
        "outputId": "b5e8e70b-f4e3-410b-c126-e0959265b1e4"
      },
      "execution_count": null,
      "outputs": [
        {
          "output_type": "execute_result",
          "data": {
            "text/plain": [
              "0.33052665"
            ]
          },
          "metadata": {},
          "execution_count": 11
        }
      ]
    },
    {
      "cell_type": "code",
      "source": [
        "\n",
        "pca = PCA(n_components=3)\n",
        "pca.fit(vecs_w2v)\n",
        "X_pca = pca.transform(vecs_w2v)"
      ],
      "metadata": {
        "id": "qzFs7ZuSgbAY"
      },
      "execution_count": null,
      "outputs": []
    },
    {
      "cell_type": "code",
      "source": [
        "\n",
        "fig = go.Figure([go.Scatter3d(x=X_pca[:2,:][:, 0], y=X_pca[:2,:][:, 1],z=X_pca[:2,:][:, 2], mode='lines',text=['king','queen'], line=dict(\n",
        "                                      color='olive',\n",
        "                                      width=8)),\n",
        "go.Scatter3d(x=X_pca[:2,:][1:2, 0], y=X_pca[:2,:][1:2, 1],z=X_pca[:2,:][1:2, 2], mode='markers',text=['queen'], marker={'size': 7,\n",
        "              'opacity': 1,\n",
        "              'color': 'olive',\n",
        "              'symbol' : 'diamond'}  ),\n",
        "              go.Scatter3d(x=X_pca[2:,:][:, 0], y=X_pca[2:,:][:, 1],z=X_pca[2:,:][:, 2], mode='lines', text=['man','woman'],line=dict(\n",
        "                                      color='powderblue',\n",
        "                                      width=8)),\n",
        "go.Scatter3d(x=X_pca[2:,:][1:2, 0], y=X_pca[2:,:][1:2, 1],z=X_pca[2:,:][1:2, 2], mode='markers', text=['woman'], marker={'size': 7,\n",
        "              'opacity': 1,\n",
        "              'color': 'powderblue',\n",
        "              'symbol' : 'diamond'}  )])"
      ],
      "metadata": {
        "id": "sK_YScY1gltO"
      },
      "execution_count": null,
      "outputs": []
    },
    {
      "cell_type": "code",
      "source": [
        "fig.show()"
      ],
      "metadata": {
        "colab": {
          "base_uri": "https://localhost:8080/",
          "height": 542
        },
        "id": "K4D8niHEiD43",
        "outputId": "4c0f02de-07da-4ffb-ca13-479c90a77967"
      },
      "execution_count": null,
      "outputs": [
        {
          "output_type": "display_data",
          "data": {
            "text/html": [
              "<html>\n",
              "<head><meta charset=\"utf-8\" /></head>\n",
              "<body>\n",
              "    <div>            <script src=\"https://cdnjs.cloudflare.com/ajax/libs/mathjax/2.7.5/MathJax.js?config=TeX-AMS-MML_SVG\"></script><script type=\"text/javascript\">if (window.MathJax && window.MathJax.Hub && window.MathJax.Hub.Config) {window.MathJax.Hub.Config({SVG: {font: \"STIX-Web\"}});}</script>                <script type=\"text/javascript\">window.PlotlyConfig = {MathJaxConfig: 'local'};</script>\n",
              "        <script charset=\"utf-8\" src=\"https://cdn.plot.ly/plotly-2.24.1.min.js\"></script>                <div id=\"e4bdaf2c-ad71-4441-99b6-0324d58081fa\" class=\"plotly-graph-div\" style=\"height:525px; width:100%;\"></div>            <script type=\"text/javascript\">                                    window.PLOTLYENV=window.PLOTLYENV || {};                                    if (document.getElementById(\"e4bdaf2c-ad71-4441-99b6-0324d58081fa\")) {                    Plotly.newPlot(                        \"e4bdaf2c-ad71-4441-99b6-0324d58081fa\",                        [{\"line\":{\"color\":\"olive\",\"width\":8},\"mode\":\"lines\",\"text\":[\"king\",\"queen\"],\"x\":[6.117950827791916,7.558965175069171],\"y\":[3.377481047692912,-2.983076746785913],\"z\":[0.9198750480954089,-0.9549997617670142],\"type\":\"scatter3d\"},{\"marker\":{\"color\":\"olive\",\"opacity\":1,\"size\":7,\"symbol\":\"diamond\"},\"mode\":\"markers\",\"text\":[\"queen\"],\"x\":[7.558965175069171],\"y\":[-2.983076746785913],\"z\":[-0.9549997617670142],\"type\":\"scatter3d\"},{\"line\":{\"color\":\"powderblue\",\"width\":8},\"mode\":\"lines\",\"text\":[\"man\",\"woman\"],\"x\":[-7.191857196788006,-6.485058806073078],\"y\":[0.9508012774920405,-1.3452055783990375],\"z\":[-2.573358240534234,2.608482954205839],\"type\":\"scatter3d\"},{\"marker\":{\"color\":\"powderblue\",\"opacity\":1,\"size\":7,\"symbol\":\"diamond\"},\"mode\":\"markers\",\"text\":[\"woman\"],\"x\":[-6.485058806073078],\"y\":[-1.3452055783990375],\"z\":[2.608482954205839],\"type\":\"scatter3d\"}],                        {\"template\":{\"data\":{\"histogram2dcontour\":[{\"type\":\"histogram2dcontour\",\"colorbar\":{\"outlinewidth\":0,\"ticks\":\"\"},\"colorscale\":[[0.0,\"#0d0887\"],[0.1111111111111111,\"#46039f\"],[0.2222222222222222,\"#7201a8\"],[0.3333333333333333,\"#9c179e\"],[0.4444444444444444,\"#bd3786\"],[0.5555555555555556,\"#d8576b\"],[0.6666666666666666,\"#ed7953\"],[0.7777777777777778,\"#fb9f3a\"],[0.8888888888888888,\"#fdca26\"],[1.0,\"#f0f921\"]]}],\"choropleth\":[{\"type\":\"choropleth\",\"colorbar\":{\"outlinewidth\":0,\"ticks\":\"\"}}],\"histogram2d\":[{\"type\":\"histogram2d\",\"colorbar\":{\"outlinewidth\":0,\"ticks\":\"\"},\"colorscale\":[[0.0,\"#0d0887\"],[0.1111111111111111,\"#46039f\"],[0.2222222222222222,\"#7201a8\"],[0.3333333333333333,\"#9c179e\"],[0.4444444444444444,\"#bd3786\"],[0.5555555555555556,\"#d8576b\"],[0.6666666666666666,\"#ed7953\"],[0.7777777777777778,\"#fb9f3a\"],[0.8888888888888888,\"#fdca26\"],[1.0,\"#f0f921\"]]}],\"heatmap\":[{\"type\":\"heatmap\",\"colorbar\":{\"outlinewidth\":0,\"ticks\":\"\"},\"colorscale\":[[0.0,\"#0d0887\"],[0.1111111111111111,\"#46039f\"],[0.2222222222222222,\"#7201a8\"],[0.3333333333333333,\"#9c179e\"],[0.4444444444444444,\"#bd3786\"],[0.5555555555555556,\"#d8576b\"],[0.6666666666666666,\"#ed7953\"],[0.7777777777777778,\"#fb9f3a\"],[0.8888888888888888,\"#fdca26\"],[1.0,\"#f0f921\"]]}],\"heatmapgl\":[{\"type\":\"heatmapgl\",\"colorbar\":{\"outlinewidth\":0,\"ticks\":\"\"},\"colorscale\":[[0.0,\"#0d0887\"],[0.1111111111111111,\"#46039f\"],[0.2222222222222222,\"#7201a8\"],[0.3333333333333333,\"#9c179e\"],[0.4444444444444444,\"#bd3786\"],[0.5555555555555556,\"#d8576b\"],[0.6666666666666666,\"#ed7953\"],[0.7777777777777778,\"#fb9f3a\"],[0.8888888888888888,\"#fdca26\"],[1.0,\"#f0f921\"]]}],\"contourcarpet\":[{\"type\":\"contourcarpet\",\"colorbar\":{\"outlinewidth\":0,\"ticks\":\"\"}}],\"contour\":[{\"type\":\"contour\",\"colorbar\":{\"outlinewidth\":0,\"ticks\":\"\"},\"colorscale\":[[0.0,\"#0d0887\"],[0.1111111111111111,\"#46039f\"],[0.2222222222222222,\"#7201a8\"],[0.3333333333333333,\"#9c179e\"],[0.4444444444444444,\"#bd3786\"],[0.5555555555555556,\"#d8576b\"],[0.6666666666666666,\"#ed7953\"],[0.7777777777777778,\"#fb9f3a\"],[0.8888888888888888,\"#fdca26\"],[1.0,\"#f0f921\"]]}],\"surface\":[{\"type\":\"surface\",\"colorbar\":{\"outlinewidth\":0,\"ticks\":\"\"},\"colorscale\":[[0.0,\"#0d0887\"],[0.1111111111111111,\"#46039f\"],[0.2222222222222222,\"#7201a8\"],[0.3333333333333333,\"#9c179e\"],[0.4444444444444444,\"#bd3786\"],[0.5555555555555556,\"#d8576b\"],[0.6666666666666666,\"#ed7953\"],[0.7777777777777778,\"#fb9f3a\"],[0.8888888888888888,\"#fdca26\"],[1.0,\"#f0f921\"]]}],\"mesh3d\":[{\"type\":\"mesh3d\",\"colorbar\":{\"outlinewidth\":0,\"ticks\":\"\"}}],\"scatter\":[{\"fillpattern\":{\"fillmode\":\"overlay\",\"size\":10,\"solidity\":0.2},\"type\":\"scatter\"}],\"parcoords\":[{\"type\":\"parcoords\",\"line\":{\"colorbar\":{\"outlinewidth\":0,\"ticks\":\"\"}}}],\"scatterpolargl\":[{\"type\":\"scatterpolargl\",\"marker\":{\"colorbar\":{\"outlinewidth\":0,\"ticks\":\"\"}}}],\"bar\":[{\"error_x\":{\"color\":\"#2a3f5f\"},\"error_y\":{\"color\":\"#2a3f5f\"},\"marker\":{\"line\":{\"color\":\"#E5ECF6\",\"width\":0.5},\"pattern\":{\"fillmode\":\"overlay\",\"size\":10,\"solidity\":0.2}},\"type\":\"bar\"}],\"scattergeo\":[{\"type\":\"scattergeo\",\"marker\":{\"colorbar\":{\"outlinewidth\":0,\"ticks\":\"\"}}}],\"scatterpolar\":[{\"type\":\"scatterpolar\",\"marker\":{\"colorbar\":{\"outlinewidth\":0,\"ticks\":\"\"}}}],\"histogram\":[{\"marker\":{\"pattern\":{\"fillmode\":\"overlay\",\"size\":10,\"solidity\":0.2}},\"type\":\"histogram\"}],\"scattergl\":[{\"type\":\"scattergl\",\"marker\":{\"colorbar\":{\"outlinewidth\":0,\"ticks\":\"\"}}}],\"scatter3d\":[{\"type\":\"scatter3d\",\"line\":{\"colorbar\":{\"outlinewidth\":0,\"ticks\":\"\"}},\"marker\":{\"colorbar\":{\"outlinewidth\":0,\"ticks\":\"\"}}}],\"scattermapbox\":[{\"type\":\"scattermapbox\",\"marker\":{\"colorbar\":{\"outlinewidth\":0,\"ticks\":\"\"}}}],\"scatterternary\":[{\"type\":\"scatterternary\",\"marker\":{\"colorbar\":{\"outlinewidth\":0,\"ticks\":\"\"}}}],\"scattercarpet\":[{\"type\":\"scattercarpet\",\"marker\":{\"colorbar\":{\"outlinewidth\":0,\"ticks\":\"\"}}}],\"carpet\":[{\"aaxis\":{\"endlinecolor\":\"#2a3f5f\",\"gridcolor\":\"white\",\"linecolor\":\"white\",\"minorgridcolor\":\"white\",\"startlinecolor\":\"#2a3f5f\"},\"baxis\":{\"endlinecolor\":\"#2a3f5f\",\"gridcolor\":\"white\",\"linecolor\":\"white\",\"minorgridcolor\":\"white\",\"startlinecolor\":\"#2a3f5f\"},\"type\":\"carpet\"}],\"table\":[{\"cells\":{\"fill\":{\"color\":\"#EBF0F8\"},\"line\":{\"color\":\"white\"}},\"header\":{\"fill\":{\"color\":\"#C8D4E3\"},\"line\":{\"color\":\"white\"}},\"type\":\"table\"}],\"barpolar\":[{\"marker\":{\"line\":{\"color\":\"#E5ECF6\",\"width\":0.5},\"pattern\":{\"fillmode\":\"overlay\",\"size\":10,\"solidity\":0.2}},\"type\":\"barpolar\"}],\"pie\":[{\"automargin\":true,\"type\":\"pie\"}]},\"layout\":{\"autotypenumbers\":\"strict\",\"colorway\":[\"#636efa\",\"#EF553B\",\"#00cc96\",\"#ab63fa\",\"#FFA15A\",\"#19d3f3\",\"#FF6692\",\"#B6E880\",\"#FF97FF\",\"#FECB52\"],\"font\":{\"color\":\"#2a3f5f\"},\"hovermode\":\"closest\",\"hoverlabel\":{\"align\":\"left\"},\"paper_bgcolor\":\"white\",\"plot_bgcolor\":\"#E5ECF6\",\"polar\":{\"bgcolor\":\"#E5ECF6\",\"angularaxis\":{\"gridcolor\":\"white\",\"linecolor\":\"white\",\"ticks\":\"\"},\"radialaxis\":{\"gridcolor\":\"white\",\"linecolor\":\"white\",\"ticks\":\"\"}},\"ternary\":{\"bgcolor\":\"#E5ECF6\",\"aaxis\":{\"gridcolor\":\"white\",\"linecolor\":\"white\",\"ticks\":\"\"},\"baxis\":{\"gridcolor\":\"white\",\"linecolor\":\"white\",\"ticks\":\"\"},\"caxis\":{\"gridcolor\":\"white\",\"linecolor\":\"white\",\"ticks\":\"\"}},\"coloraxis\":{\"colorbar\":{\"outlinewidth\":0,\"ticks\":\"\"}},\"colorscale\":{\"sequential\":[[0.0,\"#0d0887\"],[0.1111111111111111,\"#46039f\"],[0.2222222222222222,\"#7201a8\"],[0.3333333333333333,\"#9c179e\"],[0.4444444444444444,\"#bd3786\"],[0.5555555555555556,\"#d8576b\"],[0.6666666666666666,\"#ed7953\"],[0.7777777777777778,\"#fb9f3a\"],[0.8888888888888888,\"#fdca26\"],[1.0,\"#f0f921\"]],\"sequentialminus\":[[0.0,\"#0d0887\"],[0.1111111111111111,\"#46039f\"],[0.2222222222222222,\"#7201a8\"],[0.3333333333333333,\"#9c179e\"],[0.4444444444444444,\"#bd3786\"],[0.5555555555555556,\"#d8576b\"],[0.6666666666666666,\"#ed7953\"],[0.7777777777777778,\"#fb9f3a\"],[0.8888888888888888,\"#fdca26\"],[1.0,\"#f0f921\"]],\"diverging\":[[0,\"#8e0152\"],[0.1,\"#c51b7d\"],[0.2,\"#de77ae\"],[0.3,\"#f1b6da\"],[0.4,\"#fde0ef\"],[0.5,\"#f7f7f7\"],[0.6,\"#e6f5d0\"],[0.7,\"#b8e186\"],[0.8,\"#7fbc41\"],[0.9,\"#4d9221\"],[1,\"#276419\"]]},\"xaxis\":{\"gridcolor\":\"white\",\"linecolor\":\"white\",\"ticks\":\"\",\"title\":{\"standoff\":15},\"zerolinecolor\":\"white\",\"automargin\":true,\"zerolinewidth\":2},\"yaxis\":{\"gridcolor\":\"white\",\"linecolor\":\"white\",\"ticks\":\"\",\"title\":{\"standoff\":15},\"zerolinecolor\":\"white\",\"automargin\":true,\"zerolinewidth\":2},\"scene\":{\"xaxis\":{\"backgroundcolor\":\"#E5ECF6\",\"gridcolor\":\"white\",\"linecolor\":\"white\",\"showbackground\":true,\"ticks\":\"\",\"zerolinecolor\":\"white\",\"gridwidth\":2},\"yaxis\":{\"backgroundcolor\":\"#E5ECF6\",\"gridcolor\":\"white\",\"linecolor\":\"white\",\"showbackground\":true,\"ticks\":\"\",\"zerolinecolor\":\"white\",\"gridwidth\":2},\"zaxis\":{\"backgroundcolor\":\"#E5ECF6\",\"gridcolor\":\"white\",\"linecolor\":\"white\",\"showbackground\":true,\"ticks\":\"\",\"zerolinecolor\":\"white\",\"gridwidth\":2}},\"shapedefaults\":{\"line\":{\"color\":\"#2a3f5f\"}},\"annotationdefaults\":{\"arrowcolor\":\"#2a3f5f\",\"arrowhead\":0,\"arrowwidth\":1},\"geo\":{\"bgcolor\":\"white\",\"landcolor\":\"#E5ECF6\",\"subunitcolor\":\"white\",\"showland\":true,\"showlakes\":true,\"lakecolor\":\"white\"},\"title\":{\"x\":0.05},\"mapbox\":{\"style\":\"light\"}}}},                        {\"responsive\": true}                    ).then(function(){\n",
              "                            \n",
              "var gd = document.getElementById('e4bdaf2c-ad71-4441-99b6-0324d58081fa');\n",
              "var x = new MutationObserver(function (mutations, observer) {{\n",
              "        var display = window.getComputedStyle(gd).display;\n",
              "        if (!display || display === 'none') {{\n",
              "            console.log([gd, 'removed!']);\n",
              "            Plotly.purge(gd);\n",
              "            observer.disconnect();\n",
              "        }}\n",
              "}});\n",
              "\n",
              "// Listen for the removal of the full notebook cells\n",
              "var notebookContainer = gd.closest('#notebook-container');\n",
              "if (notebookContainer) {{\n",
              "    x.observe(notebookContainer, {childList: true});\n",
              "}}\n",
              "\n",
              "// Listen for the clearing of the current output cell\n",
              "var outputEl = gd.closest('.output');\n",
              "if (outputEl) {{\n",
              "    x.observe(outputEl, {childList: true});\n",
              "}}\n",
              "\n",
              "                        })                };                            </script>        </div>\n",
              "</body>\n",
              "</html>"
            ]
          },
          "metadata": {}
        }
      ]
    },
    {
      "cell_type": "code",
      "source": [
        "pca2d = PCA(n_components=2)\n",
        "pca2d.fit(vecs_w2v)\n",
        "X_pca = pca2d.transform(vecs_w2v)"
      ],
      "metadata": {
        "id": "PnzDjhDXtLEj"
      },
      "execution_count": null,
      "outputs": []
    },
    {
      "cell_type": "code",
      "source": [
        "\n",
        "fig = go.Figure([\n",
        "                  go.Scatter(x=X_pca[:2,:][:, 0], y=X_pca[:2,:][:, 1], mode='lines', text=['king','queen'], line=dict(\n",
        "                                      color='olive',\n",
        "                                      width=3)),\n",
        "                  go.Scatter(x=X_pca[:2,:][1:2, 0], y=X_pca[:2,:][1:2, 1], mode='markers', text=['queen'],marker={'size': 7,\n",
        "                                'opacity': 1,\n",
        "                                'color': 'olive',\n",
        "                                'symbol' : 'diamond'}  ),\n",
        "\n",
        "                  go.Scatter(x=X_pca[2:,:][:, 0], y=X_pca[2:,:][:, 1], mode='lines', text=['man','woman'],line=dict(\n",
        "                                                        color='powderblue',\n",
        "                                                        width=3)),\n",
        "                  go.Scatter(x=X_pca[2:,:][1:2, 0], y=X_pca[2:,:][1:2, 1], mode='markers', text=['woman'],marker={'size': 7,\n",
        "                                'opacity': 1,\n",
        "                                'color': 'powderblue',\n",
        "                                'symbol' : 'diamond'}  )\n",
        "                  ])"
      ],
      "metadata": {
        "id": "DTPGJlpxjHqp"
      },
      "execution_count": null,
      "outputs": []
    },
    {
      "cell_type": "code",
      "source": [
        "X_pca"
      ],
      "metadata": {
        "colab": {
          "base_uri": "https://localhost:8080/"
        },
        "id": "_cg6hshojkPJ",
        "outputId": "bb6ae493-4c1b-4120-c709-41da675806e9"
      },
      "execution_count": null,
      "outputs": [
        {
          "output_type": "execute_result",
          "data": {
            "text/plain": [
              "array([[ 7.08976223,  6.09277838],\n",
              "       [ 9.46276232, -5.10677141],\n",
              "       [-8.92347362,  1.84984652],\n",
              "       [-7.62905093, -2.83585349]])"
            ]
          },
          "metadata": {},
          "execution_count": 24
        }
      ]
    },
    {
      "cell_type": "code",
      "source": [
        "fig.show()"
      ],
      "metadata": {
        "colab": {
          "base_uri": "https://localhost:8080/",
          "height": 542
        },
        "id": "utSieCwQjYpv",
        "outputId": "854ee865-5073-46f1-e284-26ccceccdb78"
      },
      "execution_count": null,
      "outputs": [
        {
          "output_type": "display_data",
          "data": {
            "text/html": [
              "<html>\n",
              "<head><meta charset=\"utf-8\" /></head>\n",
              "<body>\n",
              "    <div>            <script src=\"https://cdnjs.cloudflare.com/ajax/libs/mathjax/2.7.5/MathJax.js?config=TeX-AMS-MML_SVG\"></script><script type=\"text/javascript\">if (window.MathJax && window.MathJax.Hub && window.MathJax.Hub.Config) {window.MathJax.Hub.Config({SVG: {font: \"STIX-Web\"}});}</script>                <script type=\"text/javascript\">window.PlotlyConfig = {MathJaxConfig: 'local'};</script>\n",
              "        <script charset=\"utf-8\" src=\"https://cdn.plot.ly/plotly-2.24.1.min.js\"></script>                <div id=\"9aa4e8dd-15a2-4bb0-b875-95f28102d619\" class=\"plotly-graph-div\" style=\"height:525px; width:100%;\"></div>            <script type=\"text/javascript\">                                    window.PLOTLYENV=window.PLOTLYENV || {};                                    if (document.getElementById(\"9aa4e8dd-15a2-4bb0-b875-95f28102d619\")) {                    Plotly.newPlot(                        \"9aa4e8dd-15a2-4bb0-b875-95f28102d619\",                        [{\"line\":{\"color\":\"olive\",\"width\":3},\"mode\":\"lines\",\"text\":[\"king\",\"queen\"],\"x\":[7.0897622295121625,9.462762316892109],\"y\":[6.092778378384397,-5.10677141115192],\"type\":\"scatter\"},{\"marker\":{\"color\":\"olive\",\"opacity\":1,\"size\":7,\"symbol\":\"diamond\"},\"mode\":\"markers\",\"text\":[\"queen\"],\"x\":[9.462762316892109],\"y\":[-5.10677141115192],\"type\":\"scatter\"},{\"line\":{\"color\":\"powderblue\",\"width\":3},\"mode\":\"lines\",\"text\":[\"man\",\"woman\"],\"x\":[-8.92347362048676,-7.629050925917511],\"y\":[1.849846519069668,-2.8358534863021414],\"type\":\"scatter\"},{\"marker\":{\"color\":\"powderblue\",\"opacity\":1,\"size\":7,\"symbol\":\"diamond\"},\"mode\":\"markers\",\"text\":[\"woman\"],\"x\":[-7.629050925917511],\"y\":[-2.8358534863021414],\"type\":\"scatter\"}],                        {\"template\":{\"data\":{\"histogram2dcontour\":[{\"type\":\"histogram2dcontour\",\"colorbar\":{\"outlinewidth\":0,\"ticks\":\"\"},\"colorscale\":[[0.0,\"#0d0887\"],[0.1111111111111111,\"#46039f\"],[0.2222222222222222,\"#7201a8\"],[0.3333333333333333,\"#9c179e\"],[0.4444444444444444,\"#bd3786\"],[0.5555555555555556,\"#d8576b\"],[0.6666666666666666,\"#ed7953\"],[0.7777777777777778,\"#fb9f3a\"],[0.8888888888888888,\"#fdca26\"],[1.0,\"#f0f921\"]]}],\"choropleth\":[{\"type\":\"choropleth\",\"colorbar\":{\"outlinewidth\":0,\"ticks\":\"\"}}],\"histogram2d\":[{\"type\":\"histogram2d\",\"colorbar\":{\"outlinewidth\":0,\"ticks\":\"\"},\"colorscale\":[[0.0,\"#0d0887\"],[0.1111111111111111,\"#46039f\"],[0.2222222222222222,\"#7201a8\"],[0.3333333333333333,\"#9c179e\"],[0.4444444444444444,\"#bd3786\"],[0.5555555555555556,\"#d8576b\"],[0.6666666666666666,\"#ed7953\"],[0.7777777777777778,\"#fb9f3a\"],[0.8888888888888888,\"#fdca26\"],[1.0,\"#f0f921\"]]}],\"heatmap\":[{\"type\":\"heatmap\",\"colorbar\":{\"outlinewidth\":0,\"ticks\":\"\"},\"colorscale\":[[0.0,\"#0d0887\"],[0.1111111111111111,\"#46039f\"],[0.2222222222222222,\"#7201a8\"],[0.3333333333333333,\"#9c179e\"],[0.4444444444444444,\"#bd3786\"],[0.5555555555555556,\"#d8576b\"],[0.6666666666666666,\"#ed7953\"],[0.7777777777777778,\"#fb9f3a\"],[0.8888888888888888,\"#fdca26\"],[1.0,\"#f0f921\"]]}],\"heatmapgl\":[{\"type\":\"heatmapgl\",\"colorbar\":{\"outlinewidth\":0,\"ticks\":\"\"},\"colorscale\":[[0.0,\"#0d0887\"],[0.1111111111111111,\"#46039f\"],[0.2222222222222222,\"#7201a8\"],[0.3333333333333333,\"#9c179e\"],[0.4444444444444444,\"#bd3786\"],[0.5555555555555556,\"#d8576b\"],[0.6666666666666666,\"#ed7953\"],[0.7777777777777778,\"#fb9f3a\"],[0.8888888888888888,\"#fdca26\"],[1.0,\"#f0f921\"]]}],\"contourcarpet\":[{\"type\":\"contourcarpet\",\"colorbar\":{\"outlinewidth\":0,\"ticks\":\"\"}}],\"contour\":[{\"type\":\"contour\",\"colorbar\":{\"outlinewidth\":0,\"ticks\":\"\"},\"colorscale\":[[0.0,\"#0d0887\"],[0.1111111111111111,\"#46039f\"],[0.2222222222222222,\"#7201a8\"],[0.3333333333333333,\"#9c179e\"],[0.4444444444444444,\"#bd3786\"],[0.5555555555555556,\"#d8576b\"],[0.6666666666666666,\"#ed7953\"],[0.7777777777777778,\"#fb9f3a\"],[0.8888888888888888,\"#fdca26\"],[1.0,\"#f0f921\"]]}],\"surface\":[{\"type\":\"surface\",\"colorbar\":{\"outlinewidth\":0,\"ticks\":\"\"},\"colorscale\":[[0.0,\"#0d0887\"],[0.1111111111111111,\"#46039f\"],[0.2222222222222222,\"#7201a8\"],[0.3333333333333333,\"#9c179e\"],[0.4444444444444444,\"#bd3786\"],[0.5555555555555556,\"#d8576b\"],[0.6666666666666666,\"#ed7953\"],[0.7777777777777778,\"#fb9f3a\"],[0.8888888888888888,\"#fdca26\"],[1.0,\"#f0f921\"]]}],\"mesh3d\":[{\"type\":\"mesh3d\",\"colorbar\":{\"outlinewidth\":0,\"ticks\":\"\"}}],\"scatter\":[{\"fillpattern\":{\"fillmode\":\"overlay\",\"size\":10,\"solidity\":0.2},\"type\":\"scatter\"}],\"parcoords\":[{\"type\":\"parcoords\",\"line\":{\"colorbar\":{\"outlinewidth\":0,\"ticks\":\"\"}}}],\"scatterpolargl\":[{\"type\":\"scatterpolargl\",\"marker\":{\"colorbar\":{\"outlinewidth\":0,\"ticks\":\"\"}}}],\"bar\":[{\"error_x\":{\"color\":\"#2a3f5f\"},\"error_y\":{\"color\":\"#2a3f5f\"},\"marker\":{\"line\":{\"color\":\"#E5ECF6\",\"width\":0.5},\"pattern\":{\"fillmode\":\"overlay\",\"size\":10,\"solidity\":0.2}},\"type\":\"bar\"}],\"scattergeo\":[{\"type\":\"scattergeo\",\"marker\":{\"colorbar\":{\"outlinewidth\":0,\"ticks\":\"\"}}}],\"scatterpolar\":[{\"type\":\"scatterpolar\",\"marker\":{\"colorbar\":{\"outlinewidth\":0,\"ticks\":\"\"}}}],\"histogram\":[{\"marker\":{\"pattern\":{\"fillmode\":\"overlay\",\"size\":10,\"solidity\":0.2}},\"type\":\"histogram\"}],\"scattergl\":[{\"type\":\"scattergl\",\"marker\":{\"colorbar\":{\"outlinewidth\":0,\"ticks\":\"\"}}}],\"scatter3d\":[{\"type\":\"scatter3d\",\"line\":{\"colorbar\":{\"outlinewidth\":0,\"ticks\":\"\"}},\"marker\":{\"colorbar\":{\"outlinewidth\":0,\"ticks\":\"\"}}}],\"scattermapbox\":[{\"type\":\"scattermapbox\",\"marker\":{\"colorbar\":{\"outlinewidth\":0,\"ticks\":\"\"}}}],\"scatterternary\":[{\"type\":\"scatterternary\",\"marker\":{\"colorbar\":{\"outlinewidth\":0,\"ticks\":\"\"}}}],\"scattercarpet\":[{\"type\":\"scattercarpet\",\"marker\":{\"colorbar\":{\"outlinewidth\":0,\"ticks\":\"\"}}}],\"carpet\":[{\"aaxis\":{\"endlinecolor\":\"#2a3f5f\",\"gridcolor\":\"white\",\"linecolor\":\"white\",\"minorgridcolor\":\"white\",\"startlinecolor\":\"#2a3f5f\"},\"baxis\":{\"endlinecolor\":\"#2a3f5f\",\"gridcolor\":\"white\",\"linecolor\":\"white\",\"minorgridcolor\":\"white\",\"startlinecolor\":\"#2a3f5f\"},\"type\":\"carpet\"}],\"table\":[{\"cells\":{\"fill\":{\"color\":\"#EBF0F8\"},\"line\":{\"color\":\"white\"}},\"header\":{\"fill\":{\"color\":\"#C8D4E3\"},\"line\":{\"color\":\"white\"}},\"type\":\"table\"}],\"barpolar\":[{\"marker\":{\"line\":{\"color\":\"#E5ECF6\",\"width\":0.5},\"pattern\":{\"fillmode\":\"overlay\",\"size\":10,\"solidity\":0.2}},\"type\":\"barpolar\"}],\"pie\":[{\"automargin\":true,\"type\":\"pie\"}]},\"layout\":{\"autotypenumbers\":\"strict\",\"colorway\":[\"#636efa\",\"#EF553B\",\"#00cc96\",\"#ab63fa\",\"#FFA15A\",\"#19d3f3\",\"#FF6692\",\"#B6E880\",\"#FF97FF\",\"#FECB52\"],\"font\":{\"color\":\"#2a3f5f\"},\"hovermode\":\"closest\",\"hoverlabel\":{\"align\":\"left\"},\"paper_bgcolor\":\"white\",\"plot_bgcolor\":\"#E5ECF6\",\"polar\":{\"bgcolor\":\"#E5ECF6\",\"angularaxis\":{\"gridcolor\":\"white\",\"linecolor\":\"white\",\"ticks\":\"\"},\"radialaxis\":{\"gridcolor\":\"white\",\"linecolor\":\"white\",\"ticks\":\"\"}},\"ternary\":{\"bgcolor\":\"#E5ECF6\",\"aaxis\":{\"gridcolor\":\"white\",\"linecolor\":\"white\",\"ticks\":\"\"},\"baxis\":{\"gridcolor\":\"white\",\"linecolor\":\"white\",\"ticks\":\"\"},\"caxis\":{\"gridcolor\":\"white\",\"linecolor\":\"white\",\"ticks\":\"\"}},\"coloraxis\":{\"colorbar\":{\"outlinewidth\":0,\"ticks\":\"\"}},\"colorscale\":{\"sequential\":[[0.0,\"#0d0887\"],[0.1111111111111111,\"#46039f\"],[0.2222222222222222,\"#7201a8\"],[0.3333333333333333,\"#9c179e\"],[0.4444444444444444,\"#bd3786\"],[0.5555555555555556,\"#d8576b\"],[0.6666666666666666,\"#ed7953\"],[0.7777777777777778,\"#fb9f3a\"],[0.8888888888888888,\"#fdca26\"],[1.0,\"#f0f921\"]],\"sequentialminus\":[[0.0,\"#0d0887\"],[0.1111111111111111,\"#46039f\"],[0.2222222222222222,\"#7201a8\"],[0.3333333333333333,\"#9c179e\"],[0.4444444444444444,\"#bd3786\"],[0.5555555555555556,\"#d8576b\"],[0.6666666666666666,\"#ed7953\"],[0.7777777777777778,\"#fb9f3a\"],[0.8888888888888888,\"#fdca26\"],[1.0,\"#f0f921\"]],\"diverging\":[[0,\"#8e0152\"],[0.1,\"#c51b7d\"],[0.2,\"#de77ae\"],[0.3,\"#f1b6da\"],[0.4,\"#fde0ef\"],[0.5,\"#f7f7f7\"],[0.6,\"#e6f5d0\"],[0.7,\"#b8e186\"],[0.8,\"#7fbc41\"],[0.9,\"#4d9221\"],[1,\"#276419\"]]},\"xaxis\":{\"gridcolor\":\"white\",\"linecolor\":\"white\",\"ticks\":\"\",\"title\":{\"standoff\":15},\"zerolinecolor\":\"white\",\"automargin\":true,\"zerolinewidth\":2},\"yaxis\":{\"gridcolor\":\"white\",\"linecolor\":\"white\",\"ticks\":\"\",\"title\":{\"standoff\":15},\"zerolinecolor\":\"white\",\"automargin\":true,\"zerolinewidth\":2},\"scene\":{\"xaxis\":{\"backgroundcolor\":\"#E5ECF6\",\"gridcolor\":\"white\",\"linecolor\":\"white\",\"showbackground\":true,\"ticks\":\"\",\"zerolinecolor\":\"white\",\"gridwidth\":2},\"yaxis\":{\"backgroundcolor\":\"#E5ECF6\",\"gridcolor\":\"white\",\"linecolor\":\"white\",\"showbackground\":true,\"ticks\":\"\",\"zerolinecolor\":\"white\",\"gridwidth\":2},\"zaxis\":{\"backgroundcolor\":\"#E5ECF6\",\"gridcolor\":\"white\",\"linecolor\":\"white\",\"showbackground\":true,\"ticks\":\"\",\"zerolinecolor\":\"white\",\"gridwidth\":2}},\"shapedefaults\":{\"line\":{\"color\":\"#2a3f5f\"}},\"annotationdefaults\":{\"arrowcolor\":\"#2a3f5f\",\"arrowhead\":0,\"arrowwidth\":1},\"geo\":{\"bgcolor\":\"white\",\"landcolor\":\"#E5ECF6\",\"subunitcolor\":\"white\",\"showland\":true,\"showlakes\":true,\"lakecolor\":\"white\"},\"title\":{\"x\":0.05},\"mapbox\":{\"style\":\"light\"}}}},                        {\"responsive\": true}                    ).then(function(){\n",
              "                            \n",
              "var gd = document.getElementById('9aa4e8dd-15a2-4bb0-b875-95f28102d619');\n",
              "var x = new MutationObserver(function (mutations, observer) {{\n",
              "        var display = window.getComputedStyle(gd).display;\n",
              "        if (!display || display === 'none') {{\n",
              "            console.log([gd, 'removed!']);\n",
              "            Plotly.purge(gd);\n",
              "            observer.disconnect();\n",
              "        }}\n",
              "}});\n",
              "\n",
              "// Listen for the removal of the full notebook cells\n",
              "var notebookContainer = gd.closest('#notebook-container');\n",
              "if (notebookContainer) {{\n",
              "    x.observe(notebookContainer, {childList: true});\n",
              "}}\n",
              "\n",
              "// Listen for the clearing of the current output cell\n",
              "var outputEl = gd.closest('.output');\n",
              "if (outputEl) {{\n",
              "    x.observe(outputEl, {childList: true});\n",
              "}}\n",
              "\n",
              "                        })                };                            </script>        </div>\n",
              "</body>\n",
              "</html>"
            ]
          },
          "metadata": {}
        }
      ]
    },
    {
      "cell_type": "code",
      "execution_count": null,
      "metadata": {
        "id": "dr8jpWtkGz9A"
      },
      "outputs": [],
      "source": []
    },
    {
      "cell_type": "code",
      "execution_count": null,
      "metadata": {
        "id": "xL4Y6UQVTy3m"
      },
      "outputs": [],
      "source": [
        "import numpy as np\n",
        "import matplotlib.pyplot as plt"
      ]
    },
    {
      "cell_type": "code",
      "source": [
        "n = 10"
      ],
      "metadata": {
        "id": "ymcvEBTPXGEs"
      },
      "execution_count": null,
      "outputs": []
    },
    {
      "cell_type": "code",
      "source": [
        "x = np.linspace(-1,1 ,n)\n"
      ],
      "metadata": {
        "id": "5vgkykGHVkAr"
      },
      "execution_count": null,
      "outputs": []
    },
    {
      "cell_type": "markdown",
      "source": [
        "# VECTOR NORMS"
      ],
      "metadata": {
        "id": "FV_dRz3LgoLQ"
      }
    },
    {
      "cell_type": "markdown",
      "source": [
        "## lp norm\n",
        "\n",
        "$$\n",
        "\\|x\\|_p =   (∑_i |x_i|^p)^\\frac{1}{p}\n",
        "$$\n",
        "\n",
        "## Hölder's inequality\n",
        "$$\n",
        "|<x,y>| \\leq \\|x\\|_p, \\|y\\|_q ,  \\\\\n",
        "\\frac{1}{p} + \\frac{1}{q} = 1\n",
        "$$\n",
        "\n",
        "## Equivalence\n",
        "$$\n",
        "\\|x\\|_2 \\leq \\|x\\|_1 \\leq \\sqrt{n} \\|x\\|_2  \\\\\n",
        "\\|x\\|_{∞} \\leq \\|x\\|_2 \\leq \\sqrt{n} \\|x\\|_{∞} \\\\\n",
        "\\|x\\|_{∞} \\leq \\|x\\|_1 \\leq n \\|x\\|_{∞}\n",
        "$$"
      ],
      "metadata": {
        "id": "HjPYCm6Ykh68"
      }
    },
    {
      "cell_type": "markdown",
      "source": [],
      "metadata": {
        "id": "swm9tpWWhJtu"
      }
    },
    {
      "cell_type": "code",
      "source": [
        "def get_cmap(n, name='hsv'):\n",
        "    return plt.cm.get_cmap(name, n)"
      ],
      "metadata": {
        "id": "dTzoP3UahKJ-"
      },
      "execution_count": null,
      "outputs": []
    },
    {
      "cell_type": "code",
      "source": [
        "get_cmap(5)"
      ],
      "metadata": {
        "colab": {
          "base_uri": "https://localhost:8080/",
          "height": 176
        },
        "id": "grl_MxB9hd9a",
        "outputId": "1b638819-91a0-4b0f-950a-2b3b16882ae0"
      },
      "execution_count": null,
      "outputs": [
        {
          "output_type": "stream",
          "name": "stderr",
          "text": [
            "<ipython-input-3-77c3a55f1b06>:2: MatplotlibDeprecationWarning: The get_cmap function was deprecated in Matplotlib 3.7 and will be removed two minor releases later. Use ``matplotlib.colormaps[name]`` or ``matplotlib.colormaps.get_cmap(obj)`` instead.\n",
            "  return plt.cm.get_cmap(name, n)\n"
          ]
        },
        {
          "output_type": "execute_result",
          "data": {
            "text/plain": [
              "<matplotlib.colors.LinearSegmentedColormap at 0x7b6b3fcecd90>"
            ],
            "text/html": [
              "<div style=\"vertical-align: middle;\"><strong>hsv</strong> </div><div class=\"cmap\"><img alt=\"hsv colormap\" title=\"hsv\" style=\"border: 1px solid #555;\" src=\"data:image/png;base64,iVBORw0KGgoAAAANSUhEUgAAAgAAAABACAYAAABsv8+/AAAAEnRFWHRUaXRsZQBoc3YgY29sb3JtYXDsNE57AAAAGHRFWHREZXNjcmlwdGlvbgBoc3YgY29sb3JtYXDgHDwhAAAAMHRFWHRBdXRob3IATWF0cGxvdGxpYiB2My43LjEsIGh0dHBzOi8vbWF0cGxvdGxpYi5vcmcqr/hNAAAAMnRFWHRTb2Z0d2FyZQBNYXRwbG90bGliIHYzLjcuMSwgaHR0cHM6Ly9tYXRwbG90bGliLm9yZwQJZ2oAAAFJSURBVHic7daxDcJQFATBZ2IKoEkqIHcBtEoBpgGT8i3tTAUnXbLbMXMMl7R75pJe81k9gRPP7b56Aife81g9gR9uqwcAAP8nAAAgSAAAQJAAAIAgAQAAQQIAAIIEAAAECQAACBIAABAkAAAgSAAAQJAAAIAgAQAAQQIAAIIEAAAECQAACBIAABAkAAAgSAAAQJAAAIAgAQAAQQIAAIIEAAAECQAACBIAABAkAAAgSAAAQJAAAIAgAQAAQQIAAIIEAAAECQAACBIAABAkAAAgSAAAQJAAAIAgAQAAQQIAAIIEAAAECQAACBIAABAkAAAgSAAAQJAAAIAgAQAAQQIAAIIEAAAECQAACBIAABAkAAAgSAAAQJAAAIAgAQAAQQIAAIIEAAAECQAACBIAABAkAAAgSAAAQJAAAIAgAQAAQQIAAIIEAAAEfQG4nAaVN/uqtQAAAABJRU5ErkJggg==\"></div><div style=\"vertical-align: middle; max-width: 514px; display: flex; justify-content: space-between;\"><div style=\"float: left;\"><div title=\"#ff0000ff\" style=\"display: inline-block; width: 1em; height: 1em; margin: 0; vertical-align: middle; border: 1px solid #555; background-color: #ff0000ff;\"></div> under</div><div style=\"margin: 0 auto; display: inline-block;\">bad <div title=\"#00000000\" style=\"display: inline-block; width: 1em; height: 1em; margin: 0; vertical-align: middle; border: 1px solid #555; background-color: #00000000;\"></div></div><div style=\"float: right;\">over <div title=\"#ff0018ff\" style=\"display: inline-block; width: 1em; height: 1em; margin: 0; vertical-align: middle; border: 1px solid #555; background-color: #ff0018ff;\"></div></div>"
            ],
            "image/png": "[encoded data removed]"
          },
          "metadata": {},
          "execution_count": 4
        }
      ]
    },
    {
      "cell_type": "markdown",
      "source": [
        "$$\n",
        "(\\sum |x|^p + |y|^p)^{1/p} = 1\n",
        "$$"
      ],
      "metadata": {
        "id": "vPRSidFd3PSG"
      }
    },
    {
      "cell_type": "code",
      "source": [
        "\n",
        "\n",
        "def draw_circle(p,cmap):\n",
        "  x_p = np.linspace(0, 1, 1000)\n",
        "  x_n = np.linspace(-1, 0, 1000)\n",
        "\n",
        "  plt.plot(x_p, -(1 - np.abs(x_p)**p)**(1/p), c=cmap)\n",
        "  plt.plot(x_p, (1 - np.abs(x_p)**p)**(1/p), c=cmap)\n",
        "  plt.plot(x_n, -(1 - np.abs(x_n)**p)**(1/p), c=cmap)\n",
        "  plt.plot(x_n, (1 - np.abs(x_n)**p)**(1/p), c=cmap);\n",
        "  return plt"
      ],
      "metadata": {
        "id": "kpYuExIQeHxi"
      },
      "execution_count": null,
      "outputs": []
    },
    {
      "cell_type": "code",
      "source": [
        "for i, norm in enumerate([0.1, 0.2, 0.3, 0.4, 0.5, 0.6, 0.7, 0.8, 1, 1.5, 2, 757575237413]):\n",
        "  cmap = get_cmap(12)\n",
        "  draw_circle(norm, cmap(i))"
      ],
      "metadata": {
        "colab": {
          "base_uri": "https://localhost:8080/",
          "height": 485
        },
        "id": "BdyfJhRZV6Zb",
        "outputId": "073ae806-2df9-4a42-f147-4c1c8ba2fae1"
      },
      "execution_count": null,
      "outputs": [
        {
          "output_type": "stream",
          "name": "stderr",
          "text": [
            "<ipython-input-123-93fc7e9af915>:4: MatplotlibDeprecationWarning: The get_cmap function was deprecated in Matplotlib 3.7 and will be removed two minor releases later. Use ``matplotlib.colormaps[name]`` or ``matplotlib.colormaps.get_cmap(obj)`` instead.\n",
            "  return plt.cm.get_cmap(name, n)\n"
          ]
        },
        {
          "output_type": "display_data",
          "data": {
            "text/plain": [
              "<Figure size 640x480 with 1 Axes>"
            ],
            "image/png": "[encoded data removed]"
          },
          "metadata": {}
        }
      ]
    },
    {
      "cell_type": "markdown",
      "source": [
        "\n",
        "# SMAll RECOMMENDER SYSTEM\n"
      ],
      "metadata": {
        "id": "csNwvkdIHSwK"
      }
    },
    {
      "cell_type": "code",
      "source": [
        "!pip install -U sentence-transformers"
      ],
      "metadata": {
        "colab": {
          "base_uri": "https://localhost:8080/"
        },
        "id": "c7x7gvL8tD3r",
        "outputId": "f5ad4d22-d273-4688-c4fb-20ff77257fe4"
      },
      "execution_count": null,
      "outputs": [
        {
          "output_type": "stream",
          "name": "stdout",
          "text": [
            "Collecting sentence-transformers\n",
            "  Downloading sentence-transformers-2.2.2.tar.gz (85 kB)\n",
            "\u001b[2K     \u001b[90m━━━━━━━━━━━━━━━━━━━━━━━━━━━━━━━━━━━━━━━━\u001b[0m \u001b[32m86.0/86.0 kB\u001b[0m \u001b[31m2.2 MB/s\u001b[0m eta \u001b[36m0:00:00\u001b[0m\n",
            "\u001b[?25h  Preparing metadata (setup.py) ... \u001b[?25l\u001b[?25hdone\n",
            "Requirement already satisfied: transformers<5.0.0,>=4.6.0 in /usr/local/lib/python3.10/dist-packages (from sentence-transformers) (4.35.2)\n",
            "Requirement already satisfied: tqdm in /usr/local/lib/python3.10/dist-packages (from sentence-transformers) (4.66.1)\n",
            "Requirement already satisfied: torch>=1.6.0 in /usr/local/lib/python3.10/dist-packages (from sentence-transformers) (2.1.0+cu121)\n",
            "Requirement already satisfied: torchvision in /usr/local/lib/python3.10/dist-packages (from sentence-transformers) (0.16.0+cu121)\n",
            "Requirement already satisfied: numpy in /usr/local/lib/python3.10/dist-packages (from sentence-transformers) (1.23.5)\n",
            "Requirement already satisfied: scikit-learn in /usr/local/lib/python3.10/dist-packages (from sentence-transformers) (1.2.2)\n",
            "Requirement already satisfied: scipy in /usr/local/lib/python3.10/dist-packages (from sentence-transformers) (1.11.4)\n",
            "Requirement already satisfied: nltk in /usr/local/lib/python3.10/dist-packages (from sentence-transformers) (3.8.1)\n",
            "Collecting sentencepiece (from sentence-transformers)\n",
            "  Downloading sentencepiece-0.1.99-cp310-cp310-manylinux_2_17_x86_64.manylinux2014_x86_64.whl (1.3 MB)\n",
            "\u001b[2K     \u001b[90m━━━━━━━━━━━━━━━━━━━━━━━━━━━━━━━━━━━━━━━━\u001b[0m \u001b[32m1.3/1.3 MB\u001b[0m \u001b[31m9.5 MB/s\u001b[0m eta \u001b[36m0:00:00\u001b[0m\n",
            "\u001b[?25hRequirement already satisfied: huggingface-hub>=0.4.0 in /usr/local/lib/python3.10/dist-packages (from sentence-transformers) (0.20.2)\n",
            "Requirement already satisfied: filelock in /usr/local/lib/python3.10/dist-packages (from huggingface-hub>=0.4.0->sentence-transformers) (3.13.1)\n",
            "Requirement already satisfied: fsspec>=2023.5.0 in /usr/local/lib/python3.10/dist-packages (from huggingface-hub>=0.4.0->sentence-transformers) (2023.6.0)\n",
            "Requirement already satisfied: requests in /usr/local/lib/python3.10/dist-packages (from huggingface-hub>=0.4.0->sentence-transformers) (2.31.0)\n",
            "Requirement already satisfied: pyyaml>=5.1 in /usr/local/lib/python3.10/dist-packages (from huggingface-hub>=0.4.0->sentence-transformers) (6.0.1)\n",
            "Requirement already satisfied: typing-extensions>=3.7.4.3 in /usr/local/lib/python3.10/dist-packages (from huggingface-hub>=0.4.0->sentence-transformers) (4.5.0)\n",
            "Requirement already satisfied: packaging>=20.9 in /usr/local/lib/python3.10/dist-packages (from huggingface-hub>=0.4.0->sentence-transformers) (23.2)\n",
            "Requirement already satisfied: sympy in /usr/local/lib/python3.10/dist-packages (from torch>=1.6.0->sentence-transformers) (1.12)\n",
            "Requirement already satisfied: networkx in /usr/local/lib/python3.10/dist-packages (from torch>=1.6.0->sentence-transformers) (3.2.1)\n",
            "Requirement already satisfied: jinja2 in /usr/local/lib/python3.10/dist-packages (from torch>=1.6.0->sentence-transformers) (3.1.2)\n",
            "Requirement already satisfied: triton==2.1.0 in /usr/local/lib/python3.10/dist-packages (from torch>=1.6.0->sentence-transformers) (2.1.0)\n",
            "Requirement already satisfied: regex!=2019.12.17 in /usr/local/lib/python3.10/dist-packages (from transformers<5.0.0,>=4.6.0->sentence-transformers) (2023.6.3)\n",
            "Requirement already satisfied: tokenizers<0.19,>=0.14 in /usr/local/lib/python3.10/dist-packages (from transformers<5.0.0,>=4.6.0->sentence-transformers) (0.15.0)\n",
            "Requirement already satisfied: safetensors>=0.3.1 in /usr/local/lib/python3.10/dist-packages (from transformers<5.0.0,>=4.6.0->sentence-transformers) (0.4.1)\n",
            "Requirement already satisfied: click in /usr/local/lib/python3.10/dist-packages (from nltk->sentence-transformers) (8.1.7)\n",
            "Requirement already satisfied: joblib in /usr/local/lib/python3.10/dist-packages (from nltk->sentence-transformers) (1.3.2)\n",
            "Requirement already satisfied: threadpoolctl>=2.0.0 in /usr/local/lib/python3.10/dist-packages (from scikit-learn->sentence-transformers) (3.2.0)\n",
            "Requirement already satisfied: pillow!=8.3.*,>=5.3.0 in /usr/local/lib/python3.10/dist-packages (from torchvision->sentence-transformers) (9.4.0)\n",
            "Requirement already satisfied: MarkupSafe>=2.0 in /usr/local/lib/python3.10/dist-packages (from jinja2->torch>=1.6.0->sentence-transformers) (2.1.3)\n",
            "Requirement already satisfied: charset-normalizer<4,>=2 in /usr/local/lib/python3.10/dist-packages (from requests->huggingface-hub>=0.4.0->sentence-transformers) (3.3.2)\n",
            "Requirement already satisfied: idna<4,>=2.5 in /usr/local/lib/python3.10/dist-packages (from requests->huggingface-hub>=0.4.0->sentence-transformers) (3.6)\n",
            "Requirement already satisfied: urllib3<3,>=1.21.1 in /usr/local/lib/python3.10/dist-packages (from requests->huggingface-hub>=0.4.0->sentence-transformers) (2.0.7)\n",
            "Requirement already satisfied: certifi>=2017.4.17 in /usr/local/lib/python3.10/dist-packages (from requests->huggingface-hub>=0.4.0->sentence-transformers) (2023.11.17)\n",
            "Requirement already satisfied: mpmath>=0.19 in /usr/local/lib/python3.10/dist-packages (from sympy->torch>=1.6.0->sentence-transformers) (1.3.0)\n",
            "Building wheels for collected packages: sentence-transformers\n",
            "  Building wheel for sentence-transformers (setup.py) ... \u001b[?25l\u001b[?25hdone\n",
            "  Created wheel for sentence-transformers: filename=sentence_transformers-2.2.2-py3-none-any.whl size=125923 sha256=177854b43607e3d4c1f30a7b74c082c017192a51a98feeeab59f476f0025fe12\n",
            "  Stored in directory: /root/.cache/pip/wheels/62/f2/10/1e606fd5f02395388f74e7462910fe851042f97238cbbd902f\n",
            "Successfully built sentence-transformers\n",
            "Installing collected packages: sentencepiece, sentence-transformers\n",
            "Successfully installed sentence-transformers-2.2.2 sentencepiece-0.1.99\n"
          ]
        }
      ]
    },
    {
      "cell_type": "code",
      "source": [
        "try:\n",
        "    import google.colab\n",
        "    IN_COLAB = True\n",
        "\n",
        "except ImportError:\n",
        "    IN_COLAB = False\n",
        "\n",
        "from pathlib import Path\n",
        "\n",
        "\n",
        "if IN_COLAB:\n",
        "    google.colab.drive.mount(\"/content/drive\")\n",
        "    AUX_DATA_ROOT = Path(\"/content/drive/My Drive\")\n",
        "\n",
        "    import sys\n",
        "    sys.path.insert(0, str(AUX_DATA_ROOT))\n",
        "else:\n",
        "    AUX_DATA_ROOT = Path(\".\")"
      ],
      "metadata": {
        "colab": {
          "base_uri": "https://localhost:8080/"
        },
        "id": "tl7ddx_nHWNn",
        "outputId": "523bd800-1b8d-4b32-b5f0-6f6fa1b6a5ed"
      },
      "execution_count": null,
      "outputs": [
        {
          "output_type": "stream",
          "name": "stdout",
          "text": [
            "Mounted at /content/drive\n"
          ]
        }
      ]
    },
    {
      "cell_type": "code",
      "source": [
        "import pandas as pd"
      ],
      "metadata": {
        "id": "L6WG57nBrbsI"
      },
      "execution_count": null,
      "outputs": []
    },
    {
      "cell_type": "code",
      "source": [
        "df_kaggle = pd.read_csv('/content/drive/My Drive/winemag-data-130k-v2.csv')"
      ],
      "metadata": {
        "id": "umi_ZtufsbHu"
      },
      "execution_count": null,
      "outputs": []
    },
    {
      "cell_type": "code",
      "source": [
        "import sentence_transformers\n",
        "from sentence_transformers import SentenceTransformer\n",
        "sbert_model = SentenceTransformer('bert-base-nli-mean-tokens', device='cuda')"
      ],
      "metadata": {
        "colab": {
          "base_uri": "https://localhost:8080/",
          "height": 537,
          "referenced_widgets": [
            "4d59e4fe620f40fe8326df0156ca72c7",
            "c363acf4d4a44500ab180e6263d1c71c",
            "255cc8ed0cb2420fbe4aa0a120c4bdd6",
            "dff293d7789749628dd8e913d433b013",
            "81f6bde6806344dfbd4113e51b19a18e",
            "192eea69f59d43dd85c64dc39941f75c",
            "4a2b451aa89644f88112d8d62e6fdef2",
            "27bf56b0643640e38f015c85b2bb8fed",
            "88f1d2208e944b109bf89378dfa0ef8a",
            "34e985336a2a4b5392feaabaeacb0eac",
            "a55936ca635643b9bf64e4618afa3446",
            "91a0cbaddf1e429a9a92aaf1e3e06188",
            "49bf3189059d4ca28319949b78937de1",
            "dcca3e0c9ceb4c7d994a6ecd4bee59e3",
            "5a3f2fa512fd474b94581b62304f011d",
            "6ee7478b55244b109b6bf32440b4c497",
            "47f4272e832c4d33adce293752c006b0",
            "33a2e9582d244ac7832817cc270273f5",
            "7e53b982730944209f22e1389d2ccb03",
            "4b7f4f9ed8b644218d326a157a2da238",
            "1336580f72bb4ec588f81a8987bbe6c1",
            "4555dd076c464fc3832b62f805da8598",
            "5a24c5bd4b4044d78027910e76f42621",
            "f6b95df2f2ef487385f844fcbff1ea87",
            "94bda95326504fce941a1e440c8b419f",
            "d0d3b9ed1d59450a80987fb07cc9555c",
            "eb0b810ab6fd418dacbb99350864be00",
            "bcf9f8aab4e548d0b011d602517e8630",
            "5af2b8ba81ee4b7094f55d335ced4bac",
            "8ba315d996574f049b40162353ecdd07",
            "58a7ed962816470da1495b9818f120db",
            "bcddda2b302540a3b54024a0638600a9",
            "2d7de3032dbb451bbebf3fb7ec2c3c9d",
            "79b3a1fade054561888eb00de2e2ce2b",
            "cb5b5bb2dc444e3f92a572ec88d7d759",
            "a22379711c6546aab5129862ccbc3fd3",
            "908e5c26a03449a6a50ece7306ebfeb3",
            "c956783f08574fdcb8705701b86503f8",
            "e112b9997ba34a43be44fcd1b2fb4647",
            "ef3bcb6e5f504345941ac443231803c3",
            "d7bb37cc9dd14b4085d55a566a63b886",
            "f07d3d4bd02b431bb78b499064fbbdd7",
            "4e0f4a5bea3e422eb1914d6186f613c1",
            "b0de583b28344b7ab0fa7fd1e3240e93",
            "6cc37b7747ca48888a2473c341e44bcd",
            "b224dfe27102417998b0d21ad88e7b80",
            "41a0d76e210e4277b605f3e2dee99769",
            "d78f51c2e25c477eabbfb388ea2b4285",
            "329ba40e9c674060a56ea88b78f6083b",
            "94ab2625f4954fa5ae05b0f3f3f9c284",
            "d8c6c7507719450b9983cdbe9bc0cca2",
            "fed2825d7954456e88b79a1783f5c078",
            "3a858599d11640a68c155548f5136607",
            "729faec35e47415082bf8bfb87b1e180",
            "5e8162c81d3343b988e2074d0b3adbd5",
            "3813ab1adfa64312a9e8fc1a0b3a9bd1",
            "dfb1448969bb4ddca49ec98b168d3d7a",
            "9e13d8efe7a14d43907a0608af2eb57b",
            "745aedd114824ee886c4be3ea01d4052",
            "21049dae4f0246578c99588a98dcbd73",
            "f27e28407c6642c88e80167d44cfec0c",
            "388b3e2539144df3b26573bb8c9b50e3",
            "c0fb82ca51ff440d9cc3da2f9b0e4123",
            "e3e2b7846ead43369fc034a93825a36e",
            "f6bcd29f1edb493e88822289ac3e8d86",
            "22dc7c45b63e4404b0a70d3558c547b6",
            "7d388a0203174676b7219a410a335f2a",
            "6daa1a85c3304af8ad43dcdfa8146820",
            "397a879179bb486298ffc581592cc445",
            "7938743abbbb412cbd3c2320ae6d1b2a",
            "c6df20027a1b4565941d966d12d29012",
            "d844cd73b88f44d89d43fa4de27326aa",
            "864c7fa2bd6749188d8aeb2c6b33648f",
            "73116d731b0942d5a5e77f4cef91b2af",
            "f5db1599538f4fb88376777573d46fa7",
            "3be8bc0c21554a388188f0dd30e7eea1",
            "4e7afb76b7da4bf28b44b647b43caaa9",
            "06fc64162489439fbef51d661ef1acbd",
            "5671abc1289c436b9e7abf7a6121bd44",
            "4cfc075ac9bc4f479da558a6b631917e",
            "e3c5ee5b1d6841f1a0c17264f537de70",
            "82df9cb171244caf9883e0504c41b5f1",
            "5b05b1ec47d243f2b6e1b9f99c98665a",
            "bdb37e678a51417fa6964288ee430d51",
            "afe136f195d74f448234c44d81112dd5",
            "4211201dfe6540c1a4fe90503dcd424c",
            "9e16ce84fee043b6928d23cc884a14f6",
            "728670d86e0e478ab880c4eb30a02013",
            "4e2058dee3864be79749d4223f818cf3",
            "6b9c648f56244b63b4d736f64f5506a2",
            "5c515095c961430794356410370cc26b",
            "3cac80e269634acebcf8ef50928e2416",
            "b7ed8b3f18eb416cbc8e60481c5f54e9",
            "5e0cad383e8d4c109208e2729ff07cc3",
            "7f49558e3e734c7097177d445e4cb6e0",
            "1a4650f9ae2547ca9c81f6b2bc06740c",
            "0bc1ebaedfd74c6d926b8e5fa1bd64d0",
            "cba397ba41e54b00a45147f996e0f7e4",
            "42c8579fcc68470d8ea27390c7d24b99",
            "613db429be5247b2a3053e4d7608baea",
            "5d7164f1675c491f8292e9610e0ff5fd",
            "28b844f79c3a438d8ff04c1a81529601",
            "c9ad3b1336004ae68b37bfb173b80f0a",
            "ac0f981644a34f52b521623028c851a8",
            "4d0a0135fa134377a0c7cfdd79ec613d",
            "b3cd75236cf449deb37ecdc3aa43c33f",
            "4ae0b03d4477475a8d4f6fe7cee48bb4",
            "3eb3cc4893df4868ad8c627e7f68fe39",
            "eaa53ac76d1548909425b7eaa198cd21",
            "18e2ed793b9b4aa8a909099ad866b507",
            "9016744a2947410498c58925bb498a9d",
            "775326832a194d10a7f3f8ac92ebb325",
            "9cdda09636e048d99d2412da2f9b558d",
            "8e99875a4d2344d1a0b96305b7fca623",
            "44002a8e25dc483bade85d940bf3730f",
            "85c9d571fd4f49309190144177fe80bc",
            "dc567cb9722f45eeaf6fa3799a53f684",
            "b78576de0f0145279eb28ac853569c1a",
            "2722c62f0b9a4be595ce0c89b958b674",
            "b26516a17b73409a9c8ab02312e3d57f",
            "a5284da01ebb45ae9aead62a6e451dd2",
            "4a23726a9f91427aa9df4ff58a878a0d",
            "eaa80464a1d14dd58e02aab715887696",
            "e343ac2418ee49b789f73e01e5496ed5",
            "086af34834c64547921388a807ea3fc5",
            "de72b63bd9e24369916c7ea3fe9cbd8b",
            "b185f4829d504b099929bd3155e44e8d",
            "060cabbf17e54827b5f3307e32ee5488",
            "47375d8a2df74bb0883dd0c0e7d3c315",
            "bace5c17e9284556b43105b3e20b11c1",
            "e2e2d1d7a86b4b06bb7e26b542f32c02",
            "5894f21f6d46485e922e9bcc480f0b60",
            "5dd52846b33d4af1bfc54e326eb70928",
            "7b5760f2c44b4c478bc34f8bc88b0ba2",
            "dd6829c9f0c74b5998b5c774e64415b9",
            "e63206b2942c4e92956f5a6844072176",
            "4c64430bae074070a49b74cc30e3bb0a",
            "c76224d3fbde4df28470cf4eb428ff50",
            "020dc0314cb24d39aba757962733cbaa",
            "c950405cdc2748708090b3b9c7d8d98b",
            "4fb8d431485c47b89b84a46419ba6646",
            "5dff616ba43949f7aedff740b269b6dc",
            "f123456a186d4ff5a1c8d14e14dd3e8a"
          ]
        },
        "id": "y6ktp5Bxs3dL",
        "outputId": "79e592cd-df55-4911-9a4b-9ffe5a4cc376"
      },
      "execution_count": null,
      "outputs": [
        {
          "output_type": "stream",
          "name": "stderr",
          "text": [
            "/usr/local/lib/python3.10/dist-packages/huggingface_hub/utils/_token.py:88: UserWarning: \n",
            "The secret `HF_TOKEN` does not exist in your Colab secrets.\n",
            "To authenticate with the Hugging Face Hub, create a token in your settings tab (https://huggingface.co/settings/tokens), set it as secret in your Google Colab and restart your session.\n",
            "You will be able to reuse this secret in all of your notebooks.\n",
            "Please note that authentication is recommended but still optional to access public models or datasets.\n",
            "  warnings.warn(\n"
          ]
        },
        {
          "output_type": "display_data",
          "data": {
            "text/plain": [
              ".gitattributes:   0%|          | 0.00/391 [00:00<?, ?B/s]"
            ],
            "application/vnd.jupyter.widget-view+json": {
              "version_major": 2,
              "version_minor": 0,
              "model_id": "4d59e4fe620f40fe8326df0156ca72c7"
            }
          },
          "metadata": {}
        },
        {
          "output_type": "display_data",
          "data": {
            "text/plain": [
              "1_Pooling/config.json:   0%|          | 0.00/190 [00:00<?, ?B/s]"
            ],
            "application/vnd.jupyter.widget-view+json": {
              "version_major": 2,
              "version_minor": 0,
              "model_id": "91a0cbaddf1e429a9a92aaf1e3e06188"
            }
          },
          "metadata": {}
        },
        {
          "output_type": "display_data",
          "data": {
            "text/plain": [
              "README.md:   0%|          | 0.00/3.95k [00:00<?, ?B/s]"
            ],
            "application/vnd.jupyter.widget-view+json": {
              "version_major": 2,
              "version_minor": 0,
              "model_id": "5a24c5bd4b4044d78027910e76f42621"
            }
          },
          "metadata": {}
        },
        {
          "output_type": "display_data",
          "data": {
            "text/plain": [
              "added_tokens.json:   0%|          | 0.00/2.00 [00:00<?, ?B/s]"
            ],
            "application/vnd.jupyter.widget-view+json": {
              "version_major": 2,
              "version_minor": 0,
              "model_id": "79b3a1fade054561888eb00de2e2ce2b"
            }
          },
          "metadata": {}
        },
        {
          "output_type": "display_data",
          "data": {
            "text/plain": [
              "config.json:   0%|          | 0.00/625 [00:00<?, ?B/s]"
            ],
            "application/vnd.jupyter.widget-view+json": {
              "version_major": 2,
              "version_minor": 0,
              "model_id": "6cc37b7747ca48888a2473c341e44bcd"
            }
          },
          "metadata": {}
        },
        {
          "output_type": "display_data",
          "data": {
            "text/plain": [
              "config_sentence_transformers.json:   0%|          | 0.00/122 [00:00<?, ?B/s]"
            ],
            "application/vnd.jupyter.widget-view+json": {
              "version_major": 2,
              "version_minor": 0,
              "model_id": "3813ab1adfa64312a9e8fc1a0b3a9bd1"
            }
          },
          "metadata": {}
        },
        {
          "output_type": "display_data",
          "data": {
            "text/plain": [
              "pytorch_model.bin:   0%|          | 0.00/438M [00:00<?, ?B/s]"
            ],
            "application/vnd.jupyter.widget-view+json": {
              "version_major": 2,
              "version_minor": 0,
              "model_id": "7d388a0203174676b7219a410a335f2a"
            }
          },
          "metadata": {}
        },
        {
          "output_type": "display_data",
          "data": {
            "text/plain": [
              "sentence_bert_config.json:   0%|          | 0.00/53.0 [00:00<?, ?B/s]"
            ],
            "application/vnd.jupyter.widget-view+json": {
              "version_major": 2,
              "version_minor": 0,
              "model_id": "06fc64162489439fbef51d661ef1acbd"
            }
          },
          "metadata": {}
        },
        {
          "output_type": "display_data",
          "data": {
            "text/plain": [
              "special_tokens_map.json:   0%|          | 0.00/112 [00:00<?, ?B/s]"
            ],
            "application/vnd.jupyter.widget-view+json": {
              "version_major": 2,
              "version_minor": 0,
              "model_id": "4e2058dee3864be79749d4223f818cf3"
            }
          },
          "metadata": {}
        },
        {
          "output_type": "display_data",
          "data": {
            "text/plain": [
              "tokenizer.json:   0%|          | 0.00/466k [00:00<?, ?B/s]"
            ],
            "application/vnd.jupyter.widget-view+json": {
              "version_major": 2,
              "version_minor": 0,
              "model_id": "613db429be5247b2a3053e4d7608baea"
            }
          },
          "metadata": {}
        },
        {
          "output_type": "display_data",
          "data": {
            "text/plain": [
              "tokenizer_config.json:   0%|          | 0.00/399 [00:00<?, ?B/s]"
            ],
            "application/vnd.jupyter.widget-view+json": {
              "version_major": 2,
              "version_minor": 0,
              "model_id": "9016744a2947410498c58925bb498a9d"
            }
          },
          "metadata": {}
        },
        {
          "output_type": "display_data",
          "data": {
            "text/plain": [
              "vocab.txt:   0%|          | 0.00/232k [00:00<?, ?B/s]"
            ],
            "application/vnd.jupyter.widget-view+json": {
              "version_major": 2,
              "version_minor": 0,
              "model_id": "4a23726a9f91427aa9df4ff58a878a0d"
            }
          },
          "metadata": {}
        },
        {
          "output_type": "display_data",
          "data": {
            "text/plain": [
              "modules.json:   0%|          | 0.00/229 [00:00<?, ?B/s]"
            ],
            "application/vnd.jupyter.widget-view+json": {
              "version_major": 2,
              "version_minor": 0,
              "model_id": "5dd52846b33d4af1bfc54e326eb70928"
            }
          },
          "metadata": {}
        }
      ]
    },
    {
      "cell_type": "code",
      "source": [
        "data = df_kaggle['description'].values\n",
        "sentence_embeddings = sbert_model.encode(data)"
      ],
      "metadata": {
        "id": "jnx6XlPJv7g5"
      },
      "execution_count": null,
      "outputs": []
    },
    {
      "cell_type": "code",
      "execution_count": null,
      "metadata": {
        "id": "tfyTuvXsfGgx"
      },
      "outputs": [],
      "source": [
        "query = 'I like black coffee, rainy evenings, chocolate, steaks, white vine'"
      ]
    },
    {
      "cell_type": "code",
      "source": [
        "query_emb = sbert_model.encode(query)"
      ],
      "metadata": {
        "id": "v2DhT2S3YhtQ"
      },
      "execution_count": null,
      "outputs": []
    },
    {
      "cell_type": "code",
      "source": [
        "import numpy as np"
      ],
      "metadata": {
        "id": "q3TKnHFK0Cvf"
      },
      "execution_count": null,
      "outputs": []
    },
    {
      "cell_type": "code",
      "source": [
        "def cosine(a,b):\n",
        "  return a@ b / (np.linalg.norm(a) * np.linalg.norm(b) )"
      ],
      "metadata": {
        "id": "kA4Mz8Y3wJKC"
      },
      "execution_count": null,
      "outputs": []
    },
    {
      "cell_type": "code",
      "source": [
        "query_doc_cos_dist = [cosine(query_emb, wine) for wine in sentence_embeddings]"
      ],
      "metadata": {
        "id": "XYbaN5MOaIRy"
      },
      "execution_count": null,
      "outputs": []
    },
    {
      "cell_type": "code",
      "source": [
        "query_doc_sort_index = np.argsort(np.array(-np.array(query_doc_cos_dist)))\n",
        "\n",
        "print_count = 0\n",
        "for rank, sort_index in enumerate(query_doc_sort_index):\n",
        "    print ('Rank : ', rank, ' Consine : ', query_doc_cos_dist[sort_index],' wine review : ', data[sort_index])\n",
        "    if print_count == 10 :\n",
        "        break\n",
        "    else:\n",
        "        print_count += 1"
      ],
      "metadata": {
        "colab": {
          "base_uri": "https://localhost:8080/"
        },
        "id": "1RaY4bcFaU7g",
        "outputId": "36fe8b9e-2391-4558-9d4d-c3f448e39be2"
      },
      "execution_count": null,
      "outputs": [
        {
          "output_type": "stream",
          "name": "stdout",
          "text": [
            "Rank :  0  Consine :  0.8368459  wine review :  Inky black in color, firm in tannins and bone dry, this will pair well with char-broiled steak. It's immensely rich in blackberry, blueberry and dark chocolate flavors. Courtesy of Napa's heat, it's a little soft, so drink it soon.\n",
            "Rank :  1  Consine :  0.83101165  wine review :  Dry and tannic, this Syrah has the rich, complex flavors associated with cool-climate regions. Black pepper and blackberries star, with complicating notes of roasted meats, like the sweet charred fat on a great steak. Drink now.\n",
            "Rank :  2  Consine :  0.82462984  wine review :  Here's a full-bodied, lusty Zin. With a rustically tannic structure and ripe, almost overripe flavors of blackberry and cherry jam and black pepper, it's a natural for a peppery flank steak.\n",
            "Rank :  3  Consine :  0.82343733  wine review :  An impressively dark, powerfully structured and deeply flavored wine, this Malbec brims with explosive blackberry, black currant, crushed peppercorn and leather flavors. With its big-time tannins and dry, balanced mouthfeel, it's a great wine for steak.\n",
            "Rank :  4  Consine :  0.8169619  wine review :  Coffee tones along with floral and vanilla aromas pervade on the nose. The tart-cherry palate is supported by mouthwatering acidity and chewy, slightly dry tannins. Pair alongside a juicy steak.\n",
            "Rank :  5  Consine :  0.8168357  wine review :  Dark and austere, this is a mammoth Merlot with overstated coffee, chocolate, leather, tobacco, cigar and plump black cherry. Yet the aromas are not overly penetrating or immediate. It has chewy tannins and good length and would pair well with steak and Tuscan white beans.\n",
            "Rank :  6  Consine :  0.8145399  wine review :  Full, soft and round—and reaonably priced—this Shiraz should be a steakhouse staple. It offers dark flavors of plum and earth, dressed by hints of vanilla, coffee and dark chocolate.\n",
            "Rank :  7  Consine :  0.81446993  wine review :  You'll find strong flavors of grilled blackberries and black cherries, tobacco, unsweetened baker's chocolate and black pepper in this dry, tannic wine. Made from Syrah, Mourvèdre and Counoise, it's rustic and high in alcohol. Makes you think of beef tacos.\n",
            "Rank :  8  Consine :  0.81409234  wine review :  A bit light in body, but rich in raspberries, cherries, pomegranates, cola and spicy vanilla, with a smoky coating of oak. Excellent Central Coast acidity perks things up. Drink now with a nice steak.\n",
            "Rank :  9  Consine :  0.8139841  wine review :  It smells like a nicely charred steak and tastes like black pepper, dark chocolate, and boysenberry. It has plenty of oak in the aroma and flavors, but enough fruit, tannins and rich mouthfeel to balance it out.\n",
            "Rank :  10  Consine :  0.81216574  wine review :  Distinctive notes of black cherry, chopped mint, rosemary oil and eucalyptus open the nose of this Merlot. The lush, chewy and rich palate shows a lot of personality and pairing potential. Try drinking this with grilled steak with green peppercorn sauce.\n"
          ]
        }
      ]
    },
    {
      "cell_type": "markdown",
      "source": [
        "# METRIC"
      ],
      "metadata": {
        "id": "aTeY3KzeH00L"
      }
    },
    {
      "cell_type": "markdown",
      "source": [
        "Metric space is an ordered pair $(M, d)$ where $M$ is a set and $d$ is a metric on $M$, $d: M × M → ℝ$. Thus metric is a function that satisfies the following axioms\n",
        "\n",
        "\n",
        "\n",
        "1.   $d(x,x) = 0$\n",
        "2.   if $x \\neq y $ than $d(x,y) > 0$\n",
        "3.   $d(x,y) = d(y,x)$\n",
        "4.   $d(z,x) \\leq d(z,y) + d(y,x)$\n"
      ],
      "metadata": {
        "id": "nJKM09fd9pxv"
      }
    },
    {
      "cell_type": "markdown",
      "source": [
        "## Check if metrics:\n",
        "\n"
      ],
      "metadata": {
        "id": "0arfxlLuIddY"
      }
    },
    {
      "cell_type": "markdown",
      "source": [
        "![Screenshot 2024-01-29 at 07.29.29.png](data:image/png;base64,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)"
      ],
      "metadata": {
        "id": "-mVsYpl9evdy"
      }
    },
    {
      "cell_type": "markdown",
      "source": [
        "![Screenshot 2024-01-29 at 07.29.35.png](data:image/png;base64,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)"
      ],
      "metadata": {
        "id": "0Uf4h8QJe-Zt"
      }
    },
    {
      "cell_type": "markdown",
      "source": [
        "#KNN\n"
      ],
      "metadata": {
        "id": "pWfBm1gQH2vb"
      }
    },
    {
      "cell_type": "markdown",
      "source": [],
      "metadata": {
        "id": "YsO-lweoH0xa"
      }
    },
    {
      "cell_type": "markdown",
      "source": [],
      "metadata": {
        "id": "gRQC8OflHf2Q"
      }
    }
  ]
}