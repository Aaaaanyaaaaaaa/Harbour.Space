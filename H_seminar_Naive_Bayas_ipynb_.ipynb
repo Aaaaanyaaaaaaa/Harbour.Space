{
  "cells": [
    {
      "cell_type": "markdown",
      "id": "74c6e6b5",
      "metadata": {
        "id": "74c6e6b5"
      },
      "source": [
        "# Bayes formula"
      ]
    },
    {
      "cell_type": "markdown",
      "id": "5d2b3bb0",
      "metadata": {
        "id": "5d2b3bb0"
      },
      "source": [
        "$$\n",
        "P(Y|X) = \\frac{P(X|Y)P(Y)}{P(X)}\n",
        "$$\n",
        "\n",
        "Usually,\n",
        "\n",
        "$$\n",
        "P(X) = \\sum_{Y_i}  P(X|Y_i)P(Y_i)\n",
        "$$"
      ]
    },
    {
      "cell_type": "markdown",
      "id": "b0715354",
      "metadata": {
        "id": "b0715354"
      },
      "source": [
        "# The Taxicab Problem"
      ]
    },
    {
      "cell_type": "markdown",
      "id": "c4053c1e",
      "metadata": {
        "id": "c4053c1e"
      },
      "source": [
        "A cab was involved in a hit and run accident at night. Two cab companies, the Green and the Blue, operate in the city. 85% of the cabs in the city are Green and 15% are Blue.\n",
        "\n",
        "A witness identified the cab as Blue. The court tested the reliability of the witness under the same circumstances that existed on the night of the accident and concluded that the witness correctly identified each one of the two colors 80% of the time and failed 20% of the time.\n",
        "\n",
        "What is the probability that the cab involved in the accident was Blue rather than Green knowing that this witness identified it as Blue?"
      ]
    },
    {
      "cell_type": "markdown",
      "id": "c1142d9c",
      "metadata": {
        "id": "c1142d9c"
      },
      "source": [
        "|            | green | blue |\n",
        "| :---------------- | :------: | ----: |\n",
        "| right        |   0.8   | 0.8 |\n",
        "| wrong           |   0.2   | 0.2 |\n",
        "\n",
        "$$\n",
        "P(\\texttt{blue} ) = 0.15\\\\\n",
        "P(\\texttt{green} ) = 0.85\n",
        "$$\n",
        "\n",
        "$$\n",
        "$$\n",
        "\n",
        "\n",
        "$$\n",
        "P(\\texttt{blue}|\\texttt{witness  saw blue}) = \\cdots\n",
        "$$\n",
        "$$\n",
        "P(\\texttt{green}|\\texttt{witness  saw blue}) = \\cdots\n",
        "$$"
      ]
    },
    {
      "cell_type": "markdown",
      "id": "f74db1e2",
      "metadata": {
        "id": "f74db1e2"
      },
      "source": [
        "# Bayesian classifier\n"
      ]
    },
    {
      "cell_type": "markdown",
      "id": "251a07b9",
      "metadata": {
        "id": "251a07b9"
      },
      "source": [
        "We have data samples $x_1 \\dots x_n$, corresponding classes $y_1 \\dots y_d$\n",
        "\n",
        "We are talking about **Probabilistic classification**\n",
        "\n",
        "$$\n",
        "\\hat{y} = \\arg\\max{p(y | x_i )}\n",
        "$$\n",
        "\n",
        "Again, Bayessian formula\n",
        "\n",
        "$$\n",
        "\\hat{y} = \\arg\\max{\\frac{P(X|Y)P(Y)}{\\sum_{Y_i}  P(X|Y_i)P(Y_i)}}\n",
        "$$\n",
        "\n",
        "Where $P(Y)$ - prior , $P(X|Y)$ - class model\n",
        "\n",
        "\n",
        "Getting back to  taxicab problem, where is the prior/ class model?\n",
        "\n"
      ]
    },
    {
      "cell_type": "markdown",
      "id": "2ebd6475",
      "metadata": {
        "id": "2ebd6475"
      },
      "source": [
        "# Independence assumption"
      ]
    },
    {
      "cell_type": "markdown",
      "id": "ae21b98c",
      "metadata": {
        "id": "ae21b98c"
      },
      "source": [
        "- Suppose we have observation $x_j$ with several features $x^1 \\ \\dots x^n$. How to compute $P(x_j|y)$? It turns out we need to compute $P(x^1 \\ \\dots x^n|y)$\n",
        "\n",
        "- for example we have two events:\n",
        " - go to the beach (A)\n",
        " - get a sunburn (B)\n",
        "    \n",
        "\n",
        "These events **are not independent**!! P(A , B) > P(A)P(B) !\n",
        "\n",
        "\n",
        "    But what if we go to the beach in Scotland in Winter?\n",
        "    \n",
        "Thus we obtain the factor **H**, and A and B become independent given that this factor!\n",
        "    P(A, B |H) = P(A|H)P(B|H)\n",
        "\n",
        "- assume $x^1 \\ \\dots x^n$ **conditionally independent**\n",
        "$$\n",
        "P(x^1 \\ \\dots x^n|y)  = \\prod_{i}^n P(x^i|y)\n",
        "$$"
      ]
    },
    {
      "cell_type": "markdown",
      "id": "b60a49c0",
      "metadata": {
        "id": "b60a49c0"
      },
      "source": [
        "## Another example\n",
        "\n",
        "- Suppose we want to meet mice. The  hours we spend on work does not affect the number of mice you meet. These two magnitudes **are independent** untill..\n",
        "\n",
        "  \n",
        "    YOU ARE experimenter bilogist!\n",
        "\n",
        "    The more you work the more mice you see!\n",
        "\n",
        "But if you are theorist bilogist you don't see any mice... regardless the hours you spend at work =(((\n",
        "\n"
      ]
    },
    {
      "cell_type": "markdown",
      "id": "73d6a4a2",
      "metadata": {
        "id": "73d6a4a2"
      },
      "source": [
        "![image.png](data:image/png;base64,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) ![image.png](attachment:image.png)"
      ]
    },
    {
      "cell_type": "markdown",
      "id": "f3dc274c",
      "metadata": {
        "id": "f3dc274c"
      },
      "source": [
        "\n",
        "\n",
        "# Gaussian NB\n",
        "\n",
        "That's simple -  class model is Gaussian\n",
        "\n",
        "$$p(x|  \\mu, \\sigma) = \\frac{1}{\\sqrt{2 \\pi \\sigma^2}} \\exp\n",
        "\\left(- \\frac{(x - \\mu)^2}{2\\sigma^2}\\right)$$"
      ]
    },
    {
      "cell_type": "markdown",
      "id": "376714dd",
      "metadata": {
        "id": "376714dd"
      },
      "source": [
        "# MAXIMUM LIKELIHOOD"
      ]
    },
    {
      "cell_type": "markdown",
      "id": "de26f491",
      "metadata": {
        "id": "de26f491"
      },
      "source": [
        "suppose we have probability model $p(x | \\alpha)$. We need to estimate its parameters, so our model describes data ($x_i$) well. That's how we obtain optimization problem\n",
        "$$\n",
        "\\alpha_{ML} = \\arg\\max {\\prod_{i} p(x_i | \\alpha)}\n",
        "$$\n",
        "\n",
        "What if we have $p(x | \\mu, \\sigma) = \\frac{1}{2 \\pi \\sigma^2} \\exp - \\frac{(x_i - \\mu)^2}{2\\sigma^2}$ ?\n"
      ]
    },
    {
      "cell_type": "markdown",
      "id": "bd2afb7d",
      "metadata": {
        "id": "bd2afb7d"
      },
      "source": [
        "# WHERE NAIVE BAYES BREAKS"
      ]
    },
    {
      "cell_type": "code",
      "execution_count": null,
      "id": "98cad608",
      "metadata": {
        "id": "98cad608"
      },
      "outputs": [],
      "source": [
        "import numpy as np\n",
        "import pandas as pd\n",
        "import matplotlib\n",
        "import matplotlib.pyplot as plt\n",
        "import seaborn as sns\n",
        "from sklearn import datasets\n",
        "from sklearn.datasets import load_iris\n",
        "from sklearn.model_selection import train_test_split\n",
        "from sklearn.naive_bayes import GaussianNB"
      ]
    },
    {
      "cell_type": "code",
      "execution_count": null,
      "id": "cdd7c133",
      "metadata": {
        "id": "cdd7c133"
      },
      "outputs": [],
      "source": [
        "random_state = 170\n",
        "n_samples = 1400\n",
        "X, y = datasets.make_blobs(n_samples=n_samples, random_state=random_state, centers=[[0,0]])\n",
        "transformation = [[0.6, -0.6], [0.4, -0.9]]\n",
        "X_aniso = np.dot(X, transformation)\n",
        "aniso = (X_aniso, y)"
      ]
    },
    {
      "cell_type": "code",
      "execution_count": null,
      "id": "a4256fbb",
      "metadata": {
        "id": "a4256fbb"
      },
      "outputs": [],
      "source": [
        "random_state = 170\n",
        "X_, y_ = datasets.make_blobs(n_samples=n_samples, random_state=random_state, centers=[[0,0]])\n",
        "y_ = y_ + 1\n",
        "X_aniso_ = np.zeros_like(X_aniso)\n",
        "X_aniso_[:, 1] = -X_aniso[:, 1]\n",
        "X_aniso_[:, 0] = X_aniso[:, 0]\n",
        "aniso_ = (X_aniso_, y_)"
      ]
    },
    {
      "cell_type": "code",
      "execution_count": null,
      "id": "ad3d2d32",
      "metadata": {
        "id": "ad3d2d32"
      },
      "outputs": [],
      "source": [
        "X = np.concatenate((X_aniso, X_aniso_))\n",
        "y = np.concatenate((y, y_))"
      ]
    },
    {
      "cell_type": "code",
      "execution_count": null,
      "id": "5900d059",
      "metadata": {
        "id": "5900d059"
      },
      "outputs": [],
      "source": [
        "aniso = (X, y)"
      ]
    },
    {
      "cell_type": "code",
      "execution_count": null,
      "id": "58141073",
      "metadata": {
        "id": "58141073"
      },
      "outputs": [],
      "source": [
        "colors = np.array(['blue', 'red', 'yellow'])"
      ]
    },
    {
      "cell_type": "code",
      "execution_count": null,
      "id": "523e8e85",
      "metadata": {
        "id": "523e8e85",
        "outputId": "5bef94c0-b797-4cc6-8368-163170c014ec",
        "colab": {
          "base_uri": "https://localhost:8080/",
          "height": 450
        }
      },
      "outputs": [
        {
          "output_type": "execute_result",
          "data": {
            "text/plain": [
              "<matplotlib.collections.PathCollection at 0x793dff71ecb0>"
            ]
          },
          "metadata": {},
          "execution_count": 7
        },
        {
          "output_type": "display_data",
          "data": {
            "text/plain": [
              "<Figure size 640x480 with 1 Axes>"
            ],
            "image/png": "[encoded data removed]"
          },
          "metadata": {}
        }
      ],
      "source": [
        "plt.scatter(aniso[0][:,0], aniso[0][:,1], c = colors[aniso[1]])"
      ]
    },
    {
      "cell_type": "code",
      "execution_count": null,
      "id": "69044d5b",
      "metadata": {
        "id": "69044d5b",
        "outputId": "706bc75b-b840-4254-bf0b-8114e9d27c13",
        "colab": {
          "base_uri": "https://localhost:8080/"
        }
      },
      "outputs": [
        {
          "output_type": "stream",
          "name": "stdout",
          "text": [
            "Number of mislabeled points out of a total 1400 points : 558\n"
          ]
        }
      ],
      "source": [
        "from sklearn.datasets import load_iris\n",
        "from sklearn.model_selection import train_test_split\n",
        "from sklearn.naive_bayes import GaussianNB\n",
        "# X, y = load_iris(return_X_y=True)\n",
        "X_train, X_test, y_train, y_test = train_test_split(aniso[0], aniso[1], test_size=0.5, random_state=0)\n",
        "gnb = GaussianNB()\n",
        "y_pred = gnb.fit(X_train, y_train).predict(X_test)\n",
        "print(\"Number of mislabeled points out of a total %d points : %d\"% (X_test.shape[0], (y_test != y_pred).sum()))\n"
      ]
    },
    {
      "cell_type": "code",
      "execution_count": null,
      "id": "fd6828d2",
      "metadata": {
        "id": "fd6828d2"
      },
      "outputs": [],
      "source": [
        "from sklearn.neighbors import KNeighborsClassifier\n",
        "neigh = KNeighborsClassifier(n_neighbors=3)\n",
        "knn_pred = neigh.fit(X_train, y_train).predict(X_test)"
      ]
    },
    {
      "cell_type": "code",
      "execution_count": null,
      "id": "43b30c03",
      "metadata": {
        "id": "43b30c03",
        "outputId": "0d870507-9144-40c5-9d86-ecacb0b00476",
        "colab": {
          "base_uri": "https://localhost:8080/"
        }
      },
      "outputs": [
        {
          "output_type": "stream",
          "name": "stdout",
          "text": [
            "Number of mislabeled points out of a total 1400 points : 199\n"
          ]
        }
      ],
      "source": [
        "print(\"Number of mislabeled points out of a total %d points : %d\"% (X_test.shape[0], (y_test != knn_pred).sum()))"
      ]
    },
    {
      "cell_type": "markdown",
      "id": "d670e082",
      "metadata": {
        "id": "d670e082"
      },
      "source": [
        "# Implement Gaussian NB"
      ]
    },
    {
      "cell_type": "code",
      "source": [
        "a =np.array([10,20,30,40,50])\n",
        "for i, el in enumerate(a):\n",
        "  print(i, el)"
      ],
      "metadata": {
        "colab": {
          "base_uri": "https://localhost:8080/"
        },
        "id": "461JUCXPHp9_",
        "outputId": "61334b6d-cf5e-457a-ed7e-932c0a0ba594"
      },
      "id": "461JUCXPHp9_",
      "execution_count": null,
      "outputs": [
        {
          "output_type": "stream",
          "name": "stdout",
          "text": [
            "0 10\n",
            "1 20\n",
            "2 30\n",
            "3 40\n",
            "4 50\n"
          ]
        }
      ]
    },
    {
      "cell_type": "code",
      "source": [
        "b = np.array([100,200,300,400,500])\n",
        "for ind, (aa, bb) in enumerate(zip(a,b)):\n",
        "  print(ind, aa,bb)"
      ],
      "metadata": {
        "colab": {
          "base_uri": "https://localhost:8080/"
        },
        "id": "Io-LW0rWH5P2",
        "outputId": "62102f0f-c1e8-4158-88b5-8e5000420f03"
      },
      "id": "Io-LW0rWH5P2",
      "execution_count": null,
      "outputs": [
        {
          "output_type": "stream",
          "name": "stdout",
          "text": [
            "0 10 100\n",
            "1 20 200\n",
            "2 30 300\n",
            "3 40 400\n",
            "4 50 500\n"
          ]
        }
      ]
    },
    {
      "cell_type": "code",
      "execution_count": null,
      "id": "109aa4a4",
      "metadata": {
        "id": "109aa4a4"
      },
      "outputs": [],
      "source": [
        "import numpy as np"
      ]
    },
    {
      "cell_type": "code",
      "execution_count": null,
      "id": "956c32f5",
      "metadata": {
        "id": "956c32f5"
      },
      "outputs": [],
      "source": [
        "class NaiveBayes():\n",
        "    def __init__(self):\n",
        "        self.means = {}\n",
        "        self.stds = {}\n",
        "        self.y_unique = []\n",
        "        self.y_counts = []\n",
        "        self.len_y = 0\n",
        "\n",
        "    def fit(self, X, y):\n",
        "        self.y_unique, self.y_counts = np.unique(y, return_counts=True)\n",
        "        for c in self.y_unique:\n",
        "            self.means[c] = np.array(X[y==c].mean(axis=0))\n",
        "            self.stds[c] = np.array(X[y==0].std(axis=0))\n",
        "        self.len_y = len(y)\n",
        "\n",
        "    def predict(self ,X_test):\n",
        "        y_pred = []\n",
        "        for X_line in X_test:\n",
        "            predicted = {}\n",
        "            for i, c in enumerate(self.y_unique):\n",
        "\n",
        "                probas = 1\n",
        "\n",
        "                for j, (mean, std) in enumerate(zip(self.means[c], self.stds[c])):\n",
        "\n",
        "                    probas = probas * 1/ np.sqrt(2*np.pi*std**2) * np.exp(-(np.array(X_line)[j]-mean)**2/(2*std**2))\n",
        "\n",
        "                probas *= self.y_counts[i]/self.len_y\n",
        "                predicted[c] = probas\n",
        "                lllll;ll\n",
        "\n",
        "            sum_probas =  0\n",
        "\n",
        "            for v in predicted.values():\n",
        "                sum_probas = sum_probas + v\n",
        "\n",
        "\n",
        "            l = []\n",
        "            for v in predicted.values():\n",
        "                v = v /sum_probas\n",
        "                l.append(v)\n",
        "            l = np.array(l).T\n",
        "            cl = np.argmax(l)\n",
        "            y_pred.append(cl)\n",
        "\n",
        "\n",
        "        return np.array(y_pred)\n",
        "\n",
        "    def evaluate(self, X_test, y_test):\n",
        "        y_pred = self.predict(X_test)\n",
        "        accuracy = sum(y_pred == y_test) / len(y_test)\n",
        "        return accuracy"
      ]
    },
    {
      "cell_type": "code",
      "execution_count": null,
      "id": "81df78c7",
      "metadata": {
        "id": "81df78c7"
      },
      "outputs": [],
      "source": [
        "from sklearn.datasets import make_classification"
      ]
    },
    {
      "cell_type": "code",
      "execution_count": null,
      "id": "ffc6d11c",
      "metadata": {
        "id": "ffc6d11c"
      },
      "outputs": [],
      "source": [
        "X, y = make_classification()"
      ]
    },
    {
      "cell_type": "code",
      "source": [
        "X.shape"
      ],
      "metadata": {
        "colab": {
          "base_uri": "https://localhost:8080/"
        },
        "id": "8e8cl-qCC8Nl",
        "outputId": "ad8a9f6d-c3a0-4708-d59e-65058df460f3"
      },
      "id": "8e8cl-qCC8Nl",
      "execution_count": null,
      "outputs": [
        {
          "output_type": "execute_result",
          "data": {
            "text/plain": [
              "(100, 20)"
            ]
          },
          "metadata": {},
          "execution_count": 52
        }
      ]
    },
    {
      "cell_type": "code",
      "source": [
        "y.sum()"
      ],
      "metadata": {
        "colab": {
          "base_uri": "https://localhost:8080/"
        },
        "id": "EzRH5CgnE15j",
        "outputId": "97d3689f-92a4-49c7-806f-57d4627cfce8"
      },
      "id": "EzRH5CgnE15j",
      "execution_count": null,
      "outputs": [
        {
          "output_type": "execute_result",
          "data": {
            "text/plain": [
              "50"
            ]
          },
          "metadata": {},
          "execution_count": 53
        }
      ]
    },
    {
      "cell_type": "code",
      "execution_count": null,
      "id": "308e1fa5",
      "metadata": {
        "id": "308e1fa5"
      },
      "outputs": [],
      "source": [
        "X_train, X_test, y_train, y_test = train_test_split(X, y, test_size=0.33, random_state=42)"
      ]
    },
    {
      "cell_type": "code",
      "execution_count": null,
      "id": "39bfc003",
      "metadata": {
        "id": "39bfc003"
      },
      "outputs": [],
      "source": [
        "NB =  NaiveBayes()"
      ]
    },
    {
      "cell_type": "code",
      "execution_count": null,
      "id": "ceb432e0",
      "metadata": {
        "id": "ceb432e0"
      },
      "outputs": [],
      "source": [
        "NB.fit(X_train, y_train)"
      ]
    },
    {
      "cell_type": "code",
      "execution_count": null,
      "id": "4a38b324",
      "metadata": {
        "id": "4a38b324",
        "outputId": "87dd5a9b-adb4-4209-c549-1839875af4dd",
        "colab": {
          "base_uri": "https://localhost:8080/"
        }
      },
      "outputs": [
        {
          "output_type": "execute_result",
          "data": {
            "text/plain": [
              "{0: array([1.06096304, 0.68234503, 0.96893187, 1.09490407, 0.94034759,\n",
              "        0.87522111, 0.99420293, 0.74121373, 0.83967606, 1.14063363,\n",
              "        1.14834151, 0.85248156, 0.98371956, 0.75207376, 0.92073893,\n",
              "        1.02690769, 1.11661504, 0.77984987, 0.63863226, 0.98355063]),\n",
              " 1: array([1.06096304, 0.68234503, 0.96893187, 1.09490407, 0.94034759,\n",
              "        0.87522111, 0.99420293, 0.74121373, 0.83967606, 1.14063363,\n",
              "        1.14834151, 0.85248156, 0.98371956, 0.75207376, 0.92073893,\n",
              "        1.02690769, 1.11661504, 0.77984987, 0.63863226, 0.98355063])}"
            ]
          },
          "metadata": {},
          "execution_count": 57
        }
      ],
      "source": [
        "NB.stds"
      ]
    },
    {
      "cell_type": "code",
      "execution_count": null,
      "id": "ff35d3b4",
      "metadata": {
        "id": "ff35d3b4",
        "outputId": "547240e4-eeb9-4e1f-f43b-76c0131f03ea",
        "colab": {
          "base_uri": "https://localhost:8080/"
        }
      },
      "outputs": [
        {
          "output_type": "stream",
          "name": "stdout",
          "text": [
            "3.7372844336540935e-15\n",
            "2.559292305671333e-21\n",
            "3.557114053294329e-15\n",
            "2.307007726745825e-21\n",
            "6.566938553253093e-14\n",
            "3.3388571055013406e-16\n",
            "4.830113397933648e-18\n",
            "6.726343169064375e-17\n",
            "2.680326465452385e-11\n",
            "1.6983537345709845e-11\n",
            "4.844718485706189e-14\n",
            "9.21613289101137e-13\n",
            "1.9912514937795595e-12\n",
            "4.839698536174404e-13\n",
            "4.908890492713899e-23\n",
            "2.084075355254557e-17\n",
            "6.367328971365182e-15\n",
            "2.573551134125148e-14\n",
            "8.492502350816425e-16\n",
            "6.37146210411864e-15\n",
            "6.750735137773645e-12\n",
            "3.3033351102546945e-12\n",
            "2.666794563149555e-16\n",
            "3.7647355488776284e-19\n",
            "7.016109712377385e-15\n",
            "3.462086203414638e-17\n",
            "9.61500717395194e-13\n",
            "5.394785029929448e-13\n",
            "8.014420182171112e-23\n",
            "1.5067877257630764e-19\n",
            "2.1014543889847532e-15\n",
            "1.2126471632616392e-14\n",
            "1.4015051178328479e-15\n",
            "4.030660752045296e-18\n",
            "6.059745874324475e-19\n",
            "2.88885635274839e-16\n",
            "1.7114179652901613e-14\n",
            "1.481177677393025e-13\n",
            "7.734585166839233e-15\n",
            "3.459528593354633e-12\n",
            "2.9181707685823065e-14\n",
            "8.374443176662672e-17\n",
            "9.780250989054979e-15\n",
            "5.754504202176953e-14\n",
            "3.36420966320367e-11\n",
            "1.2837447792017016e-14\n",
            "2.2324529495931353e-17\n",
            "4.3399557542451144e-17\n",
            "6.571364283551095e-13\n",
            "1.502212284278802e-14\n",
            "9.595443404990087e-14\n",
            "8.892833458664677e-12\n",
            "3.3697067874704764e-15\n",
            "3.7267698032306603e-16\n",
            "1.2707766811254491e-18\n",
            "1.3513796208226259e-13\n",
            "2.3155115082077366e-16\n",
            "5.251207561595489e-21\n",
            "1.959962900926993e-11\n",
            "7.382219125722266e-15\n",
            "8.529454100864669e-14\n",
            "6.3734522676861665e-12\n",
            "5.730568040718726e-14\n",
            "1.6578868495392745e-12\n",
            "2.5756359115781626e-13\n",
            "4.666268228550914e-14\n"
          ]
        },
        {
          "output_type": "execute_result",
          "data": {
            "text/plain": [
              "array([0, 0, 0, 1, 0, 1, 0, 1, 1, 1, 0, 0, 0, 0, 1, 1, 0, 1, 1, 1, 0, 1,\n",
              "       0, 1, 0, 1, 0, 1, 0, 0, 1, 1, 0])"
            ]
          },
          "metadata": {},
          "execution_count": 58
        }
      ],
      "source": [
        "# X_test_line  = X_test[27]\n",
        "NB.predict(X_test)"
      ]
    },
    {
      "cell_type": "code",
      "execution_count": null,
      "id": "016d4a9f",
      "metadata": {
        "id": "016d4a9f",
        "outputId": "6f45a7a3-f10a-4d04-a5d1-a0b5f34962c9",
        "colab": {
          "base_uri": "https://localhost:8080/"
        }
      },
      "outputs": [
        {
          "output_type": "execute_result",
          "data": {
            "text/plain": [
              "0.9393939393939394"
            ]
          },
          "metadata": {},
          "execution_count": 33
        }
      ],
      "source": [
        "NB.evaluate(X_test, y_test)"
      ]
    },
    {
      "cell_type": "code",
      "execution_count": null,
      "id": "42c0773b",
      "metadata": {
        "id": "42c0773b",
        "outputId": "9f8ab333-fbfa-42f9-8b8a-2048b0c10945",
        "colab": {
          "base_uri": "https://localhost:8080/"
        }
      },
      "outputs": [
        {
          "output_type": "execute_result",
          "data": {
            "text/plain": [
              "1"
            ]
          },
          "metadata": {},
          "execution_count": 34
        }
      ],
      "source": [
        "y_test[27]"
      ]
    },
    {
      "cell_type": "markdown",
      "id": "15f017c1",
      "metadata": {
        "id": "15f017c1"
      },
      "source": [
        "# IRIS DATASET"
      ]
    },
    {
      "cell_type": "code",
      "execution_count": null,
      "id": "31b31b9d",
      "metadata": {
        "id": "31b31b9d"
      },
      "outputs": [],
      "source": [
        "dataset = datasets.load_iris()"
      ]
    },
    {
      "cell_type": "code",
      "execution_count": null,
      "id": "cee44155",
      "metadata": {
        "id": "cee44155",
        "outputId": "a1905245-9b70-459e-95eb-c36499d5726f",
        "colab": {
          "base_uri": "https://localhost:8080/"
        }
      },
      "outputs": [
        {
          "output_type": "execute_result",
          "data": {
            "text/plain": [
              "{'data': array([[5.1, 3.5, 1.4, 0.2],\n",
              "        [4.9, 3. , 1.4, 0.2],\n",
              "        [4.7, 3.2, 1.3, 0.2],\n",
              "        [4.6, 3.1, 1.5, 0.2],\n",
              "        [5. , 3.6, 1.4, 0.2],\n",
              "        [5.4, 3.9, 1.7, 0.4],\n",
              "        [4.6, 3.4, 1.4, 0.3],\n",
              "        [5. , 3.4, 1.5, 0.2],\n",
              "        [4.4, 2.9, 1.4, 0.2],\n",
              "        [4.9, 3.1, 1.5, 0.1],\n",
              "        [5.4, 3.7, 1.5, 0.2],\n",
              "        [4.8, 3.4, 1.6, 0.2],\n",
              "        [4.8, 3. , 1.4, 0.1],\n",
              "        [4.3, 3. , 1.1, 0.1],\n",
              "        [5.8, 4. , 1.2, 0.2],\n",
              "        [5.7, 4.4, 1.5, 0.4],\n",
              "        [5.4, 3.9, 1.3, 0.4],\n",
              "        [5.1, 3.5, 1.4, 0.3],\n",
              "        [5.7, 3.8, 1.7, 0.3],\n",
              "        [5.1, 3.8, 1.5, 0.3],\n",
              "        [5.4, 3.4, 1.7, 0.2],\n",
              "        [5.1, 3.7, 1.5, 0.4],\n",
              "        [4.6, 3.6, 1. , 0.2],\n",
              "        [5.1, 3.3, 1.7, 0.5],\n",
              "        [4.8, 3.4, 1.9, 0.2],\n",
              "        [5. , 3. , 1.6, 0.2],\n",
              "        [5. , 3.4, 1.6, 0.4],\n",
              "        [5.2, 3.5, 1.5, 0.2],\n",
              "        [5.2, 3.4, 1.4, 0.2],\n",
              "        [4.7, 3.2, 1.6, 0.2],\n",
              "        [4.8, 3.1, 1.6, 0.2],\n",
              "        [5.4, 3.4, 1.5, 0.4],\n",
              "        [5.2, 4.1, 1.5, 0.1],\n",
              "        [5.5, 4.2, 1.4, 0.2],\n",
              "        [4.9, 3.1, 1.5, 0.2],\n",
              "        [5. , 3.2, 1.2, 0.2],\n",
              "        [5.5, 3.5, 1.3, 0.2],\n",
              "        [4.9, 3.6, 1.4, 0.1],\n",
              "        [4.4, 3. , 1.3, 0.2],\n",
              "        [5.1, 3.4, 1.5, 0.2],\n",
              "        [5. , 3.5, 1.3, 0.3],\n",
              "        [4.5, 2.3, 1.3, 0.3],\n",
              "        [4.4, 3.2, 1.3, 0.2],\n",
              "        [5. , 3.5, 1.6, 0.6],\n",
              "        [5.1, 3.8, 1.9, 0.4],\n",
              "        [4.8, 3. , 1.4, 0.3],\n",
              "        [5.1, 3.8, 1.6, 0.2],\n",
              "        [4.6, 3.2, 1.4, 0.2],\n",
              "        [5.3, 3.7, 1.5, 0.2],\n",
              "        [5. , 3.3, 1.4, 0.2],\n",
              "        [7. , 3.2, 4.7, 1.4],\n",
              "        [6.4, 3.2, 4.5, 1.5],\n",
              "        [6.9, 3.1, 4.9, 1.5],\n",
              "        [5.5, 2.3, 4. , 1.3],\n",
              "        [6.5, 2.8, 4.6, 1.5],\n",
              "        [5.7, 2.8, 4.5, 1.3],\n",
              "        [6.3, 3.3, 4.7, 1.6],\n",
              "        [4.9, 2.4, 3.3, 1. ],\n",
              "        [6.6, 2.9, 4.6, 1.3],\n",
              "        [5.2, 2.7, 3.9, 1.4],\n",
              "        [5. , 2. , 3.5, 1. ],\n",
              "        [5.9, 3. , 4.2, 1.5],\n",
              "        [6. , 2.2, 4. , 1. ],\n",
              "        [6.1, 2.9, 4.7, 1.4],\n",
              "        [5.6, 2.9, 3.6, 1.3],\n",
              "        [6.7, 3.1, 4.4, 1.4],\n",
              "        [5.6, 3. , 4.5, 1.5],\n",
              "        [5.8, 2.7, 4.1, 1. ],\n",
              "        [6.2, 2.2, 4.5, 1.5],\n",
              "        [5.6, 2.5, 3.9, 1.1],\n",
              "        [5.9, 3.2, 4.8, 1.8],\n",
              "        [6.1, 2.8, 4. , 1.3],\n",
              "        [6.3, 2.5, 4.9, 1.5],\n",
              "        [6.1, 2.8, 4.7, 1.2],\n",
              "        [6.4, 2.9, 4.3, 1.3],\n",
              "        [6.6, 3. , 4.4, 1.4],\n",
              "        [6.8, 2.8, 4.8, 1.4],\n",
              "        [6.7, 3. , 5. , 1.7],\n",
              "        [6. , 2.9, 4.5, 1.5],\n",
              "        [5.7, 2.6, 3.5, 1. ],\n",
              "        [5.5, 2.4, 3.8, 1.1],\n",
              "        [5.5, 2.4, 3.7, 1. ],\n",
              "        [5.8, 2.7, 3.9, 1.2],\n",
              "        [6. , 2.7, 5.1, 1.6],\n",
              "        [5.4, 3. , 4.5, 1.5],\n",
              "        [6. , 3.4, 4.5, 1.6],\n",
              "        [6.7, 3.1, 4.7, 1.5],\n",
              "        [6.3, 2.3, 4.4, 1.3],\n",
              "        [5.6, 3. , 4.1, 1.3],\n",
              "        [5.5, 2.5, 4. , 1.3],\n",
              "        [5.5, 2.6, 4.4, 1.2],\n",
              "        [6.1, 3. , 4.6, 1.4],\n",
              "        [5.8, 2.6, 4. , 1.2],\n",
              "        [5. , 2.3, 3.3, 1. ],\n",
              "        [5.6, 2.7, 4.2, 1.3],\n",
              "        [5.7, 3. , 4.2, 1.2],\n",
              "        [5.7, 2.9, 4.2, 1.3],\n",
              "        [6.2, 2.9, 4.3, 1.3],\n",
              "        [5.1, 2.5, 3. , 1.1],\n",
              "        [5.7, 2.8, 4.1, 1.3],\n",
              "        [6.3, 3.3, 6. , 2.5],\n",
              "        [5.8, 2.7, 5.1, 1.9],\n",
              "        [7.1, 3. , 5.9, 2.1],\n",
              "        [6.3, 2.9, 5.6, 1.8],\n",
              "        [6.5, 3. , 5.8, 2.2],\n",
              "        [7.6, 3. , 6.6, 2.1],\n",
              "        [4.9, 2.5, 4.5, 1.7],\n",
              "        [7.3, 2.9, 6.3, 1.8],\n",
              "        [6.7, 2.5, 5.8, 1.8],\n",
              "        [7.2, 3.6, 6.1, 2.5],\n",
              "        [6.5, 3.2, 5.1, 2. ],\n",
              "        [6.4, 2.7, 5.3, 1.9],\n",
              "        [6.8, 3. , 5.5, 2.1],\n",
              "        [5.7, 2.5, 5. , 2. ],\n",
              "        [5.8, 2.8, 5.1, 2.4],\n",
              "        [6.4, 3.2, 5.3, 2.3],\n",
              "        [6.5, 3. , 5.5, 1.8],\n",
              "        [7.7, 3.8, 6.7, 2.2],\n",
              "        [7.7, 2.6, 6.9, 2.3],\n",
              "        [6. , 2.2, 5. , 1.5],\n",
              "        [6.9, 3.2, 5.7, 2.3],\n",
              "        [5.6, 2.8, 4.9, 2. ],\n",
              "        [7.7, 2.8, 6.7, 2. ],\n",
              "        [6.3, 2.7, 4.9, 1.8],\n",
              "        [6.7, 3.3, 5.7, 2.1],\n",
              "        [7.2, 3.2, 6. , 1.8],\n",
              "        [6.2, 2.8, 4.8, 1.8],\n",
              "        [6.1, 3. , 4.9, 1.8],\n",
              "        [6.4, 2.8, 5.6, 2.1],\n",
              "        [7.2, 3. , 5.8, 1.6],\n",
              "        [7.4, 2.8, 6.1, 1.9],\n",
              "        [7.9, 3.8, 6.4, 2. ],\n",
              "        [6.4, 2.8, 5.6, 2.2],\n",
              "        [6.3, 2.8, 5.1, 1.5],\n",
              "        [6.1, 2.6, 5.6, 1.4],\n",
              "        [7.7, 3. , 6.1, 2.3],\n",
              "        [6.3, 3.4, 5.6, 2.4],\n",
              "        [6.4, 3.1, 5.5, 1.8],\n",
              "        [6. , 3. , 4.8, 1.8],\n",
              "        [6.9, 3.1, 5.4, 2.1],\n",
              "        [6.7, 3.1, 5.6, 2.4],\n",
              "        [6.9, 3.1, 5.1, 2.3],\n",
              "        [5.8, 2.7, 5.1, 1.9],\n",
              "        [6.8, 3.2, 5.9, 2.3],\n",
              "        [6.7, 3.3, 5.7, 2.5],\n",
              "        [6.7, 3. , 5.2, 2.3],\n",
              "        [6.3, 2.5, 5. , 1.9],\n",
              "        [6.5, 3. , 5.2, 2. ],\n",
              "        [6.2, 3.4, 5.4, 2.3],\n",
              "        [5.9, 3. , 5.1, 1.8]]),\n",
              " 'target': array([0, 0, 0, 0, 0, 0, 0, 0, 0, 0, 0, 0, 0, 0, 0, 0, 0, 0, 0, 0, 0, 0,\n",
              "        0, 0, 0, 0, 0, 0, 0, 0, 0, 0, 0, 0, 0, 0, 0, 0, 0, 0, 0, 0, 0, 0,\n",
              "        0, 0, 0, 0, 0, 0, 1, 1, 1, 1, 1, 1, 1, 1, 1, 1, 1, 1, 1, 1, 1, 1,\n",
              "        1, 1, 1, 1, 1, 1, 1, 1, 1, 1, 1, 1, 1, 1, 1, 1, 1, 1, 1, 1, 1, 1,\n",
              "        1, 1, 1, 1, 1, 1, 1, 1, 1, 1, 1, 1, 2, 2, 2, 2, 2, 2, 2, 2, 2, 2,\n",
              "        2, 2, 2, 2, 2, 2, 2, 2, 2, 2, 2, 2, 2, 2, 2, 2, 2, 2, 2, 2, 2, 2,\n",
              "        2, 2, 2, 2, 2, 2, 2, 2, 2, 2, 2, 2, 2, 2, 2, 2, 2, 2]),\n",
              " 'frame': None,\n",
              " 'target_names': array(['setosa', 'versicolor', 'virginica'], dtype='<U10'),\n",
              " 'DESCR': '.. _iris_dataset:\\n\\nIris plants dataset\\n--------------------\\n\\n**Data Set Characteristics:**\\n\\n    :Number of Instances: 150 (50 in each of three classes)\\n    :Number of Attributes: 4 numeric, predictive attributes and the class\\n    :Attribute Information:\\n        - sepal length in cm\\n        - sepal width in cm\\n        - petal length in cm\\n        - petal width in cm\\n        - class:\\n                - Iris-Setosa\\n                - Iris-Versicolour\\n                - Iris-Virginica\\n                \\n    :Summary Statistics:\\n\\n    ============== ==== ==== ======= ===== ====================\\n                    Min  Max   Mean    SD   Class Correlation\\n    ============== ==== ==== ======= ===== ====================\\n    sepal length:   4.3  7.9   5.84   0.83    0.7826\\n    sepal width:    2.0  4.4   3.05   0.43   -0.4194\\n    petal length:   1.0  6.9   3.76   1.76    0.9490  (high!)\\n    petal width:    0.1  2.5   1.20   0.76    0.9565  (high!)\\n    ============== ==== ==== ======= ===== ====================\\n\\n    :Missing Attribute Values: None\\n    :Class Distribution: 33.3% for each of 3 classes.\\n    :Creator: R.A. Fisher\\n    :Donor: Michael Marshall (MARSHALL%PLU@io.arc.nasa.gov)\\n    :Date: July, 1988\\n\\nThe famous Iris database, first used by Sir R.A. Fisher. The dataset is taken\\nfrom Fisher\\'s paper. Note that it\\'s the same as in R, but not as in the UCI\\nMachine Learning Repository, which has two wrong data points.\\n\\nThis is perhaps the best known database to be found in the\\npattern recognition literature.  Fisher\\'s paper is a classic in the field and\\nis referenced frequently to this day.  (See Duda & Hart, for example.)  The\\ndata set contains 3 classes of 50 instances each, where each class refers to a\\ntype of iris plant.  One class is linearly separable from the other 2; the\\nlatter are NOT linearly separable from each other.\\n\\n.. topic:: References\\n\\n   - Fisher, R.A. \"The use of multiple measurements in taxonomic problems\"\\n     Annual Eugenics, 7, Part II, 179-188 (1936); also in \"Contributions to\\n     Mathematical Statistics\" (John Wiley, NY, 1950).\\n   - Duda, R.O., & Hart, P.E. (1973) Pattern Classification and Scene Analysis.\\n     (Q327.D83) John Wiley & Sons.  ISBN 0-471-22361-1.  See page 218.\\n   - Dasarathy, B.V. (1980) \"Nosing Around the Neighborhood: A New System\\n     Structure and Classification Rule for Recognition in Partially Exposed\\n     Environments\".  IEEE Transactions on Pattern Analysis and Machine\\n     Intelligence, Vol. PAMI-2, No. 1, 67-71.\\n   - Gates, G.W. (1972) \"The Reduced Nearest Neighbor Rule\".  IEEE Transactions\\n     on Information Theory, May 1972, 431-433.\\n   - See also: 1988 MLC Proceedings, 54-64.  Cheeseman et al\"s AUTOCLASS II\\n     conceptual clustering system finds 3 classes in the data.\\n   - Many, many more ...',\n",
              " 'feature_names': ['sepal length (cm)',\n",
              "  'sepal width (cm)',\n",
              "  'petal length (cm)',\n",
              "  'petal width (cm)'],\n",
              " 'filename': 'iris.csv',\n",
              " 'data_module': 'sklearn.datasets.data'}"
            ]
          },
          "metadata": {},
          "execution_count": 36
        }
      ],
      "source": [
        "dataset"
      ]
    },
    {
      "cell_type": "code",
      "execution_count": null,
      "id": "464fb664",
      "metadata": {
        "id": "464fb664"
      },
      "outputs": [],
      "source": [
        "X_train_iris, X_test_iris, y_train_iris, y_test_iris = train_test_split(dataset['data'], dataset['target'], test_size=0.33, random_state=42)"
      ]
    },
    {
      "cell_type": "code",
      "execution_count": null,
      "id": "6b63e346",
      "metadata": {
        "id": "6b63e346"
      },
      "outputs": [],
      "source": [
        "NB_iris =  NaiveBayes()"
      ]
    },
    {
      "cell_type": "code",
      "execution_count": null,
      "id": "93f853d0",
      "metadata": {
        "id": "93f853d0"
      },
      "outputs": [],
      "source": [
        "NB_iris.fit(X_train_iris, y_train_iris)"
      ]
    },
    {
      "cell_type": "code",
      "execution_count": null,
      "id": "5dcf2923",
      "metadata": {
        "id": "5dcf2923",
        "outputId": "1f8367e3-bdfa-4a73-bdb9-7319a31ae5bf",
        "colab": {
          "base_uri": "https://localhost:8080/"
        }
      },
      "outputs": [
        {
          "output_type": "execute_result",
          "data": {
            "text/plain": [
              "0.98"
            ]
          },
          "metadata": {},
          "execution_count": 46
        }
      ],
      "source": [
        "NB_iris.evaluate(X_test_iris, y_test_iris)"
      ]
    },
    {
      "cell_type": "code",
      "execution_count": null,
      "id": "dc082e2e",
      "metadata": {
        "id": "dc082e2e"
      },
      "outputs": [],
      "source": [
        "\n",
        "NB_iris =  NaiveBayes()\n",
        "NB_iris.fit(X_train_iris[:,[2,3]], y_train_iris)"
      ]
    },
    {
      "cell_type": "code",
      "execution_count": null,
      "id": "59ae5392",
      "metadata": {
        "id": "59ae5392",
        "outputId": "c7f6ba24-4d22-4acd-a427-3bf7c301d74c",
        "colab": {
          "base_uri": "https://localhost:8080/",
          "height": 452
        }
      },
      "outputs": [
        {
          "output_type": "execute_result",
          "data": {
            "text/plain": [
              "<Axes: >"
            ]
          },
          "metadata": {},
          "execution_count": 48
        },
        {
          "output_type": "display_data",
          "data": {
            "text/plain": [
              "<Figure size 640x480 with 1 Axes>"
            ],
            "image/png": "[encoded data removed]"
          },
          "metadata": {}
        }
      ],
      "source": [
        "from mlxtend.plotting import plot_decision_regions\n",
        "plot_decision_regions(X=X_test_iris[:,[2,3]], y=y_test_iris, clf=NB_iris, legend=2)"
      ]
    },
    {
      "cell_type": "code",
      "execution_count": null,
      "id": "6a6b1933",
      "metadata": {
        "id": "6a6b1933"
      },
      "outputs": [],
      "source": []
    }
  ],
  "metadata": {
    "kernelspec": {
      "display_name": "Python 3 (ipykernel)",
      "language": "python",
      "name": "python3"
    },
    "language_info": {
      "codemirror_mode": {
        "name": "ipython",
        "version": 3
      },
      "file_extension": ".py",
      "mimetype": "text/x-python",
      "name": "python",
      "nbconvert_exporter": "python",
      "pygments_lexer": "ipython3",
      "version": "3.10.6"
    },
    "colab": {
      "provenance": []
    }
  },
  "nbformat": 4,
  "nbformat_minor": 5
}